{
 "cells": [
  {
   "cell_type": "code",
   "execution_count": 4,
   "metadata": {},
   "outputs": [],
   "source": [
    "import pandas as pd"
   ]
  },
  {
   "cell_type": "code",
   "execution_count": 5,
   "metadata": {},
   "outputs": [],
   "source": [
    "df = pd.read_csv(\"../00_data/Sentiment_Only_Data_22MAR.gz\")"
   ]
  },
  {
   "cell_type": "code",
   "execution_count": 7,
   "metadata": {},
   "outputs": [],
   "source": [
    "df = df.drop(['Unnamed: 0','Unnamed: 0.1','Index'],axis=1)"
   ]
  },
  {
   "cell_type": "code",
   "execution_count": null,
   "metadata": {},
   "outputs": [],
   "source": []
  },
  {
   "cell_type": "code",
   "execution_count": 9,
   "metadata": {},
   "outputs": [
    {
     "name": "stdout",
     "output_type": "stream",
     "text": [
      "<class 'pandas.core.frame.DataFrame'>\n",
      "RangeIndex: 20793 entries, 0 to 20792\n",
      "Data columns (total 26 columns):\n",
      " #   Column                                     Non-Null Count  Dtype  \n",
      "---  ------                                     --------------  -----  \n",
      " 0   Unnamed: 0                                 20793 non-null  int64  \n",
      " 1   Unnamed: 0.1                               20793 non-null  int64  \n",
      " 2   Index                                      20793 non-null  int64  \n",
      " 3   videoID                                    20793 non-null  object \n",
      " 4   datePub                                    20793 non-null  object \n",
      " 5   searchedDate                               20793 non-null  object \n",
      " 6   VideoTitle                                 20793 non-null  object \n",
      " 7   channelTitle                               20793 non-null  object \n",
      " 8   viewCount                                  20793 non-null  int64  \n",
      " 9   likeCount                                  20793 non-null  int64  \n",
      " 10  dislikeCount                               20793 non-null  int64  \n",
      " 11  captionString                              16752 non-null  object \n",
      " 12  videoTitleSentimentScore_pos               20793 non-null  float64\n",
      " 13  videoTitleSentimentScore_neg               20793 non-null  float64\n",
      " 14  captionSentimentScore_pos                  20793 non-null  float64\n",
      " 15  captionSentimentScore_neg                  20793 non-null  float64\n",
      " 16  captionSentimentScore_com                  20793 non-null  float64\n",
      " 17  videoTitleSentimentScore_com               20793 non-null  float64\n",
      " 18  num_days_since_pub                         20793 non-null  float64\n",
      " 19  viewcounts_weighted                        20793 non-null  float64\n",
      " 20  like_count_weighted                        20793 non-null  float64\n",
      " 21  dislike_count_weighted                     20793 non-null  float64\n",
      " 22  like_dislike_ratio                         20793 non-null  float64\n",
      " 23  weighted_like_dislike_ratio                20793 non-null  float64\n",
      " 24  like_dislike_ratio_by_viewcounts_weighted  20793 non-null  float64\n",
      " 25  Date                                       20793 non-null  object \n",
      "dtypes: float64(13), int64(6), object(7)\n",
      "memory usage: 4.1+ MB\n"
     ]
    }
   ],
   "source": [
    "df.info()"
   ]
  },
  {
   "cell_type": "code",
   "execution_count": null,
   "metadata": {},
   "outputs": [],
   "source": []
  }
 ],
 "metadata": {
  "kernelspec": {
   "display_name": "Python 3",
   "language": "python",
   "name": "python3"
  },
  "language_info": {
   "codemirror_mode": {
    "name": "ipython",
    "version": 3
   },
   "file_extension": ".py",
   "mimetype": "text/x-python",
   "name": "python",
   "nbconvert_exporter": "python",
   "pygments_lexer": "ipython3",
   "version": "3.7.3"
  }
 },
 "nbformat": 4,
 "nbformat_minor": 2
}
