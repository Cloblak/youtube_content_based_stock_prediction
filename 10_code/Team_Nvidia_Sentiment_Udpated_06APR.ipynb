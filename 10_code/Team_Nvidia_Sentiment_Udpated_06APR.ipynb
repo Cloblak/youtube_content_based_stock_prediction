{
 "cells": [
  {
   "cell_type": "code",
   "execution_count": 1,
   "metadata": {},
   "outputs": [],
   "source": [
    "%load_ext lab_black"
   ]
  },
  {
   "cell_type": "code",
   "execution_count": 1,
   "metadata": {},
   "outputs": [],
   "source": [
    "import pandas as pd\n",
    "from nltk import tokenize\n",
    "import boto3\n",
    "import botocore\n",
    "from datetime import datetime\n",
    "import matplotlib.pylab as plt\n",
    "import yfinance as yf\n",
    "import re\n",
    "import nltk\n",
    "from nltk.sentiment.vader import SentimentIntensityAnalyzer\n",
    "from nltk.corpus import stopwords\n",
    "from numba import jit, prange"
   ]
  },
  {
   "cell_type": "code",
   "execution_count": 2,
   "metadata": {},
   "outputs": [
    {
     "name": "stdout",
     "output_type": "stream",
     "text": [
      "2021-03-10 10:31:53,031 loading file C:\\Users\\Chris\\.flair\\models\\sentiment-en-mix-distillbert_3.1.pt\n"
     ]
    }
   ],
   "source": [
    "# Load appropriate packages for sentiment analysis\n",
    "from flair.models import TextClassifier\n",
    "from flair.models import SequenceTagger\n",
    "from flair.data import Sentence\n",
    "from segtok.segmenter import split_single\n",
    "import pandas as pd\n",
    "import re\n",
    "\n",
    "\n",
    "classifier = TextClassifier.load(\"en-sentiment\")"
   ]
  },
  {
   "cell_type": "code",
   "execution_count": 7,
   "metadata": {},
   "outputs": [],
   "source": [
    "nvidia_cleaned_df = pd.read_csv(\"../00_data/Cleaned_Data_10MAR.gz\", compression=\"gzip\")"
   ]
  },
  {
   "cell_type": "code",
   "execution_count": 8,
   "metadata": {},
   "outputs": [],
   "source": [
    "nvidia_cleaned_df[\"VideoTitle\"] = nvidia_cleaned_df[\"VideoTitle\"].astype(\"str\")\n",
    "nvidia_cleaned_df[\"datePub\"] = pd.to_datetime(\n",
    "    nvidia_cleaned_df[\"datePub\"], format=\"%Y-%m-%d %H:%M:%S\", utc=True\n",
    ")\n",
    "nvidia_cleaned_df[\"searchedDate\"] = pd.to_datetime(\n",
    "    nvidia_cleaned_df[\"searchedDate\"], format=\"%Y-%m-%d %H:%M:%S\", utc=True\n",
    ")\n",
    "nvidia_cleaned_df[\"channelTitle\"] = nvidia_cleaned_df[\"channelTitle\"].astype(\"str\")\n",
    "nvidia_cleaned_df[\"viewCount\"] = nvidia_cleaned_df[\"viewCount\"].astype(\"int\")\n",
    "nvidia_cleaned_df[\"likeCount\"] = nvidia_cleaned_df[\"likeCount\"].astype(\"int\")\n",
    "nvidia_cleaned_df[\"dislikeCount\"] = nvidia_cleaned_df[\"dislikeCount\"].astype(\"int\")\n",
    "nvidia_cleaned_df[\"captionString\"] = nvidia_cleaned_df[\"captionString\"].astype(\"str\")"
   ]
  },
  {
   "cell_type": "code",
   "execution_count": 9,
   "metadata": {},
   "outputs": [
    {
     "data": {
      "text/plain": [
       "Unnamed: 0                     int64\n",
       "Index                          int64\n",
       "videoID                       object\n",
       "datePub          datetime64[ns, UTC]\n",
       "searchedDate     datetime64[ns, UTC]\n",
       "VideoTitle                    object\n",
       "channelTitle                  object\n",
       "viewCount                      int32\n",
       "likeCount                      int32\n",
       "dislikeCount                   int32\n",
       "captionString                 object\n",
       "dtype: object"
      ]
     },
     "execution_count": 9,
     "metadata": {},
     "output_type": "execute_result"
    }
   ],
   "source": [
    "nvidia_cleaned_df.dtypes"
   ]
  },
  {
   "cell_type": "code",
   "execution_count": 10,
   "metadata": {},
   "outputs": [
    {
     "data": {
      "text/html": [
       "<div>\n",
       "<style scoped>\n",
       "    .dataframe tbody tr th:only-of-type {\n",
       "        vertical-align: middle;\n",
       "    }\n",
       "\n",
       "    .dataframe tbody tr th {\n",
       "        vertical-align: top;\n",
       "    }\n",
       "\n",
       "    .dataframe thead th {\n",
       "        text-align: right;\n",
       "    }\n",
       "</style>\n",
       "<table border=\"1\" class=\"dataframe\">\n",
       "  <thead>\n",
       "    <tr style=\"text-align: right;\">\n",
       "      <th></th>\n",
       "      <th>Unnamed: 0</th>\n",
       "      <th>Index</th>\n",
       "      <th>videoID</th>\n",
       "      <th>datePub</th>\n",
       "      <th>searchedDate</th>\n",
       "      <th>VideoTitle</th>\n",
       "      <th>channelTitle</th>\n",
       "      <th>viewCount</th>\n",
       "      <th>likeCount</th>\n",
       "      <th>dislikeCount</th>\n",
       "      <th>captionString</th>\n",
       "    </tr>\n",
       "  </thead>\n",
       "  <tbody>\n",
       "    <tr>\n",
       "      <th>0</th>\n",
       "      <td>0</td>\n",
       "      <td>0</td>\n",
       "      <td>y4fb_R5Ogw0</td>\n",
       "      <td>2020-10-01 05:16:02+00:00</td>\n",
       "      <td>2020-10-02 01:45:21.553469+00:00</td>\n",
       "      <td>2x NVIDIA RTX 3090 SLI Benchmarks: 500FPS, 700...</td>\n",
       "      <td>Gamers Nexus</td>\n",
       "      <td>367472</td>\n",
       "      <td>15701</td>\n",
       "      <td>260</td>\n",
       "      <td>so this setup that you're seeing is what we ha...</td>\n",
       "    </tr>\n",
       "    <tr>\n",
       "      <th>1</th>\n",
       "      <td>1</td>\n",
       "      <td>1</td>\n",
       "      <td>ALEXVtnNEwA</td>\n",
       "      <td>2020-09-01 17:15:57+00:00</td>\n",
       "      <td>2020-10-02 01:45:22.351801+00:00</td>\n",
       "      <td>NVIDIA GeForce Special Event Livestream</td>\n",
       "      <td>IGN</td>\n",
       "      <td>543115</td>\n",
       "      <td>16860</td>\n",
       "      <td>411</td>\n",
       "      <td>b welcome to my kitchen i hope all of you are ...</td>\n",
       "    </tr>\n",
       "    <tr>\n",
       "      <th>2</th>\n",
       "      <td>2</td>\n",
       "      <td>2</td>\n",
       "      <td>E98hC9e__Xs</td>\n",
       "      <td>2020-09-01 16:42:07+00:00</td>\n",
       "      <td>2020-10-02 01:45:23.252012+00:00</td>\n",
       "      <td>NVIDIA GeForce RTX 30 Series | Official Launch...</td>\n",
       "      <td>NVIDIA GeForce</td>\n",
       "      <td>1484075</td>\n",
       "      <td>54741</td>\n",
       "      <td>1135</td>\n",
       "      <td>Welcome to my kitchen. I hope all of you are...</td>\n",
       "    </tr>\n",
       "    <tr>\n",
       "      <th>3</th>\n",
       "      <td>3</td>\n",
       "      <td>3</td>\n",
       "      <td>nMns8t4OhI0</td>\n",
       "      <td>2020-09-30 23:00:06+00:00</td>\n",
       "      <td>2020-10-02 01:45:23.922084+00:00</td>\n",
       "      <td>NVIDIA Responds to RTX 3080 Crashes...</td>\n",
       "      <td>JayzTwoCents</td>\n",
       "      <td>561238</td>\n",
       "      <td>27766</td>\n",
       "      <td>885</td>\n",
       "      <td>nan</td>\n",
       "    </tr>\n",
       "    <tr>\n",
       "      <th>4</th>\n",
       "      <td>4</td>\n",
       "      <td>4</td>\n",
       "      <td>AG_ZHi3tuyk</td>\n",
       "      <td>2020-09-16 12:59:59+00:00</td>\n",
       "      <td>2020-10-02 01:45:24.592244+00:00</td>\n",
       "      <td>Nvidia, you PROMISED! - RTX 3080 Review</td>\n",
       "      <td>Linus Tech Tips</td>\n",
       "      <td>3391565</td>\n",
       "      <td>141852</td>\n",
       "      <td>3961</td>\n",
       "      <td>- The RTX 3080 is the most powerful GPU we've ...</td>\n",
       "    </tr>\n",
       "  </tbody>\n",
       "</table>\n",
       "</div>"
      ],
      "text/plain": [
       "   Unnamed: 0  Index      videoID                   datePub  \\\n",
       "0           0      0  y4fb_R5Ogw0 2020-10-01 05:16:02+00:00   \n",
       "1           1      1  ALEXVtnNEwA 2020-09-01 17:15:57+00:00   \n",
       "2           2      2  E98hC9e__Xs 2020-09-01 16:42:07+00:00   \n",
       "3           3      3  nMns8t4OhI0 2020-09-30 23:00:06+00:00   \n",
       "4           4      4  AG_ZHi3tuyk 2020-09-16 12:59:59+00:00   \n",
       "\n",
       "                      searchedDate  \\\n",
       "0 2020-10-02 01:45:21.553469+00:00   \n",
       "1 2020-10-02 01:45:22.351801+00:00   \n",
       "2 2020-10-02 01:45:23.252012+00:00   \n",
       "3 2020-10-02 01:45:23.922084+00:00   \n",
       "4 2020-10-02 01:45:24.592244+00:00   \n",
       "\n",
       "                                          VideoTitle     channelTitle  \\\n",
       "0  2x NVIDIA RTX 3090 SLI Benchmarks: 500FPS, 700...     Gamers Nexus   \n",
       "1            NVIDIA GeForce Special Event Livestream              IGN   \n",
       "2  NVIDIA GeForce RTX 30 Series | Official Launch...   NVIDIA GeForce   \n",
       "3             NVIDIA Responds to RTX 3080 Crashes...     JayzTwoCents   \n",
       "4            Nvidia, you PROMISED! - RTX 3080 Review  Linus Tech Tips   \n",
       "\n",
       "   viewCount  likeCount  dislikeCount  \\\n",
       "0     367472      15701           260   \n",
       "1     543115      16860           411   \n",
       "2    1484075      54741          1135   \n",
       "3     561238      27766           885   \n",
       "4    3391565     141852          3961   \n",
       "\n",
       "                                       captionString  \n",
       "0  so this setup that you're seeing is what we ha...  \n",
       "1  b welcome to my kitchen i hope all of you are ...  \n",
       "2    Welcome to my kitchen. I hope all of you are...  \n",
       "3                                                nan  \n",
       "4  - The RTX 3080 is the most powerful GPU we've ...  "
      ]
     },
     "execution_count": 10,
     "metadata": {},
     "output_type": "execute_result"
    }
   ],
   "source": [
    "nvidia_cleaned_df.head()"
   ]
  },
  {
   "cell_type": "code",
   "execution_count": 11,
   "metadata": {},
   "outputs": [],
   "source": [
    "nvidia_cleaned_df[\"Date\"] = pd.to_datetime(\n",
    "    nvidia_cleaned_df[\"searchedDate\"], format=\"%Y-%m-%d\", utc=True\n",
    ").dt.date"
   ]
  },
  {
   "cell_type": "markdown",
   "metadata": {},
   "source": [
    "Vader Sentiment"
   ]
  },
  {
   "cell_type": "code",
   "execution_count": 13,
   "metadata": {},
   "outputs": [],
   "source": [
    "# load vader sentiment for comparing the uncleaned strings to the modified ones\n",
    "from nltk.sentiment.vader import SentimentIntensityAnalyzer\n",
    "\n",
    "sid = SentimentIntensityAnalyzer()"
   ]
  },
  {
   "cell_type": "code",
   "execution_count": 14,
   "metadata": {},
   "outputs": [
    {
     "data": {
      "text/plain": [
       "Index(['Unnamed: 0', 'Index', 'videoID', 'datePub', 'searchedDate',\n",
       "       'VideoTitle', 'channelTitle', 'viewCount', 'likeCount', 'dislikeCount',\n",
       "       'captionString', 'Date'],\n",
       "      dtype='object')"
      ]
     },
     "execution_count": 14,
     "metadata": {},
     "output_type": "execute_result"
    }
   ],
   "source": [
    "nvidia_cleaned_df.columns"
   ]
  },
  {
   "cell_type": "code",
   "execution_count": 15,
   "metadata": {},
   "outputs": [
    {
     "name": "stdout",
     "output_type": "stream",
     "text": [
      "Title to score = (clapboard sounds) - Did you guys just seethe same thing I did? RTX 3070 is gonna outperform a 2080Ti at less than half the price, 499. Is Nvidia insane. I mean, even with all of the leaks indicating that Ampere wasgonna be super powerful, I was in no way ready for this, so okay. (sighs) Deep breath, there's alot to get through here, so let's get started. After an F in the chat forany recent 2080Ti buyers. (giggles) Ouch, like dang. Oh and also our sponsor. Ridge Wallet wants to redefine the wallet with its compact frameand RFID blocking plates. Check out how they can helpkeep your wallet bulge down and use our offer code Linus to save 10% and getfree worldwide shipping. (upbeat music) Now, obviously I'm notready to hand Nvidia their crown until we seethe new cards for ourselves. But based on what they've shown, we are in for one heck of a ride. They announced well a lot andwe're gonna get to all of it, but the big one is, Ampere is real and Ampere is an absolute monster. As it turns out, the recentleaks were accurate in many if not most ways. Where Turing based RTX 2000GPUs were manufactured on TSMC's 12 nanometer FinFET process, which was actually derived fromtheir 16 nanometer process, Nvidia instead partnered with Samsung on a custom eight nanometerprocess for the RTX 3000 series. And the difference hereis much bigger than we got moving from Pascal to Turing. Here's the thing, forover three years now, G-Force GPUs have had in the neighborhood of 20 to 25 million transistorsper square millimeter, Ampere around 60 millionper square millimeter, that's over double, and breaking with what'sbecome their habit lately, they didn't just usethis increase in density to lower their own costs and keep selling a similar performance with some new features tacked on. The RTX 3080 boasts over 28 billion that's with a B transistors. What does that get us? Well for starters, PCI Express Gen 4, upgraded Tensor cores and Oh, and casually more thandouble the CUDA cores across the board. And here's the kicker, that'snot compared to the cards that each of the 3000 series GPU replaces, that's compared to theprevious generations step up. I'm not kidding, onpaper every Ampere card that was announced, even the3070 is faster than a 2080Ti. To find the last time that this happened, a third rundown GPU being faster than the previous flagship, I had to dig pretty deepthrough the archives. Here's a review fromAnandTech showing the 6600 GT beating the FX 5950. That was in 2004. And according to Nvidiathings are even better than they seem. They claim we are getting a1.9 times performance per watt improvement, 2.7 timesthe Shader performance, 1.7 times the Ray Tracing performance and 2.7 times the Tensor core performance, which in the real world translates to, sorry, you'll have togive me a second here. One metric, but ton. Nvidia showed another Marbless, fully Ray Traced graphics demo, but while Turing rendered at 720p (disgust) Ampere managed to get 1440pwith more sim complexity, that's huge and while to be fair, they had a little help from DLSS and from a new learningalgorithm that derives missing color data froman incomplete image to improve performance, optimizations as a concept are nothing new and the results here speak for themselves. Nvidia also got a newmemory signaling technique, which carries fourpossible values per cycle compared to only two, effectively doubling theamount of memory bandwidth while also increasing thefrequency significantly. So with the RTX 3080, you're gonna get 10 gigsand it's gonna run 320 Watts of rated power with theRTX 3070 getting 8 gigs of a more traditionalGDDR6 at a mere 220 Watts. Put that in context, a2080Ti was only 250 Watts. (exclaims) And Nvidia claims that that RTX 3070, even though it consumesless power is faster than the $1,200 2080Tiwith the new RTX 3080 doubling the performance of the 2080, and this is that 499 and 699 respectively. There's nothing else I can say. I'm absolutely mind blown. They even light up. But the question is, why? Why after all these yearsof driving GPU prices up has Nvidia decided to bestow upon us these benevolent prices. We've got a couple of theories. One is that RTX 2080 and 2070 sales were something of a disappointment. I mean, it's not thatthey were terrible cards, they just weren't avery compelling upgrade for anyone who already owneda high end 1000 series. So looking back then inwhatever the past version of a crystal ball is, it seems like Nvidia priced Turing high due to uncertain yields with TSMC, and then hoped that RTX Ray Tracing would be enough to carryit to the new price point. So then now, because Samsunghas worked with Nvidia to make this customeight nanometer process, presumably it's more reliable, which means that despitethe cost per wafer, almost certainly beinghigher as they tend to be as we keep shrinking the process lower, they're getting moreusable chips out of them working out to a much lower cost, which is great for consumers. I think it's fair to saythat this is shaping up to be an absolute unicorn of a GPU release. Make sure you guys aresubscribed by the way, so you don't miss our review. And there's also anotherangle to the pricing. With launch date set for theend of Q3 and beginning of Q4, it's pretty clear who Nvidiasees as the real competition for 3000 series. And it's not AMD, or atleast not directly anyway. It's Sony and Microsoftwith the Xbox Series X and PlayStation 5. And by getting outahead of those launches, Nvidia seems to be trying tosteal some of the thunder, hopefully preventing gamersfrom being lured away from PC, where Nvidia dominates overto consoles where they will, I don't know, I guessthere's Nintendo Switch. One big hand here, isthat just like the PS5, the RTX 3000 GPUs have theability to decompress data directly from an SSDattached to the system using direct storage. This means load times can be much shorter and the CPU doesn't need toget bogged down decompressing the gigantic assets thatmake up today's game worlds. Just like on the PlayStation 5 then, developers who leverage this technology can achieve more seamless loading and Asset Streaming thanwas previously possible. It also means that NVMEand even PCI Express Gen 4 might actually become useful for gamers where load times are notoriously CPU bound in spite of the storagespeed of modern systems. Nvidia is also hyper-focusedon content creation here, looking to lure streamersand Machinima enthusiasts with Nvidia Broadcast andNvidia Omniverse Machinima. Nvidia Broadcast includesa number of tools to apply effects to the microphone input, camera and speakers using Tensor cores in what looks like a continuationof what RTX boy started. So in addition to the noiseremoval that was possible before we can now without a green screen, automatically remove backgroundsand apply a blur effect or backdrop and more with whatlooks like very convincing effect compared to current solutions. Nvidia OmniverseMachinima or NOM, I guess, wash it down with a drinkwith our water bottle from lttstore.com. Okay. NOM, lets you importgame libraries and tools, apply materials, physics simulations, poses captured from webcams, automatic facial animationsfrom recorded audio and more to create a wholly unique scene for doing your own Machinima. It's kind of like Ansel, except that you get fullcontrol over the scene instead of just the camera. They provided a prettygreat looking example of a short clip of a siege to give us an idea ofwhat can be accomplished and quite frankly, I wouldn't be surprised ifdevelopers or even animators end up drafting scenesthis way, it's pretty cool. So then RTX 3000 muchless of a middle finger directly to Radeon Technologies Group and much more of a middlefinger to the consoles. Which isn't to say though, that Nvidia hasn't donesome extra credit work against RTG as well. Do you remember Radeon Anti-Lag and how Nvidia originally claimed that it was just a tweak that users could already do to their drivers, and then realized, oops,it's actually something more and then they releasedNvidia Ultra-Low Latency. Well now, they'reputting the cherry on top with what they're calling Nvidia Reflex, a driver path optimization technique that should be available toall GTX 1000 and newer users to reduce total systemlatency by up to roughly half. Now the exact mechanisms thatthey're exploiting to do this are currently unknown, but presumably there's acost of some sort somewhere and you'll probably lose abit of driver level control in the process. Finally, there's the one more thing. RTX 3090 is the formal nameof this generation's Titan. But Jensen lovingly referredto it as the BF GPU. It sucks back a rated 350 Watts, hence the fancy new 12pin power connector, has over 10,000 CUDA coresand 24 gigs of GDDR6X memory and comes in at 1499. Meaning it's certainlypriced like a Titan, but unlike the last coupleof generations of Titans, it also appears to be specked like a Titan and it might even be worththat obscene price tag. They rolled out an LG8K OLED TV to game on and demonstrated 8K 60 FPSgameplay using DLSS and RTX. Not only did the beefed up Tensor cores appear to handle 8K upscalingwithout breaking a sweat, the RTX 3090 can apparentlyeven record 8K HDR gameplay with Shadowplay. In fact, there's bits andpieces in the whole presentation that allude to upgrades across the board. AV1 codex support fordecode is now available and NVENC is presumably no different on the rest of the NPR cards,making 4K HDR Shadowplay a thing now. To go with it, it looks likewe're finally getting HDMI 2.1 and probably more, but we can figure all ofthat out in our review, for now all that's left to say is, \"Boy is it ever good to see the effects of more competition in thegaming hardware space?\" Even if it came from a bitof an unexpected direction. Unlike my sponsor Segways you guys always expect those, this time for FreshBooks. FreshBooks is the small businesscloud accounting solution that's built for owners. With FreshBooks you can work anywhere thanks to their mobile app, allowing you to createprofessional looking invoices in seconds on the go, snappictures of your receipts so you don't lose themand this is new on iOS, even automatically track your mileage so you can be organized and ready to maximize yourdeductions when tax time comes. With FreshBooks, you'llnever miss an update when a client has viewed your invoice or even when it becomesoverdue, it'll let you know, and you can get 50% offyour first three months of FreshBooks when yousign up for a paid plan at freshbooks.com/techtips. If you guys enjoyed this video and you'd like a bit of a refresher on what a bad GPU launch looks like, maybe go check out ourreview of the RTX 2080. It seems like Nvidia has learneda thing or two since then. (upbeat electric music) Or maybe check out our 8K gaming video. That was terrible. That's gonna be way better now. \n",
      "{'neg': 0.037, 'neu': 0.846, 'pos': 0.117, 'compound': 0.9994}\n"
     ]
    }
   ],
   "source": [
    "print(f'Title to score = {nvidia_cleaned_df[\"captionString\"][5]}')\n",
    "score = sid.polarity_scores(str(nvidia_cleaned_df[\"captionString\"][5]))\n",
    "print(score)"
   ]
  },
  {
   "cell_type": "code",
   "execution_count": 16,
   "metadata": {},
   "outputs": [
    {
     "name": "stdout",
     "output_type": "stream",
     "text": [
      "[['I', 'm', 'notready', 'to', 'hand', 'Nvidia', 'their', 'crown', 'until', 'we', 'seethe']]\n"
     ]
    }
   ],
   "source": [
    "# utilize regular expressions to split large stings into sentences that are centered around the key words\n",
    "import re\n",
    "\n",
    "text = \" allet wants to redefine the wallet with its compact frameand RFID blocking plates. Check out how they can helpkeep your wallet bulge down and use our offer code Linus to save 10% and getfree worldwide shipping. (upbeat music) Now, obviously I'm notready to hand Nvidia their crown until we seethe new cards for ourselves. But based on what they've shown, we are in for one heck of a ride. They announced well a lot andwe're gonna get to all of it, but the big one is, Ampere is real and Ampere is an absolute monster. As it turns out, the recentleaks were accurate in many if not most ways.\"\n",
    "\n",
    "\n",
    "def search(target, text, context=6):\n",
    "    # It's easier to use re.findall to split the string,\n",
    "    # as we get rid of the punctuation\n",
    "    words = re.findall(r\"\\w+\", text)\n",
    "\n",
    "    matches = (i for (i, w) in enumerate(words) if w.lower() == target)\n",
    "    for index in matches:\n",
    "        if index < context // 2:\n",
    "            yield words[0 : context + 1]\n",
    "        elif index > len(words) - context // 2 - 1:\n",
    "            yield words[-(context + 1) :]\n",
    "        else:\n",
    "            yield words[index - context // 2 : index + context // 2 + 1]\n",
    "\n",
    "\n",
    "print(list(search(\"nvidia\", text, 10)))"
   ]
  },
  {
   "cell_type": "code",
   "execution_count": 17,
   "metadata": {},
   "outputs": [
    {
     "data": {
      "text/plain": [
       "<generator object search at 0x000001DAA606B200>"
      ]
     },
     "execution_count": 17,
     "metadata": {},
     "output_type": "execute_result"
    }
   ],
   "source": [
    "search(\"nvidia\", text, 15)"
   ]
  },
  {
   "cell_type": "code",
   "execution_count": 18,
   "metadata": {},
   "outputs": [
    {
     "data": {
      "text/plain": [
       "[['save',\n",
       "  '10',\n",
       "  'and',\n",
       "  'getfree',\n",
       "  'worldwide',\n",
       "  'shipping',\n",
       "  'upbeat',\n",
       "  'music',\n",
       "  'Now',\n",
       "  'obviously',\n",
       "  'I',\n",
       "  'm',\n",
       "  'notready',\n",
       "  'to',\n",
       "  'hand',\n",
       "  'Nvidia',\n",
       "  'their',\n",
       "  'crown',\n",
       "  'until',\n",
       "  'we',\n",
       "  'seethe',\n",
       "  'new',\n",
       "  'cards',\n",
       "  'for',\n",
       "  'ourselves',\n",
       "  'But',\n",
       "  'based',\n",
       "  'on',\n",
       "  'what',\n",
       "  'they',\n",
       "  've']]"
      ]
     },
     "execution_count": 18,
     "metadata": {},
     "output_type": "execute_result"
    }
   ],
   "source": [
    "test_list_to_str = list(search(\"nvidia\", text, 30))\n",
    "test_list_to_str"
   ]
  },
  {
   "cell_type": "code",
   "execution_count": 19,
   "metadata": {},
   "outputs": [],
   "source": [
    "new_str = \" \".join(test_list_to_str[0])"
   ]
  },
  {
   "cell_type": "code",
   "execution_count": 20,
   "metadata": {},
   "outputs": [
    {
     "name": "stdout",
     "output_type": "stream",
     "text": [
      "{'neg': 0.0, 'neu': 0.808, 'pos': 0.192, 'compound': 0.7506}\n"
     ]
    }
   ],
   "source": [
    "score = sid.polarity_scores(new_str)\n",
    "print(score)"
   ]
  },
  {
   "cell_type": "markdown",
   "metadata": {},
   "source": [
    "### Flair Sentiment"
   ]
  },
  {
   "cell_type": "code",
   "execution_count": 21,
   "metadata": {},
   "outputs": [
    {
     "name": "stdout",
     "output_type": "stream",
     "text": [
      "2021-04-06 20:18:24,105 loading file C:\\Users\\Chris\\.flair\\models\\sentiment-en-mix-distillbert_4.pt\n",
      "Sentence above is:  [POSITIVE (0.998)]\n"
     ]
    }
   ],
   "source": [
    "from flair.models import TextClassifier\n",
    "from flair.data import Sentence\n",
    "\n",
    "classifier = TextClassifier.load(\"en-sentiment\")\n",
    "sentence = Sentence(\"Happy to be here\")\n",
    "classifier.predict(sentence)\n",
    "# print sentence with predicted labels\n",
    "print(\"Sentence above is: \", sentence.labels)"
   ]
  },
  {
   "cell_type": "code",
   "execution_count": 22,
   "metadata": {},
   "outputs": [
    {
     "data": {
      "text/plain": [
       "[POSITIVE (0.998)]"
      ]
     },
     "execution_count": 22,
     "metadata": {},
     "output_type": "execute_result"
    }
   ],
   "source": [
    "sentence.labels"
   ]
  },
  {
   "cell_type": "code",
   "execution_count": 23,
   "metadata": {},
   "outputs": [],
   "source": [
    "sentence = Sentence(\"Happy to be here\")\n",
    "classifier.predict(sentence)"
   ]
  },
  {
   "cell_type": "markdown",
   "metadata": {},
   "source": [
    "### Nvidia Breakout Sentiment"
   ]
  },
  {
   "cell_type": "code",
   "execution_count": 82,
   "metadata": {},
   "outputs": [
    {
     "name": "stdout",
     "output_type": "stream",
     "text": [
      "2021-04-06 20:38:10,366 loading file C:\\Users\\Chris\\.flair\\models\\sentiment-en-mix-distillbert_4.pt\n"
     ]
    }
   ],
   "source": [
    "# Load appropriate packages for sentiment analysis\n",
    "from flair.models import TextClassifier\n",
    "from flair.models import SequenceTagger\n",
    "from flair.data import Sentence\n",
    "from segtok.segmenter import split_single\n",
    "import pandas as pd\n",
    "import re\n",
    "from nltk.sentiment.vader import SentimentIntensityAnalyzer\n",
    "\n",
    "sid = SentimentIntensityAnalyzer()\n",
    "classifier = TextClassifier.load(\"en-sentiment\")"
   ]
  },
  {
   "cell_type": "code",
   "execution_count": 3,
   "metadata": {},
   "outputs": [
    {
     "name": "stdout",
     "output_type": "stream",
     "text": [
      "[['to', 'the', 'full'], ['of', 'the', 'human'], ['to', 'the', 'strengthening']]\n"
     ]
    }
   ],
   "source": [
    "# utilize regular expressions to split large stings into sentences that are centered around the key words\n",
    "import re\n",
    "\n",
    "text = (\n",
    "    \"Education shall be directed to the full development of the human personality \"\n",
    "    \"and to the strengthening of respect for human rights and fundamental freedoms.\"\n",
    ")\n",
    "\n",
    "\n",
    "def search(target, text, context=6):\n",
    "    # It's easier to use re.findall to split the string,\n",
    "    # as we get rid of the punctuation\n",
    "    words = re.findall(r\"\\w+\", text)\n",
    "\n",
    "    matches = (i for (i, w) in enumerate(words) if w.lower() == target)\n",
    "    for index in matches:\n",
    "        if index < context // 2:\n",
    "            yield words[0 : context + 1]\n",
    "        elif index > len(words) - context // 2 - 1:\n",
    "            yield words[-(context + 1) :]\n",
    "        else:\n",
    "            yield words[index - context // 2 : index + context // 2 + 1]\n",
    "\n",
    "\n",
    "print(list(search(\"the\", text, 3)))\n",
    "# [['be', 'directed', 'to', 'the', 'full', 'development', 'of'],\n",
    "#  ['full', 'development', 'of', 'the', 'human', 'personality', 'and'],\n",
    "#  ['personality', 'and', 'to', 'the', 'strengthening', 'of', 'respect']]"
   ]
  },
  {
   "cell_type": "code",
   "execution_count": 134,
   "metadata": {},
   "outputs": [],
   "source": [
    "def flair_predict(sentence):\n",
    "    \"\"\" Predict the sentiment of a sentence \"\"\"\n",
    "    if sentence == \"\":\n",
    "        return 0\n",
    "    text = Sentence(sentence)\n",
    "    # stacked_embeddings.embed(text)\n",
    "    classifier.predict(text)\n",
    "    value = text.labels[0].to_dict()[\"value\"]\n",
    "    if value == \"POSITIVE\":\n",
    "        result = text.to_dict()[\"labels\"][0][\"confidence\"]\n",
    "    else:\n",
    "        result = -(text.to_dict()[\"labels\"][0][\"confidence\"])\n",
    "    return round(result, 3)\n",
    "\n",
    "def vader_predict(sentence):\n",
    "    \"\"\" Predict the sentiment of a sentence \"\"\"\n",
    "    if sentence == \"\":\n",
    "        return 0\n",
    "    # stacked_embeddings.embed(text)\n",
    "    else: \n",
    "        score = sid.polarity_scores(\" \".join(sentence))\n",
    "        result = score['pos']\n",
    "        return round(result, 3)"
   ]
  },
  {
   "cell_type": "code",
   "execution_count": null,
   "metadata": {},
   "outputs": [],
   "source": []
  },
  {
   "cell_type": "code",
   "execution_count": 135,
   "metadata": {},
   "outputs": [],
   "source": [
    "def get_scores(sentences, flairPredict = True):\n",
    "    \"\"\" Call predict on every sentence of a text \"\"\"\n",
    "    results = []\n",
    "\n",
    "    if flairPredict == True:\n",
    "        for i in range(0, len(sentences)):\n",
    "            results.append(flair_predict(sentences[i]))\n",
    "        return results\n",
    "    else:\n",
    "        for i in range(0, len(sentences)):\n",
    "            results.append(vader_predict(sentences[i]))\n",
    "        return results\n",
    "\n",
    "def get_scores_single_cap(sentences, flairPredict = True):\n",
    "    \"\"\" Call predict on single caption string \"\"\"\n",
    "    if flairPredict == True:\n",
    "        results = []\n",
    "        results.append(flair_predict(sentences))\n",
    "        return results\n",
    "    else:\n",
    "        results = []\n",
    "        results.append(vader_predict(sentences))\n",
    "        return results\n",
    "\n",
    "def get_sum(scores):\n",
    "    result = round(sum(scores), 3)\n",
    "    return result\n",
    "\n",
    "\n",
    "def get_avg(scores):\n",
    "    result = round((sum(scores) / len(scores)), 3)\n",
    "    return result"
   ]
  },
  {
   "cell_type": "code",
   "execution_count": 142,
   "metadata": {},
   "outputs": [
    {
     "data": {
      "text/plain": [
       "'Nvidia, you PROMISED! - RTX 3080 Review'"
      ]
     },
     "execution_count": 142,
     "metadata": {},
     "output_type": "execute_result"
    }
   ],
   "source": [
    "test_1 = nvidia_cleaned_df[\"captionString\"][4]\n",
    "nvidia_cleaned_df[\"VideoTitle\"][4]"
   ]
  },
  {
   "cell_type": "code",
   "execution_count": 143,
   "metadata": {},
   "outputs": [
    {
     "data": {
      "text/plain": [
       "\"- The RTX 3080 is the most powerful GPU we've ever seen at this price point. But, we've said that before. And in fact we say it every time there's a new graphics card generation. So what makes this one so darn special? I mean, the hypesurrounding it was so huge that even we got caught up in it. I mean, look how excited this guy is, it's infectious, but as weall know, hype disappoints and absolute hype disappoints absolutely. Unlike our sponsor, GlassWire. GlassWire is the tool that shows you which apps are slowingdown your connection in real time and it'sused by security pros to monitor for malware,block bandwidth wasters and detect suspicious activity. Get 25% off today at the link below. (upbeat music) Do you hear that? It's rattling. Weird. While you read over our test platform, let me get this off of my chest. NVIDIA, man you guysreally went out of your way to set yourselves up here, didn't you? Like I don't get it. Spoiler alert, you're shippingthe fastest graphics card on the market at half theprice of the previous kin, why don't you just leave it there? Why push your luck with claims like, twice as fast as RTX 2080? Because it's not. (slow upbeat music) Now to be very clear, it's not like I'm saying, you know, boo, 3080biggest disappointment ever because, right out of the gate at 1440p we're looking at a performance lead over, not just the pricecomparable last gen 2080, but even the 2080 Ti and even with RTX disabled, I mean, this is a freakin'awesome leap in raw horsepower. Overall, we saw anywherefrom a 20 to 75% uplift over the 2080 with thebiggest benefits coming in DirectX 12 and Vulcan titles. So then, the only reasonI'm disappointed at all is because NVIDIA told me to expect double the performance of the 2080. Which as it turned out was, anywhere from a small embellishment to a fish this big whopper. But wait, okay, becauseperhaps there's more to this. could our lackluster CS:GOperformance numbers hold the key? Look how CPU bound thisgame ends up even at 1440p. So let's kick it up a notch to 4K where we're gonna leaveout our RX 5,700 XT so we can test out DLSS, NVIDIA's deep learningup sampling technology. And ooh, is that 41 frames per second in Microsoft Flight Simulator? At 4K Ultra, no less? Holy (bleep). I mean, not only that, but the minimum of 34 FPS, that is perfectly playable in a game that's more focused onvisuals versus fast movement which means that we candefinitively say yes, it can run Flight Sim 2020, like damn. Now in general, we're still not seeingthat 2X performance bump with results closer to 75%, but we're also stilloutpacing our RTX 2080 Ti by anywhere from 10 to 30%. And at 4K, CS:GO really lets the 3080 flex its big gains in memory bandwidth, thanks to its 10 gigs of GDDR 6X memory. That is a very small drop inperformance compared to 1440p. So all right then, whileit may not be exactly what NVIDIA promised us, the3080 is still a gaming monster. Maybe productivity will giveus a clearer understanding of what they meant by that whole double the performance thing. And yeah, okay. That's double and wellahead of the RTX 2080 Ti. In fact, in Blender,the RTX 3080 CUDA score is so good that it rivals, excuse me, scratch that, beats the RTX 2080's RTX optimized optics render time, like, excuse me, pardon? And don't even get me startedon the 3080's optics times. I mean this, this is game changing for students and prosumersand even professionals looking to build affordable and powerful 3D rendering stations. SPECviewperf does bring usback down to earth somewhat, with performance that's more in line with our gaming numbers,which is a bummer, but at least it gives us a hint as to where NVIDIA may have been focusing when they came up with that double figure. Interestingly though, team red pulled off acouple of wins here too. So, while the 3080 topsthe charts in most cases, it's not all powerful. And AMD's Big Navi announcement next month could extend some of those leads. Now, part of the rationale for choosing a Ryzen based GPU test bench was so that we couldtest PCI Express Gen 3 versus Gen 4 starting with our review of the RX 5,700 XT. Unfortunately, we hadsome issues to exercise, so that'll have to wait foranother day, get subscribed so you don't miss our deeperdive on PCI Express Gen 4. For now, let's look at power draw. Using NVIDIA's PCAT tool, we captured this datawhile running SPECviewperf on our NVIDIA cards here, and we can see that the RTX 3080 is sitting roughly 100 Wattshigher than the RTX 2080 Ti. Impressively hitting a loftymaximum above 350 Watts. That is lot of juice,ladies and gentlemen. And if the trend continues, it definitely explains why NVIDIA felt they needed thisnew 12 pin connector. This power draw translatesinto a significant increase in heap output as youmight expect as well. But it turns out the newFounders Edition cooler design is nothing short of incredible. In spite of it drawing 100 Watts more, our 3080 maintained lower temperatures in a closed chassis than our 2080 Ti and boosted to roughly two gigahertz under full load throughout our testing. I mean, hey, it'sunconventional, you know, blowing air up here andsucking air up through there, but gosh darn it, it works. At least for the GPU itself. One small detail NVIDIAglossed over in their marketing is that all of this heathas to go somewhere. And when we dug a little deeper,well by jove, we found it. As it turns out, dumping heatdirectly into your CPU and Ram makes them run hotter. We even made this little graph where you can see SystemThermals climbing by 10 degrees in a gentle arc across the board, indicating that it's not just SPECviewperf putting a load on these components, or we'd be seeing a spiky graph similar to our CPU and GPU temperatures. There is good news though, when we ran the same test with a Founder's Edition RTX 2080 Ti, we actually got even worse results indicating that the moreefficient system airflow that NVIDIA boastedabout for their cooler, actually manages to extend to the rest of the system as well. So good job guys. And there's more to the story here than performance and power alone. NVIDIA has become laser focused on system latency as a wayto market their products, even going as far as to seed press with the internal toolsthat they use to measure it. And as it turns out,that's for good reason. Now more frames per second does result in smoother animations, but since most gamers would probably say 100 FPS looks butter smooth. It's clear that thissmooth animation's benefit has already hit a wallof diminishing returns. What doesn't seem to havea limit yet, however, is the effect of higher frame rates on a gamer's actual performance. Last year, we demonstrated abenefit in competitive play all the way up to 240 Hertz in this video featuring Shroud, Mr GrimmmzCorey and Paul's Hardware. So then if the reason for thisimprovement in gaming acumen isn't smoother animations,well what is it? It's the responsiveness of the system. The more often theimage updates on screen, the less delay a gamer's gonna feel between the movement of their mouse and the corresponding crosshair, making it easier to track down opponents. Well NVIDIA Reflex, whichis launching today as well, takes this research NVIDIA's done and goes a step further thaneven the ultra low latency mode that's been enabled in both NVIDIA and AMD's drivers since last year. And NVIDIA has worked with developers to improve rendering latencydirectly in the game itself. With a CPU bound scenario,it's not exactly a big deal. You're getting a very slightimprovement in response time with a bit more consistency. We're not sure what that plusboost option is all about, but in Fortnite anyway, itdoesn't seem to do much, at least at high frame rates. Other games implementations may be better. NVIDIA says that Reflexworks best in GPU bound loads anyway though, and in that scenario, latency goes from 90 to 120 milliseconds to around 45 to 80 with Reflex enabled. That's huge. One of the biggest problemswith a low frame rate is low responsiveness. So the small sacrifice of one to two FPS ends up being a really good trade. The best part is that thisfeature works all the way back to 900 series Maxwell GPUs. Great stuff. Also revolutionary is RTX IO, which uses the samedirect storage technology that Microsoft is integratinginto the Xbox Series X and Series X to allow the GPU to stream and decompress datadirectly from an NVMe SSD using the CUDA course from anRTX 2000 series card or newer. Now we can't test this feature yet because there are no games onthe market to support it yet, but we would expect gamersto see similar benefits to what Sony showed off withtheir analogous technology, with improvements to everything from texture resolution ingame, to even level design, eliminating things likeunnecessary elevator rides while the assets load in. But wait, there's more. What we also can't test is the reports that all AMPERE based cards support SRIO V at a hardware level. For the uninitiated, SRIOV allows a single GPU to be shared betweenmultiple virtual machines, nevermind two gamers, one GPU. With performance like this, you could run a whole freaking land center off a single Threadripper3990X and like four of these. I mean, this would be amonumental shift from NVIDIA, considering that they'velocked down G-Force and virtual machinessince basically forever, or at least it would be. NVIDIA clarified with us that the reports of their change ofhardware sadly overstated. And as it turns out, just because they can support the feature, it doesn't mean that it's enabled. And sure enough, when wefired up our 3080 in Linux, it didn't report any SRIO V capabilities. NVIDIA does say thoughthat the final decision on whether to enable itor not has yet to be made. So it is still possible they'll enable it. Maybe if enough people tweeted them, Jensen will get the hint,wink, wink, hint, hint, nudge, nudge, please. In summary then, just like last time we have no way of testingsome of the headline features and no time to test otherslike NVIDIA broadcast, which we'll be sure todo a follow up video on, but unlike last time, the raw performance and pricing are compelling enough story on their own. Even if NVIDIA overplayedtheir hand a little. And unlike last time, thebig feature, you know, the one that's right in the name, the hardware support forreal time ray tracing has had a couple of years to mature with a much longer list of supported games to go along with graphics cards that are now actually powerful enough to turn the feature on withouttanking the frame rate. To be clear, it's stillnot the kind of thing that I would personallybuy a new card over. But as far as added bonuses go, Ray Trace Minecraft is pretty sweet. And if you're looking fora segway to our sponsor, this is it. Do you think making a website is hard? Well, it doesn't have to be. Use Squarespace andyou'll have your website up and running in a matterof hours, maybe even faster. They've got award-winning templates that'll help make your website stand out instead of looking like it's from the 90s. And if you're interested inhow your website's performing, they've got built intools to help you find out what you're doing right,and what you're doing wrong. Both our Linus Media Groupand LTX Expo websites were built quickly using Squarespace. And if you get stuck making your site, they have a 24/7 support teamthat's ready to help you out. Just go to squarespace.com/ltt and you can get 10% off today. We're gonna have that linked below. So thanks for watching guys. If you're looking for more AMPERE, go check out our post announcement explainer on AMPERE for alittle bit more background info and a little morecontext for all the hype. Hey, I didn't mention lttstore.com. Go to lttstore.com, buy stuff. We got water bottles. -  And graphics card shirts. - Oh yeah, that too. \""
      ]
     },
     "execution_count": 143,
     "metadata": {},
     "output_type": "execute_result"
    }
   ],
   "source": [
    "test_1"
   ]
  },
  {
   "cell_type": "code",
   "execution_count": 144,
   "metadata": {},
   "outputs": [
    {
     "name": "stdout",
     "output_type": "stream",
     "text": [
      "['latency', 'analyzer', 'just', 'connect', 'your', 'mouse', 'the', 'nvidia', '360', 'hertz', 'g', 'sync', 'esports', 'displays', 'are']\n",
      "Flair Score\n",
      "-0.646\n",
      "Vader Score\n",
      "0.0\n"
     ]
    }
   ],
   "source": [
    "#list_test\n",
    "print(list_test[3])\n",
    "print(\"Flair Score\")\n",
    "print(flair_predict(list_test[3]))\n",
    "print(\"Vader Score\")\n",
    "print(vader_predict(list_test[3]))"
   ]
  },
  {
   "cell_type": "code",
   "execution_count": 145,
   "metadata": {},
   "outputs": [],
   "source": [
    "list_test = list(search(\"nvidia\", test_1, 15))"
   ]
  },
  {
   "cell_type": "code",
   "execution_count": 148,
   "metadata": {},
   "outputs": [
    {
     "data": {
      "text/plain": [
       "[['me',\n",
       "  'get',\n",
       "  'this',\n",
       "  'off',\n",
       "  'of',\n",
       "  'my',\n",
       "  'chest',\n",
       "  'NVIDIA',\n",
       "  'man',\n",
       "  'you',\n",
       "  'guysreally',\n",
       "  'went',\n",
       "  'out',\n",
       "  'of',\n",
       "  'your'],\n",
       " ['reasonI',\n",
       "  'm',\n",
       "  'disappointed',\n",
       "  'at',\n",
       "  'all',\n",
       "  'is',\n",
       "  'because',\n",
       "  'NVIDIA',\n",
       "  'told',\n",
       "  'me',\n",
       "  'to',\n",
       "  'expect',\n",
       "  'double',\n",
       "  'the',\n",
       "  'performance'],\n",
       " ['XT',\n",
       "  'so',\n",
       "  'we',\n",
       "  'can',\n",
       "  'test',\n",
       "  'out',\n",
       "  'DLSS',\n",
       "  'NVIDIA',\n",
       "  's',\n",
       "  'deep',\n",
       "  'learningup',\n",
       "  'sampling',\n",
       "  'technology',\n",
       "  'And',\n",
       "  'ooh'],\n",
       " ['then',\n",
       "  'whileit',\n",
       "  'may',\n",
       "  'not',\n",
       "  'be',\n",
       "  'exactly',\n",
       "  'what',\n",
       "  'NVIDIA',\n",
       "  'promised',\n",
       "  'us',\n",
       "  'the3080',\n",
       "  'is',\n",
       "  'still',\n",
       "  'a',\n",
       "  'gaming'],\n",
       " ['gives',\n",
       "  'us',\n",
       "  'a',\n",
       "  'hint',\n",
       "  'as',\n",
       "  'to',\n",
       "  'where',\n",
       "  'NVIDIA',\n",
       "  'may',\n",
       "  'have',\n",
       "  'been',\n",
       "  'focusing',\n",
       "  'when',\n",
       "  'they',\n",
       "  'came'],\n",
       " ['let',\n",
       "  's',\n",
       "  'look',\n",
       "  'at',\n",
       "  'power',\n",
       "  'draw',\n",
       "  'Using',\n",
       "  'NVIDIA',\n",
       "  's',\n",
       "  'PCAT',\n",
       "  'tool',\n",
       "  'we',\n",
       "  'captured',\n",
       "  'this',\n",
       "  'datawhile'],\n",
       " ['captured',\n",
       "  'this',\n",
       "  'datawhile',\n",
       "  'running',\n",
       "  'SPECviewperf',\n",
       "  'on',\n",
       "  'our',\n",
       "  'NVIDIA',\n",
       "  'cards',\n",
       "  'here',\n",
       "  'and',\n",
       "  'we',\n",
       "  'can',\n",
       "  'see',\n",
       "  'that'],\n",
       " ['the',\n",
       "  'trend',\n",
       "  'continues',\n",
       "  'it',\n",
       "  'definitely',\n",
       "  'explains',\n",
       "  'why',\n",
       "  'NVIDIA',\n",
       "  'felt',\n",
       "  'they',\n",
       "  'needed',\n",
       "  'thisnew',\n",
       "  '12',\n",
       "  'pin',\n",
       "  'connector'],\n",
       " ['indicating',\n",
       "  'that',\n",
       "  'the',\n",
       "  'moreefficient',\n",
       "  'system',\n",
       "  'airflow',\n",
       "  'that',\n",
       "  'NVIDIA',\n",
       "  'boastedabout',\n",
       "  'for',\n",
       "  'their',\n",
       "  'cooler',\n",
       "  'actually',\n",
       "  'manages',\n",
       "  'to'],\n",
       " ['story',\n",
       "  'here',\n",
       "  'than',\n",
       "  'performance',\n",
       "  'and',\n",
       "  'power',\n",
       "  'alone',\n",
       "  'NVIDIA',\n",
       "  'has',\n",
       "  'become',\n",
       "  'laser',\n",
       "  'focused',\n",
       "  'on',\n",
       "  'system',\n",
       "  'latency'],\n",
       " ['it',\n",
       "  'easier',\n",
       "  'to',\n",
       "  'track',\n",
       "  'down',\n",
       "  'opponents',\n",
       "  'Well',\n",
       "  'NVIDIA',\n",
       "  'Reflex',\n",
       "  'whichis',\n",
       "  'launching',\n",
       "  'today',\n",
       "  'as',\n",
       "  'well',\n",
       "  'takes'],\n",
       " ['launching',\n",
       "  'today',\n",
       "  'as',\n",
       "  'well',\n",
       "  'takes',\n",
       "  'this',\n",
       "  'research',\n",
       "  'NVIDIA',\n",
       "  's',\n",
       "  'done',\n",
       "  'and',\n",
       "  'goes',\n",
       "  'a',\n",
       "  'step',\n",
       "  'further'],\n",
       " ['mode',\n",
       "  'that',\n",
       "  's',\n",
       "  'been',\n",
       "  'enabled',\n",
       "  'in',\n",
       "  'both',\n",
       "  'NVIDIA',\n",
       "  'and',\n",
       "  'AMD',\n",
       "  's',\n",
       "  'drivers',\n",
       "  'since',\n",
       "  'last',\n",
       "  'year'],\n",
       " ['AMD',\n",
       "  's',\n",
       "  'drivers',\n",
       "  'since',\n",
       "  'last',\n",
       "  'year',\n",
       "  'And',\n",
       "  'NVIDIA',\n",
       "  'has',\n",
       "  'worked',\n",
       "  'with',\n",
       "  'developers',\n",
       "  'to',\n",
       "  'improve',\n",
       "  'rendering'],\n",
       " ['rates',\n",
       "  'Other',\n",
       "  'games',\n",
       "  'implementations',\n",
       "  'may',\n",
       "  'be',\n",
       "  'better',\n",
       "  'NVIDIA',\n",
       "  'says',\n",
       "  'that',\n",
       "  'Reflexworks',\n",
       "  'best',\n",
       "  'in',\n",
       "  'GPU',\n",
       "  'bound'],\n",
       " ['mean',\n",
       "  'this',\n",
       "  'would',\n",
       "  'be',\n",
       "  'amonumental',\n",
       "  'shift',\n",
       "  'from',\n",
       "  'NVIDIA',\n",
       "  'considering',\n",
       "  'that',\n",
       "  'they',\n",
       "  'velocked',\n",
       "  'down',\n",
       "  'G',\n",
       "  'Force'],\n",
       " ['forever',\n",
       "  'or',\n",
       "  'at',\n",
       "  'least',\n",
       "  'it',\n",
       "  'would',\n",
       "  'be',\n",
       "  'NVIDIA',\n",
       "  'clarified',\n",
       "  'with',\n",
       "  'us',\n",
       "  'that',\n",
       "  'the',\n",
       "  'reports',\n",
       "  'of'],\n",
       " ['didn',\n",
       "  't',\n",
       "  'report',\n",
       "  'any',\n",
       "  'SRIO',\n",
       "  'V',\n",
       "  'capabilities',\n",
       "  'NVIDIA',\n",
       "  'does',\n",
       "  'say',\n",
       "  'thoughthat',\n",
       "  'the',\n",
       "  'final',\n",
       "  'decision',\n",
       "  'on'],\n",
       " ['features',\n",
       "  'and',\n",
       "  'no',\n",
       "  'time',\n",
       "  'to',\n",
       "  'test',\n",
       "  'otherslike',\n",
       "  'NVIDIA',\n",
       "  'broadcast',\n",
       "  'which',\n",
       "  'we',\n",
       "  'll',\n",
       "  'be',\n",
       "  'sure',\n",
       "  'todo'],\n",
       " ['enough',\n",
       "  'story',\n",
       "  'on',\n",
       "  'their',\n",
       "  'own',\n",
       "  'Even',\n",
       "  'if',\n",
       "  'NVIDIA',\n",
       "  'overplayedtheir',\n",
       "  'hand',\n",
       "  'a',\n",
       "  'little',\n",
       "  'And',\n",
       "  'unlike',\n",
       "  'last']]"
      ]
     },
     "execution_count": 148,
     "metadata": {},
     "output_type": "execute_result"
    }
   ],
   "source": [
    "list_test"
   ]
  },
  {
   "cell_type": "code",
   "execution_count": 146,
   "metadata": {},
   "outputs": [
    {
     "name": "stdout",
     "output_type": "stream",
     "text": [
      "Flair\n",
      "0 [-0.945] ['me', 'get', 'this', 'off', 'of', 'my', 'chest', 'NVIDIA', 'man', 'you', 'guysreally', 'went', 'out', 'of', 'your']\n",
      "1 [-1.0] ['reasonI', 'm', 'disappointed', 'at', 'all', 'is', 'because', 'NVIDIA', 'told', 'me', 'to', 'expect', 'double', 'the', 'performance']\n",
      "2 [0.981] ['XT', 'so', 'we', 'can', 'test', 'out', 'DLSS', 'NVIDIA', 's', 'deep', 'learningup', 'sampling', 'technology', 'And', 'ooh']\n",
      "3 [-0.985] ['then', 'whileit', 'may', 'not', 'be', 'exactly', 'what', 'NVIDIA', 'promised', 'us', 'the3080', 'is', 'still', 'a', 'gaming']\n",
      "4 [0.988] ['gives', 'us', 'a', 'hint', 'as', 'to', 'where', 'NVIDIA', 'may', 'have', 'been', 'focusing', 'when', 'they', 'came']\n",
      "5 [0.75] ['let', 's', 'look', 'at', 'power', 'draw', 'Using', 'NVIDIA', 's', 'PCAT', 'tool', 'we', 'captured', 'this', 'datawhile']\n",
      "6 [0.999] ['captured', 'this', 'datawhile', 'running', 'SPECviewperf', 'on', 'our', 'NVIDIA', 'cards', 'here', 'and', 'we', 'can', 'see', 'that']\n",
      "7 [1.0] ['the', 'trend', 'continues', 'it', 'definitely', 'explains', 'why', 'NVIDIA', 'felt', 'they', 'needed', 'thisnew', '12', 'pin', 'connector']\n",
      "8 [-0.741] ['indicating', 'that', 'the', 'moreefficient', 'system', 'airflow', 'that', 'NVIDIA', 'boastedabout', 'for', 'their', 'cooler', 'actually', 'manages', 'to']\n",
      "9 [-0.586] ['story', 'here', 'than', 'performance', 'and', 'power', 'alone', 'NVIDIA', 'has', 'become', 'laser', 'focused', 'on', 'system', 'latency']\n",
      "10 [0.988] ['it', 'easier', 'to', 'track', 'down', 'opponents', 'Well', 'NVIDIA', 'Reflex', 'whichis', 'launching', 'today', 'as', 'well', 'takes']\n",
      "11 [0.997] ['launching', 'today', 'as', 'well', 'takes', 'this', 'research', 'NVIDIA', 's', 'done', 'and', 'goes', 'a', 'step', 'further']\n",
      "12 [1.0] ['mode', 'that', 's', 'been', 'enabled', 'in', 'both', 'NVIDIA', 'and', 'AMD', 's', 'drivers', 'since', 'last', 'year']\n",
      "13 [0.999] ['AMD', 's', 'drivers', 'since', 'last', 'year', 'And', 'NVIDIA', 'has', 'worked', 'with', 'developers', 'to', 'improve', 'rendering']\n",
      "14 [0.757] ['rates', 'Other', 'games', 'implementations', 'may', 'be', 'better', 'NVIDIA', 'says', 'that', 'Reflexworks', 'best', 'in', 'GPU', 'bound']\n",
      "15 [-0.997] ['mean', 'this', 'would', 'be', 'amonumental', 'shift', 'from', 'NVIDIA', 'considering', 'that', 'they', 'velocked', 'down', 'G', 'Force']\n",
      "16 [-0.932] ['forever', 'or', 'at', 'least', 'it', 'would', 'be', 'NVIDIA', 'clarified', 'with', 'us', 'that', 'the', 'reports', 'of']\n",
      "17 [-0.989] ['didn', 't', 'report', 'any', 'SRIO', 'V', 'capabilities', 'NVIDIA', 'does', 'say', 'thoughthat', 'the', 'final', 'decision', 'on']\n",
      "18 [1.0] ['features', 'and', 'no', 'time', 'to', 'test', 'otherslike', 'NVIDIA', 'broadcast', 'which', 'we', 'll', 'be', 'sure', 'todo']\n",
      "19 [0.937] ['enough', 'story', 'on', 'their', 'own', 'Even', 'if', 'NVIDIA', 'overplayedtheir', 'hand', 'a', 'little', 'And', 'unlike', 'last']\n",
      "BREAK BREAK BREAK\n",
      "Vader\n",
      "0 [0.0] ['me', 'get', 'this', 'off', 'of', 'my', 'chest', 'NVIDIA', 'man', 'you', 'guysreally', 'went', 'out', 'of', 'your']\n",
      "1 [0.0] ['reasonI', 'm', 'disappointed', 'at', 'all', 'is', 'because', 'NVIDIA', 'told', 'me', 'to', 'expect', 'double', 'the', 'performance']\n",
      "2 [0.0] ['XT', 'so', 'we', 'can', 'test', 'out', 'DLSS', 'NVIDIA', 's', 'deep', 'learningup', 'sampling', 'technology', 'And', 'ooh']\n",
      "3 [0.161] ['then', 'whileit', 'may', 'not', 'be', 'exactly', 'what', 'NVIDIA', 'promised', 'us', 'the3080', 'is', 'still', 'a', 'gaming']\n",
      "4 [0.0] ['gives', 'us', 'a', 'hint', 'as', 'to', 'where', 'NVIDIA', 'may', 'have', 'been', 'focusing', 'when', 'they', 'came']\n",
      "5 [0.0] ['let', 's', 'look', 'at', 'power', 'draw', 'Using', 'NVIDIA', 's', 'PCAT', 'tool', 'we', 'captured', 'this', 'datawhile']\n",
      "6 [0.0] ['captured', 'this', 'datawhile', 'running', 'SPECviewperf', 'on', 'our', 'NVIDIA', 'cards', 'here', 'and', 'we', 'can', 'see', 'that']\n",
      "7 [0.162] ['the', 'trend', 'continues', 'it', 'definitely', 'explains', 'why', 'NVIDIA', 'felt', 'they', 'needed', 'thisnew', '12', 'pin', 'connector']\n",
      "8 [0.0] ['indicating', 'that', 'the', 'moreefficient', 'system', 'airflow', 'that', 'NVIDIA', 'boastedabout', 'for', 'their', 'cooler', 'actually', 'manages', 'to']\n",
      "9 [0.148] ['story', 'here', 'than', 'performance', 'and', 'power', 'alone', 'NVIDIA', 'has', 'become', 'laser', 'focused', 'on', 'system', 'latency']\n",
      "10 [0.368] ['it', 'easier', 'to', 'track', 'down', 'opponents', 'Well', 'NVIDIA', 'Reflex', 'whichis', 'launching', 'today', 'as', 'well', 'takes']\n",
      "11 [0.149] ['launching', 'today', 'as', 'well', 'takes', 'this', 'research', 'NVIDIA', 's', 'done', 'and', 'goes', 'a', 'step', 'further']\n",
      "12 [0.0] ['mode', 'that', 's', 'been', 'enabled', 'in', 'both', 'NVIDIA', 'and', 'AMD', 's', 'drivers', 'since', 'last', 'year']\n",
      "13 [0.182] ['AMD', 's', 'drivers', 'since', 'last', 'year', 'And', 'NVIDIA', 'has', 'worked', 'with', 'developers', 'to', 'improve', 'rendering']\n",
      "14 [0.353] ['rates', 'Other', 'games', 'implementations', 'may', 'be', 'better', 'NVIDIA', 'says', 'that', 'Reflexworks', 'best', 'in', 'GPU', 'bound']\n",
      "15 [0.0] ['mean', 'this', 'would', 'be', 'amonumental', 'shift', 'from', 'NVIDIA', 'considering', 'that', 'they', 'velocked', 'down', 'G', 'Force']\n",
      "16 [0.0] ['forever', 'or', 'at', 'least', 'it', 'would', 'be', 'NVIDIA', 'clarified', 'with', 'us', 'that', 'the', 'reports', 'of']\n",
      "17 [0.0] ['didn', 't', 'report', 'any', 'SRIO', 'V', 'capabilities', 'NVIDIA', 'does', 'say', 'thoughthat', 'the', 'final', 'decision', 'on']\n",
      "18 [0.131] ['features', 'and', 'no', 'time', 'to', 'test', 'otherslike', 'NVIDIA', 'broadcast', 'which', 'we', 'll', 'be', 'sure', 'todo']\n",
      "19 [0.198] ['enough', 'story', 'on', 'their', 'own', 'Even', 'if', 'NVIDIA', 'overplayedtheir', 'hand', 'a', 'little', 'And', 'unlike', 'last']\n"
     ]
    }
   ],
   "source": [
    "num = 0\n",
    "print(\"Flair\")\n",
    "for string in list_test:\n",
    "    int_score = get_scores_single_cap(string, flairPredict = True)\n",
    "    print(num, int_score, string)\n",
    "    num += 1\n",
    "    \n",
    "print(\"BREAK BREAK BREAK\")\n",
    "\n",
    "print(\"Vader\")\n",
    "num =0\n",
    "for string in list_test:\n",
    "    int_score = get_scores_single_cap(string, flairPredict = False)\n",
    "    print(num, int_score, string)\n",
    "    num += 1"
   ]
  },
  {
   "cell_type": "code",
   "execution_count": 147,
   "metadata": {},
   "outputs": [
    {
     "name": "stdout",
     "output_type": "stream",
     "text": [
      "Flair\n",
      "Average flair score 0.211\n",
      "Vader\n",
      "Average vader score 0.093\n"
     ]
    }
   ],
   "source": [
    "print(\"Flair\")\n",
    "print(\"Average flair score\", get_avg(get_scores(list_test)))\n",
    "print(\"Vader\")\n",
    "print(\"Average vader score\", get_avg(get_scores(list_test, flairPredict = False)))"
   ]
  },
  {
   "cell_type": "code",
   "execution_count": 79,
   "metadata": {},
   "outputs": [
    {
     "data": {
      "text/plain": [
       "[0.999,\n",
       " -0.968,\n",
       " -0.638,\n",
       " -0.97,\n",
       " 0.997,\n",
       " 1.0,\n",
       " 0.993,\n",
       " 0.978,\n",
       " 1.0,\n",
       " -0.913,\n",
       " 0.997,\n",
       " 0.999,\n",
       " 0.847,\n",
       " -0.982,\n",
       " 0.952,\n",
       " 0.996,\n",
       " 1.0,\n",
       " 0.994,\n",
       " 0.874,\n",
       " 0.993,\n",
       " -1.0,\n",
       " 0.999,\n",
       " 1.0,\n",
       " 0.977,\n",
       " 0.983,\n",
       " 0.982,\n",
       " 1.0,\n",
       " 0.999,\n",
       " 1.0,\n",
       " 0.996,\n",
       " 1.0,\n",
       " 0.997,\n",
       " 1.0,\n",
       " 0.999]"
      ]
     },
     "execution_count": 79,
     "metadata": {},
     "output_type": "execute_result"
    }
   ],
   "source": [
    "get_scores(list_test)"
   ]
  },
  {
   "cell_type": "code",
   "execution_count": null,
   "metadata": {},
   "outputs": [],
   "source": []
  }
 ],
 "metadata": {
  "kernelspec": {
   "display_name": "Python 3",
   "language": "python",
   "name": "python3"
  },
  "language_info": {
   "codemirror_mode": {
    "name": "ipython",
    "version": 3
   },
   "file_extension": ".py",
   "mimetype": "text/x-python",
   "name": "python",
   "nbconvert_exporter": "python",
   "pygments_lexer": "ipython3",
   "version": "3.8.5"
  }
 },
 "nbformat": 4,
 "nbformat_minor": 4
}
