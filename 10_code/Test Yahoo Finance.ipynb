{
 "cells": [
  {
   "cell_type": "code",
   "execution_count": null,
   "metadata": {},
   "outputs": [],
   "source": [
    "# This is a function to generate response variable dataframe\n",
    "# Decision rule: \n",
    "# If the change in \"High\" in 5 days is greater than 3%, we give it label \"buy\"\n",
    "# If the change in \"High\" in 5 days is smaller than -3%, we give it label \"sell\"\n",
    "# Otherwise, we give it label \"hold\n",
    "def create_response(start_date,end_date,stock_name):\n",
    "    import pandas as pd\n",
    "    import numpy as np\n",
    "    import yfinance as yf\n",
    "    # get stock info\n",
    "    data = yf.download(stock_name, start=start_date, end=end_date,interval='1h')\n",
    "    # create percentage dict\n",
    "    percent_dict = {}\n",
    "    for i in range(len(data)-5):\n",
    "        cur_high = data.iloc[i,:]['High']\n",
    "        future_high = data.iloc[i+5,:]['High']\n",
    "        percent_dict[data.index[i]] = (future_high -cur_high)/cur_high\n",
    "    response_df = pd.DataFrame.from_dict(percent_dict, orient='index',columns=['percent_change'])\n",
    "    # Decsion rule\n",
    "    bins = [-(np.inf), -0.03, 0.03, np.inf]\n",
    "    names = ['sell', 'hold', 'buy']\n",
    "    response_df['action'] = pd.cut(response_df['percent_change'], bins, labels=names)\n",
    "    response_df = response_df.reset_index()\n",
    "    return response_df"
   ]
  },
  {
   "cell_type": "code",
   "execution_count": 1,
   "metadata": {},
   "outputs": [],
   "source": [
    "def download_stock_data(stock,lookforward,end_date):\n",
    "    import pandas as pd\n",
    "    import numpy as np\n",
    "    import yfinance as yf\n",
    "    data = yf.download(stock, start=\"2020-10-02\", \n",
    "                       end=end_date,interval='60m')\n",
    "    data = data.reset_index()\n",
    "    data['Datetime'] = data['Datetime'].astype('str')\n",
    "    time = []\n",
    "    for i, row in data.iterrows():\n",
    "        time.append(row['Datetime'][:-6])\n",
    "    data['Time']=time\n",
    "    data['Time'] = pd.to_datetime(data['Time'])\n",
    "    data.drop(['Datetime','High','Low','Adj Close', 'Volume'],axis=1,inplace=True)\n",
    "    cols = ['Time','Open','Close']\n",
    "    data=data[cols]\n",
    "    data.set_index('Time')\n",
    "    time_open = dict(zip(data.Time,data.Open))\n",
    "    time_close = dict(zip(data.Time,data.Close))\n",
    "    Time_complete = [data.Time[0]]\n",
    "    start = data.Time[0]\n",
    "    end = data.Time[len(data)-1]\n",
    "    from datetime import datetime, timedelta\n",
    "    while start < end:\n",
    "        ele = start + timedelta(hours=1)\n",
    "        Time_complete.append(ele)\n",
    "        start = ele\n",
    "    df_time = pd.DataFrame(Time_complete,columns=['Time'])\n",
    "    weekday_lst = []\n",
    "    for i,row in df_time.iterrows():\n",
    "        cur = row['Time']\n",
    "        weekday_lst.append(cur.weekday())\n",
    "    df_time['weekday'] = weekday_lst\n",
    "    price = []\n",
    "    from datetime import datetime, timedelta\n",
    "    for i,row in df_time.iterrows():\n",
    "        cur = row['Time']\n",
    "        day = row['weekday']\n",
    "        if cur in time_open:\n",
    "            price.append(time_open[cur])\n",
    "        elif (\"16:30:00\" in str(cur) ) :\n",
    "            cur -= timedelta(hours=1)\n",
    "            if cur in time_close:\n",
    "                price.append(time_close[cur])\n",
    "            else:\n",
    "                price.append(None)\n",
    "        else:\n",
    "            price.append(None)\n",
    "    df_time['price'] = price\n",
    "    df_time = df_time.fillna(method='ffill')\n",
    "    time_price = dict(zip(df_time.Time,df_time.price))\n",
    "    future_price = []\n",
    "    for i, row in df_time.iterrows():\n",
    "        key = row['Time']+timedelta(hours=lookforward)\n",
    "        day = row['weekday']\n",
    "#         if key.weekday()>4:\n",
    "#             if key.weekday() == 5:\n",
    "#                 key += timedelta(hours=48)\n",
    "#             else:\n",
    "#                 key += timedelta(hours=24)\n",
    "        if key in time_price:\n",
    "            future_price.append(time_price[key])\n",
    "        else:\n",
    "            future_price.append(None)\n",
    "    df_time['future_price'] = future_price\n",
    "    name = 'percent_change_' + str(lookforward)\n",
    "    df_time[name] = ((df_time['future_price'] / df_time['price'])-1)*100\n",
    "    return df_time"
   ]
  },
  {
   "cell_type": "code",
   "execution_count": 2,
   "metadata": {},
   "outputs": [
    {
     "name": "stdout",
     "output_type": "stream",
     "text": [
      "[*********************100%***********************]  1 of 1 completed\n",
      "[*********************100%***********************]  1 of 1 completed\n",
      "[*********************100%***********************]  1 of 1 completed\n",
      "[*********************100%***********************]  1 of 1 completed\n"
     ]
    }
   ],
   "source": [
    "future_24 = download_stock_data(\"NVDA\",24,\"2021-06-01\")\n",
    "future_48 = download_stock_data(\"NVDA\",48,\"2021-06-01\")\n",
    "future_72 = download_stock_data(\"NVDA\",72,\"2021-06-01\")\n",
    "future_96 = download_stock_data(\"NVDA\",96,\"2021-06-01\")"
   ]
  },
  {
   "cell_type": "code",
   "execution_count": null,
   "metadata": {},
   "outputs": [],
   "source": [
    "future_96"
   ]
  },
  {
   "cell_type": "code",
   "execution_count": 6,
   "metadata": {},
   "outputs": [],
   "source": [
    "import pandas as pd"
   ]
  },
  {
   "cell_type": "code",
   "execution_count": 7,
   "metadata": {},
   "outputs": [],
   "source": [
    "frame = [future_24.iloc[:,[0,1,2,4]],future_48.iloc[:,4],future_72.iloc[:,4],future_96.iloc[:,4]]\n",
    "df = pd.concat(frame,axis=1)"
   ]
  },
  {
   "cell_type": "code",
   "execution_count": 8,
   "metadata": {},
   "outputs": [
    {
     "data": {
      "text/html": [
       "<div>\n",
       "<style scoped>\n",
       "    .dataframe tbody tr th:only-of-type {\n",
       "        vertical-align: middle;\n",
       "    }\n",
       "\n",
       "    .dataframe tbody tr th {\n",
       "        vertical-align: top;\n",
       "    }\n",
       "\n",
       "    .dataframe thead th {\n",
       "        text-align: right;\n",
       "    }\n",
       "</style>\n",
       "<table border=\"1\" class=\"dataframe\">\n",
       "  <thead>\n",
       "    <tr style=\"text-align: right;\">\n",
       "      <th></th>\n",
       "      <th>Time</th>\n",
       "      <th>weekday</th>\n",
       "      <th>price</th>\n",
       "      <th>percent_change_24</th>\n",
       "      <th>percent_change_48</th>\n",
       "      <th>percent_change_72</th>\n",
       "      <th>percent_change_96</th>\n",
       "    </tr>\n",
       "  </thead>\n",
       "  <tbody>\n",
       "    <tr>\n",
       "      <th>0</th>\n",
       "      <td>2020-10-02 09:30:00</td>\n",
       "      <td>4</td>\n",
       "      <td>529.000000</td>\n",
       "      <td>-1.232518</td>\n",
       "      <td>-1.232518</td>\n",
       "      <td>0.083176</td>\n",
       "      <td>4.574671</td>\n",
       "    </tr>\n",
       "    <tr>\n",
       "      <th>1</th>\n",
       "      <td>2020-10-02 10:30:00</td>\n",
       "      <td>4</td>\n",
       "      <td>539.695007</td>\n",
       "      <td>-3.189770</td>\n",
       "      <td>-3.189770</td>\n",
       "      <td>0.462297</td>\n",
       "      <td>4.352456</td>\n",
       "    </tr>\n",
       "    <tr>\n",
       "      <th>2</th>\n",
       "      <td>2020-10-02 11:30:00</td>\n",
       "      <td>4</td>\n",
       "      <td>533.020020</td>\n",
       "      <td>-1.977419</td>\n",
       "      <td>-1.977419</td>\n",
       "      <td>1.378930</td>\n",
       "      <td>4.202462</td>\n",
       "    </tr>\n",
       "    <tr>\n",
       "      <th>3</th>\n",
       "      <td>2020-10-02 12:30:00</td>\n",
       "      <td>4</td>\n",
       "      <td>531.131287</td>\n",
       "      <td>-1.628845</td>\n",
       "      <td>-1.628845</td>\n",
       "      <td>2.396526</td>\n",
       "      <td>5.256460</td>\n",
       "    </tr>\n",
       "    <tr>\n",
       "      <th>4</th>\n",
       "      <td>2020-10-02 13:30:00</td>\n",
       "      <td>4</td>\n",
       "      <td>529.250000</td>\n",
       "      <td>-1.279172</td>\n",
       "      <td>-1.279172</td>\n",
       "      <td>2.638645</td>\n",
       "      <td>5.963155</td>\n",
       "    </tr>\n",
       "    <tr>\n",
       "      <th>...</th>\n",
       "      <td>...</td>\n",
       "      <td>...</td>\n",
       "      <td>...</td>\n",
       "      <td>...</td>\n",
       "      <td>...</td>\n",
       "      <td>...</td>\n",
       "      <td>...</td>\n",
       "    </tr>\n",
       "    <tr>\n",
       "      <th>4706</th>\n",
       "      <td>2021-04-16 11:30:00</td>\n",
       "      <td>4</td>\n",
       "      <td>637.080017</td>\n",
       "      <td>NaN</td>\n",
       "      <td>NaN</td>\n",
       "      <td>NaN</td>\n",
       "      <td>NaN</td>\n",
       "    </tr>\n",
       "    <tr>\n",
       "      <th>4707</th>\n",
       "      <td>2021-04-16 12:30:00</td>\n",
       "      <td>4</td>\n",
       "      <td>640.500000</td>\n",
       "      <td>NaN</td>\n",
       "      <td>NaN</td>\n",
       "      <td>NaN</td>\n",
       "      <td>NaN</td>\n",
       "    </tr>\n",
       "    <tr>\n",
       "      <th>4708</th>\n",
       "      <td>2021-04-16 13:30:00</td>\n",
       "      <td>4</td>\n",
       "      <td>638.159973</td>\n",
       "      <td>NaN</td>\n",
       "      <td>NaN</td>\n",
       "      <td>NaN</td>\n",
       "      <td>NaN</td>\n",
       "    </tr>\n",
       "    <tr>\n",
       "      <th>4709</th>\n",
       "      <td>2021-04-16 14:30:00</td>\n",
       "      <td>4</td>\n",
       "      <td>636.869995</td>\n",
       "      <td>NaN</td>\n",
       "      <td>NaN</td>\n",
       "      <td>NaN</td>\n",
       "      <td>NaN</td>\n",
       "    </tr>\n",
       "    <tr>\n",
       "      <th>4710</th>\n",
       "      <td>2021-04-16 15:30:00</td>\n",
       "      <td>4</td>\n",
       "      <td>637.210022</td>\n",
       "      <td>NaN</td>\n",
       "      <td>NaN</td>\n",
       "      <td>NaN</td>\n",
       "      <td>NaN</td>\n",
       "    </tr>\n",
       "  </tbody>\n",
       "</table>\n",
       "<p>4711 rows × 7 columns</p>\n",
       "</div>"
      ],
      "text/plain": [
       "                    Time  weekday       price  percent_change_24  \\\n",
       "0    2020-10-02 09:30:00        4  529.000000          -1.232518   \n",
       "1    2020-10-02 10:30:00        4  539.695007          -3.189770   \n",
       "2    2020-10-02 11:30:00        4  533.020020          -1.977419   \n",
       "3    2020-10-02 12:30:00        4  531.131287          -1.628845   \n",
       "4    2020-10-02 13:30:00        4  529.250000          -1.279172   \n",
       "...                  ...      ...         ...                ...   \n",
       "4706 2021-04-16 11:30:00        4  637.080017                NaN   \n",
       "4707 2021-04-16 12:30:00        4  640.500000                NaN   \n",
       "4708 2021-04-16 13:30:00        4  638.159973                NaN   \n",
       "4709 2021-04-16 14:30:00        4  636.869995                NaN   \n",
       "4710 2021-04-16 15:30:00        4  637.210022                NaN   \n",
       "\n",
       "      percent_change_48  percent_change_72  percent_change_96  \n",
       "0             -1.232518           0.083176           4.574671  \n",
       "1             -3.189770           0.462297           4.352456  \n",
       "2             -1.977419           1.378930           4.202462  \n",
       "3             -1.628845           2.396526           5.256460  \n",
       "4             -1.279172           2.638645           5.963155  \n",
       "...                 ...                ...                ...  \n",
       "4706                NaN                NaN                NaN  \n",
       "4707                NaN                NaN                NaN  \n",
       "4708                NaN                NaN                NaN  \n",
       "4709                NaN                NaN                NaN  \n",
       "4710                NaN                NaN                NaN  \n",
       "\n",
       "[4711 rows x 7 columns]"
      ]
     },
     "execution_count": 8,
     "metadata": {},
     "output_type": "execute_result"
    }
   ],
   "source": [
    "df"
   ]
  },
  {
   "cell_type": "code",
   "execution_count": 17,
   "metadata": {},
   "outputs": [
    {
     "name": "stdout",
     "output_type": "stream",
     "text": [
      "<class 'pandas.core.frame.DataFrame'>\n",
      "RangeIndex: 4614 entries, 0 to 4613\n",
      "Data columns (total 7 columns):\n",
      " #   Column             Non-Null Count  Dtype         \n",
      "---  ------             --------------  -----         \n",
      " 0   Time               4614 non-null   datetime64[ns]\n",
      " 1   weekday            4614 non-null   int64         \n",
      " 2   price              4614 non-null   float64       \n",
      " 3   percent_change_24  4614 non-null   float64       \n",
      " 4   percent_change_48  4614 non-null   float64       \n",
      " 5   percent_change_72  4614 non-null   float64       \n",
      " 6   percent_change_96  4614 non-null   float64       \n",
      "dtypes: datetime64[ns](1), float64(5), int64(1)\n",
      "memory usage: 252.5 KB\n"
     ]
    }
   ],
   "source": [
    "df.iloc[:4614,:].info()"
   ]
  },
  {
   "cell_type": "code",
   "execution_count": 18,
   "metadata": {},
   "outputs": [],
   "source": [
    "df = df.iloc[:4614,:]"
   ]
  },
  {
   "cell_type": "code",
   "execution_count": 19,
   "metadata": {},
   "outputs": [
    {
     "name": "stderr",
     "output_type": "stream",
     "text": [
      "/Users/mymacbookpro/anaconda3/lib/python3.7/site-packages/ipykernel_launcher.py:4: SettingWithCopyWarning: \n",
      "A value is trying to be set on a copy of a slice from a DataFrame.\n",
      "Try using .loc[row_indexer,col_indexer] = value instead\n",
      "\n",
      "See the caveats in the documentation: https://pandas.pydata.org/pandas-docs/stable/user_guide/indexing.html#returning-a-view-versus-a-copy\n",
      "  after removing the cwd from sys.path.\n"
     ]
    }
   ],
   "source": [
    "import numpy as np\n",
    "bins = [-(np.inf), -3, 3, np.inf]\n",
    "names = ['sell', 'hold', 'buy']\n",
    "df['action'] = pd.cut(df['percent_change_96'], bins, labels=names)\n",
    "df = df.reset_index()"
   ]
  },
  {
   "cell_type": "code",
   "execution_count": 20,
   "metadata": {},
   "outputs": [
    {
     "data": {
      "text/html": [
       "<div>\n",
       "<style scoped>\n",
       "    .dataframe tbody tr th:only-of-type {\n",
       "        vertical-align: middle;\n",
       "    }\n",
       "\n",
       "    .dataframe tbody tr th {\n",
       "        vertical-align: top;\n",
       "    }\n",
       "\n",
       "    .dataframe thead th {\n",
       "        text-align: right;\n",
       "    }\n",
       "</style>\n",
       "<table border=\"1\" class=\"dataframe\">\n",
       "  <thead>\n",
       "    <tr style=\"text-align: right;\">\n",
       "      <th></th>\n",
       "      <th>index</th>\n",
       "      <th>Time</th>\n",
       "      <th>weekday</th>\n",
       "      <th>price</th>\n",
       "      <th>percent_change_24</th>\n",
       "      <th>percent_change_48</th>\n",
       "      <th>percent_change_72</th>\n",
       "      <th>percent_change_96</th>\n",
       "      <th>action</th>\n",
       "    </tr>\n",
       "  </thead>\n",
       "  <tbody>\n",
       "    <tr>\n",
       "      <th>0</th>\n",
       "      <td>0</td>\n",
       "      <td>2020-10-02 09:30:00</td>\n",
       "      <td>4</td>\n",
       "      <td>529.000000</td>\n",
       "      <td>-1.232518</td>\n",
       "      <td>-1.232518</td>\n",
       "      <td>0.083176</td>\n",
       "      <td>4.574671</td>\n",
       "      <td>buy</td>\n",
       "    </tr>\n",
       "    <tr>\n",
       "      <th>1</th>\n",
       "      <td>1</td>\n",
       "      <td>2020-10-02 10:30:00</td>\n",
       "      <td>4</td>\n",
       "      <td>539.695007</td>\n",
       "      <td>-3.189770</td>\n",
       "      <td>-3.189770</td>\n",
       "      <td>0.462297</td>\n",
       "      <td>4.352456</td>\n",
       "      <td>buy</td>\n",
       "    </tr>\n",
       "    <tr>\n",
       "      <th>2</th>\n",
       "      <td>2</td>\n",
       "      <td>2020-10-02 11:30:00</td>\n",
       "      <td>4</td>\n",
       "      <td>533.020020</td>\n",
       "      <td>-1.977419</td>\n",
       "      <td>-1.977419</td>\n",
       "      <td>1.378930</td>\n",
       "      <td>4.202462</td>\n",
       "      <td>buy</td>\n",
       "    </tr>\n",
       "    <tr>\n",
       "      <th>3</th>\n",
       "      <td>3</td>\n",
       "      <td>2020-10-02 12:30:00</td>\n",
       "      <td>4</td>\n",
       "      <td>531.131287</td>\n",
       "      <td>-1.628845</td>\n",
       "      <td>-1.628845</td>\n",
       "      <td>2.396526</td>\n",
       "      <td>5.256460</td>\n",
       "      <td>buy</td>\n",
       "    </tr>\n",
       "    <tr>\n",
       "      <th>4</th>\n",
       "      <td>4</td>\n",
       "      <td>2020-10-02 13:30:00</td>\n",
       "      <td>4</td>\n",
       "      <td>529.250000</td>\n",
       "      <td>-1.279172</td>\n",
       "      <td>-1.279172</td>\n",
       "      <td>2.638645</td>\n",
       "      <td>5.963155</td>\n",
       "      <td>buy</td>\n",
       "    </tr>\n",
       "    <tr>\n",
       "      <th>...</th>\n",
       "      <td>...</td>\n",
       "      <td>...</td>\n",
       "      <td>...</td>\n",
       "      <td>...</td>\n",
       "      <td>...</td>\n",
       "      <td>...</td>\n",
       "      <td>...</td>\n",
       "      <td>...</td>\n",
       "      <td>...</td>\n",
       "    </tr>\n",
       "    <tr>\n",
       "      <th>4609</th>\n",
       "      <td>4609</td>\n",
       "      <td>2021-04-12 10:30:00</td>\n",
       "      <td>0</td>\n",
       "      <td>569.349976</td>\n",
       "      <td>9.229832</td>\n",
       "      <td>8.237468</td>\n",
       "      <td>12.364982</td>\n",
       "      <td>12.159488</td>\n",
       "      <td>buy</td>\n",
       "    </tr>\n",
       "    <tr>\n",
       "      <th>4610</th>\n",
       "      <td>4610</td>\n",
       "      <td>2021-04-12 11:30:00</td>\n",
       "      <td>0</td>\n",
       "      <td>571.909973</td>\n",
       "      <td>8.322120</td>\n",
       "      <td>8.345780</td>\n",
       "      <td>11.392532</td>\n",
       "      <td>11.395158</td>\n",
       "      <td>buy</td>\n",
       "    </tr>\n",
       "    <tr>\n",
       "      <th>4611</th>\n",
       "      <td>4611</td>\n",
       "      <td>2021-04-12 12:30:00</td>\n",
       "      <td>0</td>\n",
       "      <td>585.020020</td>\n",
       "      <td>5.828835</td>\n",
       "      <td>6.247668</td>\n",
       "      <td>9.258257</td>\n",
       "      <td>9.483433</td>\n",
       "      <td>buy</td>\n",
       "    </tr>\n",
       "    <tr>\n",
       "      <th>4612</th>\n",
       "      <td>4612</td>\n",
       "      <td>2021-04-12 13:30:00</td>\n",
       "      <td>0</td>\n",
       "      <td>597.950012</td>\n",
       "      <td>4.296540</td>\n",
       "      <td>3.923398</td>\n",
       "      <td>7.547454</td>\n",
       "      <td>6.724636</td>\n",
       "      <td>buy</td>\n",
       "    </tr>\n",
       "    <tr>\n",
       "      <th>4613</th>\n",
       "      <td>4613</td>\n",
       "      <td>2021-04-12 14:30:00</td>\n",
       "      <td>0</td>\n",
       "      <td>610.741211</td>\n",
       "      <td>1.816920</td>\n",
       "      <td>0.964204</td>\n",
       "      <td>6.031819</td>\n",
       "      <td>4.278209</td>\n",
       "      <td>buy</td>\n",
       "    </tr>\n",
       "  </tbody>\n",
       "</table>\n",
       "<p>4614 rows × 9 columns</p>\n",
       "</div>"
      ],
      "text/plain": [
       "      index                Time  weekday       price  percent_change_24  \\\n",
       "0         0 2020-10-02 09:30:00        4  529.000000          -1.232518   \n",
       "1         1 2020-10-02 10:30:00        4  539.695007          -3.189770   \n",
       "2         2 2020-10-02 11:30:00        4  533.020020          -1.977419   \n",
       "3         3 2020-10-02 12:30:00        4  531.131287          -1.628845   \n",
       "4         4 2020-10-02 13:30:00        4  529.250000          -1.279172   \n",
       "...     ...                 ...      ...         ...                ...   \n",
       "4609   4609 2021-04-12 10:30:00        0  569.349976           9.229832   \n",
       "4610   4610 2021-04-12 11:30:00        0  571.909973           8.322120   \n",
       "4611   4611 2021-04-12 12:30:00        0  585.020020           5.828835   \n",
       "4612   4612 2021-04-12 13:30:00        0  597.950012           4.296540   \n",
       "4613   4613 2021-04-12 14:30:00        0  610.741211           1.816920   \n",
       "\n",
       "      percent_change_48  percent_change_72  percent_change_96 action  \n",
       "0             -1.232518           0.083176           4.574671    buy  \n",
       "1             -3.189770           0.462297           4.352456    buy  \n",
       "2             -1.977419           1.378930           4.202462    buy  \n",
       "3             -1.628845           2.396526           5.256460    buy  \n",
       "4             -1.279172           2.638645           5.963155    buy  \n",
       "...                 ...                ...                ...    ...  \n",
       "4609           8.237468          12.364982          12.159488    buy  \n",
       "4610           8.345780          11.392532          11.395158    buy  \n",
       "4611           6.247668           9.258257           9.483433    buy  \n",
       "4612           3.923398           7.547454           6.724636    buy  \n",
       "4613           0.964204           6.031819           4.278209    buy  \n",
       "\n",
       "[4614 rows x 9 columns]"
      ]
     },
     "execution_count": 20,
     "metadata": {},
     "output_type": "execute_result"
    }
   ],
   "source": [
    "df"
   ]
  },
  {
   "cell_type": "code",
   "execution_count": 21,
   "metadata": {},
   "outputs": [],
   "source": [
    "df.to_csv(\"test_response.csv\")"
   ]
  },
  {
   "cell_type": "code",
   "execution_count": null,
   "metadata": {},
   "outputs": [],
   "source": [
    "a.tail()"
   ]
  },
  {
   "cell_type": "code",
   "execution_count": null,
   "metadata": {},
   "outputs": [],
   "source": [
    "nvda = download_stock_data('NVDA')\n",
    "nvda.head()"
   ]
  },
  {
   "cell_type": "code",
   "execution_count": null,
   "metadata": {},
   "outputs": [],
   "source": [
    "nvda.head(60)"
   ]
  },
  {
   "cell_type": "code",
   "execution_count": null,
   "metadata": {},
   "outputs": [],
   "source": [
    "time_price = dict(zip(df_time.Time,df_time.price))"
   ]
  },
  {
   "cell_type": "code",
   "execution_count": null,
   "metadata": {},
   "outputs": [],
   "source": [
    "future_price = []\n",
    "for i, row in nvda.iterrows():\n",
    "    key = row['Time']+timedelta(hours=24)\n",
    "    day = row['weekday']\n",
    "    if key.weekday()>4:\n",
    "        key += timedelta(hours=48)\n",
    "    if key in time_price:\n",
    "        future_price.append(time_price[key])\n",
    "    else:\n",
    "        future_price.append(None)"
   ]
  },
  {
   "cell_type": "code",
   "execution_count": null,
   "metadata": {},
   "outputs": [],
   "source": []
  },
  {
   "cell_type": "code",
   "execution_count": 22,
   "metadata": {},
   "outputs": [
    {
     "name": "stdout",
     "output_type": "stream",
     "text": [
      "[*********************100%***********************]  1 of 1 completed\n",
      "[*********************100%***********************]  1 of 1 completed\n",
      "[*********************100%***********************]  1 of 1 completed\n",
      "[*********************100%***********************]  1 of 1 completed\n",
      "[*********************100%***********************]  1 of 1 completed\n",
      "[*********************100%***********************]  1 of 1 completed\n"
     ]
    }
   ],
   "source": [
    "import pandas as pd\n",
    "import numpy as np\n",
    "import yfinance as yf\n",
    "msft = yf.download('MSFT', start=\"2020-10-02\", \n",
    "                   end=\"2021-04-13\",interval='60m')\n",
    "amd = yf.download('AMD', start=\"2020-10-02\", \n",
    "                   end=\"2021-04-13\",interval='60m')\n",
    "ndaq = yf.download('NDAQ', start=\"2020-10-02\", \n",
    "                   end=\"2021-04-13\",interval='60m')\n",
    "intel = yf.download('INTC', start=\"2020-10-02\", \n",
    "                   end=\"2021-04-13\",interval='60m')\n",
    "qualcomm = yf.download('QCOM', start=\"2020-10-02\", \n",
    "                   end=\"2021-04-13\",interval='60m')\n",
    "apple = yf.download('AAPL', start=\"2020-10-02\", \n",
    "                   end=\"2021-04-13\",interval='60m')"
   ]
  },
  {
   "cell_type": "code",
   "execution_count": 23,
   "metadata": {},
   "outputs": [
    {
     "data": {
      "text/html": [
       "<div>\n",
       "<style scoped>\n",
       "    .dataframe tbody tr th:only-of-type {\n",
       "        vertical-align: middle;\n",
       "    }\n",
       "\n",
       "    .dataframe tbody tr th {\n",
       "        vertical-align: top;\n",
       "    }\n",
       "\n",
       "    .dataframe thead th {\n",
       "        text-align: right;\n",
       "    }\n",
       "</style>\n",
       "<table border=\"1\" class=\"dataframe\">\n",
       "  <thead>\n",
       "    <tr style=\"text-align: right;\">\n",
       "      <th></th>\n",
       "      <th>Open</th>\n",
       "      <th>High</th>\n",
       "      <th>Low</th>\n",
       "      <th>Close</th>\n",
       "      <th>Adj Close</th>\n",
       "      <th>Volume</th>\n",
       "    </tr>\n",
       "    <tr>\n",
       "      <th>Datetime</th>\n",
       "      <th></th>\n",
       "      <th></th>\n",
       "      <th></th>\n",
       "      <th></th>\n",
       "      <th></th>\n",
       "      <th></th>\n",
       "    </tr>\n",
       "  </thead>\n",
       "  <tbody>\n",
       "    <tr>\n",
       "      <th>2020-10-02 09:30:00-04:00</th>\n",
       "      <td>208.000000</td>\n",
       "      <td>210.990005</td>\n",
       "      <td>207.990005</td>\n",
       "      <td>210.589996</td>\n",
       "      <td>210.589996</td>\n",
       "      <td>6766464</td>\n",
       "    </tr>\n",
       "    <tr>\n",
       "      <th>2020-10-02 10:30:00-04:00</th>\n",
       "      <td>210.570007</td>\n",
       "      <td>210.570007</td>\n",
       "      <td>208.350006</td>\n",
       "      <td>208.429993</td>\n",
       "      <td>208.429993</td>\n",
       "      <td>3446914</td>\n",
       "    </tr>\n",
       "    <tr>\n",
       "      <th>2020-10-02 11:30:00-04:00</th>\n",
       "      <td>208.419998</td>\n",
       "      <td>208.419998</td>\n",
       "      <td>205.539993</td>\n",
       "      <td>207.649994</td>\n",
       "      <td>207.649994</td>\n",
       "      <td>5986975</td>\n",
       "    </tr>\n",
       "    <tr>\n",
       "      <th>2020-10-02 12:30:00-04:00</th>\n",
       "      <td>207.649994</td>\n",
       "      <td>208.020004</td>\n",
       "      <td>206.470001</td>\n",
       "      <td>207.570007</td>\n",
       "      <td>207.570007</td>\n",
       "      <td>3219125</td>\n",
       "    </tr>\n",
       "    <tr>\n",
       "      <th>2020-10-02 13:30:00-04:00</th>\n",
       "      <td>207.559998</td>\n",
       "      <td>208.262695</td>\n",
       "      <td>206.589996</td>\n",
       "      <td>207.830002</td>\n",
       "      <td>207.830002</td>\n",
       "      <td>2662164</td>\n",
       "    </tr>\n",
       "    <tr>\n",
       "      <th>...</th>\n",
       "      <td>...</td>\n",
       "      <td>...</td>\n",
       "      <td>...</td>\n",
       "      <td>...</td>\n",
       "      <td>...</td>\n",
       "      <td>...</td>\n",
       "    </tr>\n",
       "    <tr>\n",
       "      <th>2021-04-12 11:30:00-04:00</th>\n",
       "      <td>256.600006</td>\n",
       "      <td>257.489990</td>\n",
       "      <td>256.220001</td>\n",
       "      <td>257.230011</td>\n",
       "      <td>257.230011</td>\n",
       "      <td>2333119</td>\n",
       "    </tr>\n",
       "    <tr>\n",
       "      <th>2021-04-12 12:30:00-04:00</th>\n",
       "      <td>257.220001</td>\n",
       "      <td>257.670013</td>\n",
       "      <td>257.040009</td>\n",
       "      <td>257.309998</td>\n",
       "      <td>257.309998</td>\n",
       "      <td>1823560</td>\n",
       "    </tr>\n",
       "    <tr>\n",
       "      <th>2021-04-12 13:30:00-04:00</th>\n",
       "      <td>257.299988</td>\n",
       "      <td>257.390015</td>\n",
       "      <td>256.279999</td>\n",
       "      <td>256.404999</td>\n",
       "      <td>256.404999</td>\n",
       "      <td>3198200</td>\n",
       "    </tr>\n",
       "    <tr>\n",
       "      <th>2021-04-12 14:30:00-04:00</th>\n",
       "      <td>256.380005</td>\n",
       "      <td>256.459991</td>\n",
       "      <td>255.550003</td>\n",
       "      <td>255.690002</td>\n",
       "      <td>255.690002</td>\n",
       "      <td>2303481</td>\n",
       "    </tr>\n",
       "    <tr>\n",
       "      <th>2021-04-12 15:30:00-04:00</th>\n",
       "      <td>255.679993</td>\n",
       "      <td>256.809998</td>\n",
       "      <td>255.274994</td>\n",
       "      <td>255.919998</td>\n",
       "      <td>255.919998</td>\n",
       "      <td>3350728</td>\n",
       "    </tr>\n",
       "  </tbody>\n",
       "</table>\n",
       "<p>911 rows × 6 columns</p>\n",
       "</div>"
      ],
      "text/plain": [
       "                                 Open        High         Low       Close  \\\n",
       "Datetime                                                                    \n",
       "2020-10-02 09:30:00-04:00  208.000000  210.990005  207.990005  210.589996   \n",
       "2020-10-02 10:30:00-04:00  210.570007  210.570007  208.350006  208.429993   \n",
       "2020-10-02 11:30:00-04:00  208.419998  208.419998  205.539993  207.649994   \n",
       "2020-10-02 12:30:00-04:00  207.649994  208.020004  206.470001  207.570007   \n",
       "2020-10-02 13:30:00-04:00  207.559998  208.262695  206.589996  207.830002   \n",
       "...                               ...         ...         ...         ...   \n",
       "2021-04-12 11:30:00-04:00  256.600006  257.489990  256.220001  257.230011   \n",
       "2021-04-12 12:30:00-04:00  257.220001  257.670013  257.040009  257.309998   \n",
       "2021-04-12 13:30:00-04:00  257.299988  257.390015  256.279999  256.404999   \n",
       "2021-04-12 14:30:00-04:00  256.380005  256.459991  255.550003  255.690002   \n",
       "2021-04-12 15:30:00-04:00  255.679993  256.809998  255.274994  255.919998   \n",
       "\n",
       "                            Adj Close   Volume  \n",
       "Datetime                                        \n",
       "2020-10-02 09:30:00-04:00  210.589996  6766464  \n",
       "2020-10-02 10:30:00-04:00  208.429993  3446914  \n",
       "2020-10-02 11:30:00-04:00  207.649994  5986975  \n",
       "2020-10-02 12:30:00-04:00  207.570007  3219125  \n",
       "2020-10-02 13:30:00-04:00  207.830002  2662164  \n",
       "...                               ...      ...  \n",
       "2021-04-12 11:30:00-04:00  257.230011  2333119  \n",
       "2021-04-12 12:30:00-04:00  257.309998  1823560  \n",
       "2021-04-12 13:30:00-04:00  256.404999  3198200  \n",
       "2021-04-12 14:30:00-04:00  255.690002  2303481  \n",
       "2021-04-12 15:30:00-04:00  255.919998  3350728  \n",
       "\n",
       "[911 rows x 6 columns]"
      ]
     },
     "execution_count": 23,
     "metadata": {},
     "output_type": "execute_result"
    }
   ],
   "source": [
    "msft"
   ]
  },
  {
   "cell_type": "code",
   "execution_count": 24,
   "metadata": {},
   "outputs": [
    {
     "ename": "NameError",
     "evalue": "name 'data' is not defined",
     "output_type": "error",
     "traceback": [
      "\u001b[0;31m---------------------------------------------------------------------------\u001b[0m",
      "\u001b[0;31mNameError\u001b[0m                                 Traceback (most recent call last)",
      "\u001b[0;32m<ipython-input-24-e83219ed3147>\u001b[0m in \u001b[0;36m<module>\u001b[0;34m\u001b[0m\n\u001b[0;32m----> 1\u001b[0;31m \u001b[0mdata\u001b[0m\u001b[0;34m.\u001b[0m\u001b[0mdrop\u001b[0m\u001b[0;34m(\u001b[0m\u001b[0;34m[\u001b[0m\u001b[0;34m'Datetime'\u001b[0m\u001b[0;34m,\u001b[0m\u001b[0;34m'High'\u001b[0m\u001b[0;34m,\u001b[0m\u001b[0;34m'Low'\u001b[0m\u001b[0;34m,\u001b[0m\u001b[0;34m'Adj Close'\u001b[0m\u001b[0;34m,\u001b[0m \u001b[0;34m'Volume'\u001b[0m\u001b[0;34m]\u001b[0m\u001b[0;34m,\u001b[0m\u001b[0maxis\u001b[0m\u001b[0;34m=\u001b[0m\u001b[0;36m1\u001b[0m\u001b[0;34m,\u001b[0m\u001b[0minplace\u001b[0m\u001b[0;34m=\u001b[0m\u001b[0;32mTrue\u001b[0m\u001b[0;34m)\u001b[0m\u001b[0;34m\u001b[0m\u001b[0;34m\u001b[0m\u001b[0m\n\u001b[0m\u001b[1;32m      2\u001b[0m \u001b[0mcols\u001b[0m \u001b[0;34m=\u001b[0m \u001b[0;34m[\u001b[0m\u001b[0;34m'Time'\u001b[0m\u001b[0;34m,\u001b[0m\u001b[0;34m'Open'\u001b[0m\u001b[0;34m,\u001b[0m\u001b[0;34m'Close'\u001b[0m\u001b[0;34m]\u001b[0m\u001b[0;34m\u001b[0m\u001b[0;34m\u001b[0m\u001b[0m\n\u001b[1;32m      3\u001b[0m \u001b[0mdata\u001b[0m\u001b[0;34m=\u001b[0m\u001b[0mdata\u001b[0m\u001b[0;34m[\u001b[0m\u001b[0mcols\u001b[0m\u001b[0;34m]\u001b[0m\u001b[0;34m\u001b[0m\u001b[0;34m\u001b[0m\u001b[0m\n",
      "\u001b[0;31mNameError\u001b[0m: name 'data' is not defined"
     ]
    }
   ],
   "source": [
    "data.drop(['Datetime','High','Low','Adj Close', 'Volume'],axis=1,inplace=True)\n",
    "cols = ['Time','Open','Close']\n",
    "data=data[cols]"
   ]
  },
  {
   "cell_type": "code",
   "execution_count": null,
   "metadata": {},
   "outputs": [],
   "source": [
    "frame = [msft,amd.iloc[:,2],ndaq.iloc[:,2],intel.iloc[:,2],\n",
    "         qualcomm.iloc[:,2],apple.iloc[:,2]]\n",
    "stock_df = pd.concat(frame,axis=1)\n",
    "stock_df.columns = ['Time','weekday','msft','amd','ndaq','intel',\n",
    "                    'qualcomm','apple']"
   ]
  },
  {
   "cell_type": "code",
   "execution_count": 25,
   "metadata": {},
   "outputs": [
    {
     "ename": "TypeError",
     "evalue": "download_stock_data() missing 2 required positional arguments: 'lookforward' and 'end_date'",
     "output_type": "error",
     "traceback": [
      "\u001b[0;31m---------------------------------------------------------------------------\u001b[0m",
      "\u001b[0;31mTypeError\u001b[0m                                 Traceback (most recent call last)",
      "\u001b[0;32m<ipython-input-25-bedab367ebf9>\u001b[0m in \u001b[0;36m<module>\u001b[0;34m\u001b[0m\n\u001b[0;32m----> 1\u001b[0;31m \u001b[0mmsft\u001b[0m \u001b[0;34m=\u001b[0m \u001b[0mdownload_stock_data\u001b[0m\u001b[0;34m(\u001b[0m\u001b[0;34m'MSFT'\u001b[0m\u001b[0;34m)\u001b[0m\u001b[0;34m\u001b[0m\u001b[0;34m\u001b[0m\u001b[0m\n\u001b[0m\u001b[1;32m      2\u001b[0m \u001b[0mamd\u001b[0m \u001b[0;34m=\u001b[0m \u001b[0mdownload_stock_data\u001b[0m\u001b[0;34m(\u001b[0m\u001b[0;34m'AMD'\u001b[0m\u001b[0;34m)\u001b[0m\u001b[0;34m\u001b[0m\u001b[0;34m\u001b[0m\u001b[0m\n\u001b[1;32m      3\u001b[0m \u001b[0mndaq\u001b[0m \u001b[0;34m=\u001b[0m \u001b[0mdownload_stock_data\u001b[0m\u001b[0;34m(\u001b[0m\u001b[0;34m'NDAQ'\u001b[0m\u001b[0;34m)\u001b[0m\u001b[0;34m\u001b[0m\u001b[0;34m\u001b[0m\u001b[0m\n\u001b[1;32m      4\u001b[0m \u001b[0mintel\u001b[0m \u001b[0;34m=\u001b[0m \u001b[0mdownload_stock_data\u001b[0m\u001b[0;34m(\u001b[0m\u001b[0;34m'INTC'\u001b[0m\u001b[0;34m)\u001b[0m\u001b[0;34m\u001b[0m\u001b[0;34m\u001b[0m\u001b[0m\n\u001b[1;32m      5\u001b[0m \u001b[0mqualcomm\u001b[0m \u001b[0;34m=\u001b[0m \u001b[0mdownload_stock_data\u001b[0m\u001b[0;34m(\u001b[0m\u001b[0;34m'QCOM'\u001b[0m\u001b[0;34m)\u001b[0m\u001b[0;34m\u001b[0m\u001b[0;34m\u001b[0m\u001b[0m\n",
      "\u001b[0;31mTypeError\u001b[0m: download_stock_data() missing 2 required positional arguments: 'lookforward' and 'end_date'"
     ]
    }
   ],
   "source": [
    "msft = download_stock_data('MSFT')\n",
    "amd = download_stock_data('AMD')\n",
    "ndaq = download_stock_data('NDAQ')\n",
    "intel = download_stock_data('INTC')\n",
    "qualcomm = download_stock_data('QCOM')\n",
    "apple = download_stock_data('AAPL')"
   ]
  },
  {
   "cell_type": "code",
   "execution_count": null,
   "metadata": {},
   "outputs": [],
   "source": [
    "download_stock_data('MSFT',0,'2021-04-02')"
   ]
  },
  {
   "cell_type": "code",
   "execution_count": 26,
   "metadata": {},
   "outputs": [
    {
     "name": "stdout",
     "output_type": "stream",
     "text": [
      "[*********************100%***********************]  1 of 1 completed\n",
      "[*********************100%***********************]  1 of 1 completed\n",
      "[*********************100%***********************]  1 of 1 completed\n",
      "[*********************100%***********************]  1 of 1 completed\n",
      "[*********************100%***********************]  1 of 1 completed\n",
      "[*********************100%***********************]  1 of 1 completed\n"
     ]
    }
   ],
   "source": [
    "msft = download_stock_data('MSFT',0,'2021-04-13').iloc[:,[0,2]]\n",
    "amd = download_stock_data('AMD',0,'2021-04-13').iloc[:,[0,2]]\n",
    "ndaq = download_stock_data('NDAQ',0,'2021-04-13').iloc[:,[0,2]]\n",
    "intel = download_stock_data('INTC',0,'2021-04-13').iloc[:,[0,2]]\n",
    "qualcomm = download_stock_data('QCOM',0,'2021-04-13').iloc[:,[0,2]]\n",
    "apple = download_stock_data('AAPL',0,'2021-04-13').iloc[:,[0,2]]"
   ]
  },
  {
   "cell_type": "code",
   "execution_count": null,
   "metadata": {},
   "outputs": [],
   "source": [
    "msft"
   ]
  },
  {
   "cell_type": "code",
   "execution_count": null,
   "metadata": {},
   "outputs": [],
   "source": []
  },
  {
   "cell_type": "code",
   "execution_count": 27,
   "metadata": {},
   "outputs": [],
   "source": [
    "frame = [msft.iloc[:,:2],amd.iloc[:,1],ndaq.iloc[:,1],intel.iloc[:,1],\n",
    "         qualcomm.iloc[:,1],apple.iloc[:,1]]\n",
    "stock_df = pd.concat(frame,axis=1)"
   ]
  },
  {
   "cell_type": "code",
   "execution_count": 28,
   "metadata": {},
   "outputs": [],
   "source": [
    "stock_df.columns = ['Time','msft','amd','ndaq','intel',\n",
    "                    'qualcomm','apple']"
   ]
  },
  {
   "cell_type": "code",
   "execution_count": 29,
   "metadata": {},
   "outputs": [
    {
     "data": {
      "text/html": [
       "<div>\n",
       "<style scoped>\n",
       "    .dataframe tbody tr th:only-of-type {\n",
       "        vertical-align: middle;\n",
       "    }\n",
       "\n",
       "    .dataframe tbody tr th {\n",
       "        vertical-align: top;\n",
       "    }\n",
       "\n",
       "    .dataframe thead th {\n",
       "        text-align: right;\n",
       "    }\n",
       "</style>\n",
       "<table border=\"1\" class=\"dataframe\">\n",
       "  <thead>\n",
       "    <tr style=\"text-align: right;\">\n",
       "      <th></th>\n",
       "      <th>Time</th>\n",
       "      <th>msft</th>\n",
       "      <th>amd</th>\n",
       "      <th>ndaq</th>\n",
       "      <th>intel</th>\n",
       "      <th>qualcomm</th>\n",
       "      <th>apple</th>\n",
       "    </tr>\n",
       "  </thead>\n",
       "  <tbody>\n",
       "    <tr>\n",
       "      <th>0</th>\n",
       "      <td>2020-10-02 09:30:00</td>\n",
       "      <td>208.000000</td>\n",
       "      <td>82.580002</td>\n",
       "      <td>122.660004</td>\n",
       "      <td>51.500000</td>\n",
       "      <td>116.779999</td>\n",
       "      <td>112.889999</td>\n",
       "    </tr>\n",
       "    <tr>\n",
       "      <th>1</th>\n",
       "      <td>2020-10-02 10:30:00</td>\n",
       "      <td>210.570007</td>\n",
       "      <td>84.500000</td>\n",
       "      <td>123.910004</td>\n",
       "      <td>51.880001</td>\n",
       "      <td>118.599998</td>\n",
       "      <td>115.188004</td>\n",
       "    </tr>\n",
       "    <tr>\n",
       "      <th>2</th>\n",
       "      <td>2020-10-02 11:30:00</td>\n",
       "      <td>208.419998</td>\n",
       "      <td>83.180000</td>\n",
       "      <td>124.419998</td>\n",
       "      <td>51.634998</td>\n",
       "      <td>117.800003</td>\n",
       "      <td>114.430000</td>\n",
       "    </tr>\n",
       "    <tr>\n",
       "      <th>3</th>\n",
       "      <td>2020-10-02 12:30:00</td>\n",
       "      <td>207.649994</td>\n",
       "      <td>82.739998</td>\n",
       "      <td>123.364998</td>\n",
       "      <td>51.610001</td>\n",
       "      <td>116.919998</td>\n",
       "      <td>114.199997</td>\n",
       "    </tr>\n",
       "    <tr>\n",
       "      <th>4</th>\n",
       "      <td>2020-10-02 13:30:00</td>\n",
       "      <td>207.559998</td>\n",
       "      <td>82.430000</td>\n",
       "      <td>123.959999</td>\n",
       "      <td>51.560001</td>\n",
       "      <td>116.550003</td>\n",
       "      <td>113.900002</td>\n",
       "    </tr>\n",
       "    <tr>\n",
       "      <th>...</th>\n",
       "      <td>...</td>\n",
       "      <td>...</td>\n",
       "      <td>...</td>\n",
       "      <td>...</td>\n",
       "      <td>...</td>\n",
       "      <td>...</td>\n",
       "      <td>...</td>\n",
       "    </tr>\n",
       "    <tr>\n",
       "      <th>4610</th>\n",
       "      <td>2021-04-12 11:30:00</td>\n",
       "      <td>256.600006</td>\n",
       "      <td>81.720001</td>\n",
       "      <td>156.535004</td>\n",
       "      <td>68.059998</td>\n",
       "      <td>138.500000</td>\n",
       "      <td>131.210007</td>\n",
       "    </tr>\n",
       "    <tr>\n",
       "      <th>4611</th>\n",
       "      <td>2021-04-12 12:30:00</td>\n",
       "      <td>257.220001</td>\n",
       "      <td>80.900002</td>\n",
       "      <td>156.759995</td>\n",
       "      <td>65.510002</td>\n",
       "      <td>138.389999</td>\n",
       "      <td>131.270096</td>\n",
       "    </tr>\n",
       "    <tr>\n",
       "      <th>4612</th>\n",
       "      <td>2021-04-12 13:30:00</td>\n",
       "      <td>257.299988</td>\n",
       "      <td>79.699997</td>\n",
       "      <td>156.149994</td>\n",
       "      <td>65.355499</td>\n",
       "      <td>138.190002</td>\n",
       "      <td>131.789993</td>\n",
       "    </tr>\n",
       "    <tr>\n",
       "      <th>4613</th>\n",
       "      <td>2021-04-12 14:30:00</td>\n",
       "      <td>256.380005</td>\n",
       "      <td>78.550102</td>\n",
       "      <td>156.110001</td>\n",
       "      <td>64.910004</td>\n",
       "      <td>136.820007</td>\n",
       "      <td>131.535004</td>\n",
       "    </tr>\n",
       "    <tr>\n",
       "      <th>4614</th>\n",
       "      <td>2021-04-12 15:30:00</td>\n",
       "      <td>255.679993</td>\n",
       "      <td>78.150002</td>\n",
       "      <td>155.985001</td>\n",
       "      <td>65.190002</td>\n",
       "      <td>136.880005</td>\n",
       "      <td>131.309296</td>\n",
       "    </tr>\n",
       "  </tbody>\n",
       "</table>\n",
       "<p>4615 rows × 7 columns</p>\n",
       "</div>"
      ],
      "text/plain": [
       "                    Time        msft        amd        ndaq      intel  \\\n",
       "0    2020-10-02 09:30:00  208.000000  82.580002  122.660004  51.500000   \n",
       "1    2020-10-02 10:30:00  210.570007  84.500000  123.910004  51.880001   \n",
       "2    2020-10-02 11:30:00  208.419998  83.180000  124.419998  51.634998   \n",
       "3    2020-10-02 12:30:00  207.649994  82.739998  123.364998  51.610001   \n",
       "4    2020-10-02 13:30:00  207.559998  82.430000  123.959999  51.560001   \n",
       "...                  ...         ...        ...         ...        ...   \n",
       "4610 2021-04-12 11:30:00  256.600006  81.720001  156.535004  68.059998   \n",
       "4611 2021-04-12 12:30:00  257.220001  80.900002  156.759995  65.510002   \n",
       "4612 2021-04-12 13:30:00  257.299988  79.699997  156.149994  65.355499   \n",
       "4613 2021-04-12 14:30:00  256.380005  78.550102  156.110001  64.910004   \n",
       "4614 2021-04-12 15:30:00  255.679993  78.150002  155.985001  65.190002   \n",
       "\n",
       "        qualcomm       apple  \n",
       "0     116.779999  112.889999  \n",
       "1     118.599998  115.188004  \n",
       "2     117.800003  114.430000  \n",
       "3     116.919998  114.199997  \n",
       "4     116.550003  113.900002  \n",
       "...          ...         ...  \n",
       "4610  138.500000  131.210007  \n",
       "4611  138.389999  131.270096  \n",
       "4612  138.190002  131.789993  \n",
       "4613  136.820007  131.535004  \n",
       "4614  136.880005  131.309296  \n",
       "\n",
       "[4615 rows x 7 columns]"
      ]
     },
     "execution_count": 29,
     "metadata": {},
     "output_type": "execute_result"
    }
   ],
   "source": [
    "stock_df"
   ]
  },
  {
   "cell_type": "code",
   "execution_count": 30,
   "metadata": {},
   "outputs": [],
   "source": [
    "stock_df.to_csv(\"stock_price_APR12.csv\")"
   ]
  },
  {
   "cell_type": "code",
   "execution_count": null,
   "metadata": {},
   "outputs": [],
   "source": [
    "import pandas as pd\n",
    "import numpy as np\n",
    "import yfinance as yf"
   ]
  },
  {
   "cell_type": "code",
   "execution_count": null,
   "metadata": {},
   "outputs": [],
   "source": [
    "nvda = create_response(\"2020-10-02\", \"2021-03-19\",\"NVDA\")"
   ]
  },
  {
   "cell_type": "code",
   "execution_count": null,
   "metadata": {},
   "outputs": [],
   "source": [
    "import yfinance as yf\n",
    "data = yf.download(\"MSFT\", start=\"2020-10-02\", end=\"2021-03-23\",interval='60m')"
   ]
  },
  {
   "cell_type": "code",
   "execution_count": null,
   "metadata": {},
   "outputs": [],
   "source": [
    "data"
   ]
  },
  {
   "cell_type": "code",
   "execution_count": null,
   "metadata": {},
   "outputs": [],
   "source": [
    "data = data.reset_index()"
   ]
  },
  {
   "cell_type": "code",
   "execution_count": null,
   "metadata": {},
   "outputs": [],
   "source": [
    "data['Datetime'] = data['Datetime'].astype('str')"
   ]
  },
  {
   "cell_type": "code",
   "execution_count": null,
   "metadata": {},
   "outputs": [],
   "source": [
    "data.info()"
   ]
  },
  {
   "cell_type": "code",
   "execution_count": null,
   "metadata": {},
   "outputs": [],
   "source": [
    "import pandas as pd\n",
    "time = []\n",
    "for i, row in data.iterrows():\n",
    "    time.append(row['Datetime'][:-6])"
   ]
  },
  {
   "cell_type": "code",
   "execution_count": null,
   "metadata": {},
   "outputs": [],
   "source": [
    "data['Time']=time"
   ]
  },
  {
   "cell_type": "code",
   "execution_count": null,
   "metadata": {},
   "outputs": [],
   "source": [
    "data.head(10)"
   ]
  },
  {
   "cell_type": "code",
   "execution_count": null,
   "metadata": {},
   "outputs": [],
   "source": [
    "data['Time'] = pd.to_datetime(data['Time'])"
   ]
  },
  {
   "cell_type": "code",
   "execution_count": null,
   "metadata": {},
   "outputs": [],
   "source": []
  },
  {
   "cell_type": "code",
   "execution_count": null,
   "metadata": {},
   "outputs": [],
   "source": [
    "data.drop(['Datetime','High','Low','Adj Close', 'Volume'],axis=1,inplace=True)"
   ]
  },
  {
   "cell_type": "code",
   "execution_count": null,
   "metadata": {},
   "outputs": [],
   "source": [
    "cols = ['Time','Open','Close']\n",
    "data=data[cols]"
   ]
  },
  {
   "cell_type": "code",
   "execution_count": null,
   "metadata": {},
   "outputs": [],
   "source": [
    "data.set_index('Time')"
   ]
  },
  {
   "cell_type": "code",
   "execution_count": null,
   "metadata": {},
   "outputs": [],
   "source": [
    "time_open = dict(zip(data.Time,data.Open))\n",
    "time_close = dict(zip(data.Time,data.Close))"
   ]
  },
  {
   "cell_type": "code",
   "execution_count": null,
   "metadata": {},
   "outputs": [],
   "source": [
    "Time_complete = [data.Time[0]]\n",
    "start = data.Time[0]\n",
    "end = data.Time[812]\n",
    "from datetime import datetime, timedelta\n",
    "while start < end:\n",
    "    ele = start + timedelta(hours=1)\n",
    "    Time_complete.append(ele)\n",
    "    start = ele"
   ]
  },
  {
   "cell_type": "code",
   "execution_count": null,
   "metadata": {},
   "outputs": [],
   "source": [
    "df_time = pd.DataFrame(Time_complete,columns=['Time'])"
   ]
  },
  {
   "cell_type": "code",
   "execution_count": null,
   "metadata": {},
   "outputs": [],
   "source": [
    "weekday_lst = []\n",
    "for i,row in df_time.iterrows():\n",
    "    cur = row['Time']\n",
    "    weekday_lst.append(cur.weekday())"
   ]
  },
  {
   "cell_type": "code",
   "execution_count": null,
   "metadata": {},
   "outputs": [],
   "source": [
    "df_time['weekday'] = weekday_lst"
   ]
  },
  {
   "cell_type": "code",
   "execution_count": null,
   "metadata": {},
   "outputs": [],
   "source": [
    "df_time"
   ]
  },
  {
   "cell_type": "code",
   "execution_count": null,
   "metadata": {},
   "outputs": [],
   "source": [
    "price = []\n",
    "from datetime import datetime, timedelta\n",
    "for i,row in df_time.iterrows():\n",
    "    cur = row['Time']\n",
    "    day = row['weekday']\n",
    "    if cur in time_open:\n",
    "        price.append(time_open[cur])\n",
    "    elif (\"16:30:00\" in str(cur) ) :\n",
    "        cur -= timedelta(hours=1)\n",
    "        if cur in time_close:\n",
    "            price.append(time_close[cur])\n",
    "        else:\n",
    "            price.append(None)\n",
    "    else:\n",
    "        price.append(None)"
   ]
  },
  {
   "cell_type": "code",
   "execution_count": null,
   "metadata": {},
   "outputs": [],
   "source": [
    "df_time['price'] = price"
   ]
  },
  {
   "cell_type": "code",
   "execution_count": null,
   "metadata": {},
   "outputs": [],
   "source": [
    "df_time = df_time.fillna(method='ffill')"
   ]
  },
  {
   "cell_type": "code",
   "execution_count": null,
   "metadata": {},
   "outputs": [],
   "source": [
    "df_time.head(30)"
   ]
  },
  {
   "cell_type": "code",
   "execution_count": null,
   "metadata": {},
   "outputs": [],
   "source": []
  },
  {
   "cell_type": "code",
   "execution_count": null,
   "metadata": {},
   "outputs": [],
   "source": []
  },
  {
   "cell_type": "code",
   "execution_count": null,
   "metadata": {},
   "outputs": [],
   "source": [
    "time_price = dict(zip(df_time.Time,df_time.price))"
   ]
  },
  {
   "cell_type": "code",
   "execution_count": null,
   "metadata": {},
   "outputs": [],
   "source": [
    "future_price = []\n",
    "for i, row in df_time.iterrows():\n",
    "    key = row['Time']+timedelta(hours=24)\n",
    "    day = row['weekday']\n",
    "    if key.weekday()>4:\n",
    "        key += timedelta(hours=48)\n",
    "    if key in time_price:\n",
    "        future_price.append(time_price[key])\n",
    "    else:\n",
    "        future_price.append(None)"
   ]
  },
  {
   "cell_type": "code",
   "execution_count": null,
   "metadata": {},
   "outputs": [],
   "source": [
    "df_time['future_price'] = future_price"
   ]
  },
  {
   "cell_type": "code",
   "execution_count": null,
   "metadata": {},
   "outputs": [],
   "source": [
    "df_time.loc[0,:]"
   ]
  },
  {
   "cell_type": "code",
   "execution_count": null,
   "metadata": {},
   "outputs": [],
   "source": [
    "df_time.loc[72,:]"
   ]
  },
  {
   "cell_type": "code",
   "execution_count": null,
   "metadata": {},
   "outputs": [],
   "source": [
    "df_time.info()"
   ]
  },
  {
   "cell_type": "code",
   "execution_count": null,
   "metadata": {},
   "outputs": [],
   "source": [
    "df_time.iloc[4038,:]"
   ]
  },
  {
   "cell_type": "code",
   "execution_count": null,
   "metadata": {},
   "outputs": [],
   "source": [
    "df_time = df_time.iloc[:4039,:]"
   ]
  },
  {
   "cell_type": "code",
   "execution_count": null,
   "metadata": {},
   "outputs": [],
   "source": [
    "df_time"
   ]
  },
  {
   "cell_type": "code",
   "execution_count": null,
   "metadata": {},
   "outputs": [],
   "source": [
    "df_time.info()"
   ]
  },
  {
   "cell_type": "code",
   "execution_count": null,
   "metadata": {},
   "outputs": [],
   "source": [
    "df_time['percent_change'] = ((df_time['future_price'] / df_time['price'])-1)*100"
   ]
  },
  {
   "cell_type": "code",
   "execution_count": null,
   "metadata": {},
   "outputs": [],
   "source": [
    "df_time"
   ]
  },
  {
   "cell_type": "code",
   "execution_count": null,
   "metadata": {},
   "outputs": [],
   "source": [
    "df_time.to_csv(\"./NVDA_price_1h.csv\")"
   ]
  },
  {
   "cell_type": "code",
   "execution_count": null,
   "metadata": {},
   "outputs": [],
   "source": [
    "import pandas as pd\n",
    "df = pd.read_csv('NVDA_price_1h',index_col=0)\n",
    "df"
   ]
  },
  {
   "cell_type": "code",
   "execution_count": null,
   "metadata": {},
   "outputs": [],
   "source": [
    "df['Time'] = pd.to_datetime(df['Time'])"
   ]
  },
  {
   "cell_type": "code",
   "execution_count": null,
   "metadata": {},
   "outputs": [],
   "source": [
    "df.info()"
   ]
  },
  {
   "cell_type": "code",
   "execution_count": null,
   "metadata": {},
   "outputs": [],
   "source": [
    "df.head(15)"
   ]
  },
  {
   "cell_type": "code",
   "execution_count": null,
   "metadata": {},
   "outputs": [],
   "source": [
    "from datetime import datetime, timedelta, date\n",
    "date(2020, 10, 2) in  df['Time']"
   ]
  },
  {
   "cell_type": "code",
   "execution_count": null,
   "metadata": {},
   "outputs": [],
   "source": [
    "df['Time'][0]"
   ]
  },
  {
   "cell_type": "code",
   "execution_count": null,
   "metadata": {},
   "outputs": [],
   "source": [
    "date(2020, 10, 2)"
   ]
  },
  {
   "cell_type": "code",
   "execution_count": null,
   "metadata": {},
   "outputs": [],
   "source": [
    "from datetime import datetime, timedelta\n",
    "df['24_hour_later'] = df['Time'] + timedelta(hours=24)"
   ]
  },
  {
   "cell_type": "code",
   "execution_count": null,
   "metadata": {},
   "outputs": [],
   "source": [
    "df"
   ]
  },
  {
   "cell_type": "code",
   "execution_count": null,
   "metadata": {},
   "outputs": [],
   "source": [
    "time_price = dict(zip(df.Time,df.Open))"
   ]
  },
  {
   "cell_type": "code",
   "execution_count": null,
   "metadata": {},
   "outputs": [],
   "source": [
    "df.iloc[0,2]"
   ]
  },
  {
   "cell_type": "code",
   "execution_count": null,
   "metadata": {},
   "outputs": [],
   "source": [
    "df.iloc[0,2].weekday()"
   ]
  },
  {
   "cell_type": "code",
   "execution_count": null,
   "metadata": {},
   "outputs": [],
   "source": [
    "df.iloc[0,0]"
   ]
  },
  {
   "cell_type": "code",
   "execution_count": null,
   "metadata": {},
   "outputs": [],
   "source": [
    "df.iloc[0,0] in time_price[]"
   ]
  },
  {
   "cell_type": "code",
   "execution_count": null,
   "metadata": {},
   "outputs": [],
   "source": []
  },
  {
   "cell_type": "code",
   "execution_count": null,
   "metadata": {},
   "outputs": [],
   "source": [
    "future_price = []\n",
    "for i, row in df.iterrows():\n",
    "    key = df.iloc[i,2]\n",
    "    if key.weekday()>4:\n",
    "        key += timedelta(hours=48)\n",
    "    if key in time_price:\n",
    "        future_price.append(time_price[key])\n",
    "    else:\n",
    "        future_price.append(None)"
   ]
  },
  {
   "cell_type": "code",
   "execution_count": null,
   "metadata": {},
   "outputs": [],
   "source": [
    "df.head()"
   ]
  },
  {
   "cell_type": "code",
   "execution_count": null,
   "metadata": {},
   "outputs": [],
   "source": [
    "df['future_price'] = future_price"
   ]
  },
  {
   "cell_type": "code",
   "execution_count": null,
   "metadata": {},
   "outputs": [],
   "source": [
    "df.head(30)"
   ]
  },
  {
   "cell_type": "code",
   "execution_count": null,
   "metadata": {},
   "outputs": [],
   "source": [
    "df.info()"
   ]
  },
  {
   "cell_type": "code",
   "execution_count": null,
   "metadata": {},
   "outputs": [],
   "source": []
  },
  {
   "cell_type": "code",
   "execution_count": null,
   "metadata": {},
   "outputs": [],
   "source": []
  }
 ],
 "metadata": {
  "kernelspec": {
   "display_name": "Python 3",
   "language": "python",
   "name": "python3"
  },
  "language_info": {
   "codemirror_mode": {
    "name": "ipython",
    "version": 3
   },
   "file_extension": ".py",
   "mimetype": "text/x-python",
   "name": "python",
   "nbconvert_exporter": "python",
   "pygments_lexer": "ipython3",
   "version": "3.7.3"
  }
 },
 "nbformat": 4,
 "nbformat_minor": 2
}
