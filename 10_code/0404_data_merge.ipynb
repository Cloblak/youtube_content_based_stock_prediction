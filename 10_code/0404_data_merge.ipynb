{
 "cells": [
  {
   "cell_type": "code",
   "execution_count": 1,
   "metadata": {},
   "outputs": [],
   "source": [
    "import pandas as pd"
   ]
  },
  {
   "cell_type": "code",
   "execution_count": 3,
   "metadata": {},
   "outputs": [],
   "source": [
    "df = pd.read_csv('Feature_label_nvda.csv',index_col=0)\n",
    "stock_price = pd.read_csv('stock_price.csv',index_col=0)"
   ]
  },
  {
   "cell_type": "code",
   "execution_count": 4,
   "metadata": {},
   "outputs": [
    {
     "data": {
      "text/html": [
       "<div>\n",
       "<style scoped>\n",
       "    .dataframe tbody tr th:only-of-type {\n",
       "        vertical-align: middle;\n",
       "    }\n",
       "\n",
       "    .dataframe tbody tr th {\n",
       "        vertical-align: top;\n",
       "    }\n",
       "\n",
       "    .dataframe thead th {\n",
       "        text-align: right;\n",
       "    }\n",
       "</style>\n",
       "<table border=\"1\" class=\"dataframe\">\n",
       "  <thead>\n",
       "    <tr style=\"text-align: right;\">\n",
       "      <th></th>\n",
       "      <th>Time</th>\n",
       "      <th>weekday</th>\n",
       "      <th>msft</th>\n",
       "      <th>amd</th>\n",
       "      <th>ndaq</th>\n",
       "      <th>intel</th>\n",
       "      <th>qualcomm</th>\n",
       "      <th>apple</th>\n",
       "    </tr>\n",
       "  </thead>\n",
       "  <tbody>\n",
       "    <tr>\n",
       "      <th>0</th>\n",
       "      <td>2020-10-02 09:30:00</td>\n",
       "      <td>4</td>\n",
       "      <td>208.000000</td>\n",
       "      <td>208.000000</td>\n",
       "      <td>208.000000</td>\n",
       "      <td>208.000000</td>\n",
       "      <td>208.000000</td>\n",
       "      <td>208.000000</td>\n",
       "    </tr>\n",
       "    <tr>\n",
       "      <th>1</th>\n",
       "      <td>2020-10-02 10:30:00</td>\n",
       "      <td>4</td>\n",
       "      <td>210.570007</td>\n",
       "      <td>210.570007</td>\n",
       "      <td>210.570007</td>\n",
       "      <td>210.570007</td>\n",
       "      <td>210.570007</td>\n",
       "      <td>210.570007</td>\n",
       "    </tr>\n",
       "    <tr>\n",
       "      <th>2</th>\n",
       "      <td>2020-10-02 11:30:00</td>\n",
       "      <td>4</td>\n",
       "      <td>208.419998</td>\n",
       "      <td>208.419998</td>\n",
       "      <td>208.419998</td>\n",
       "      <td>208.419998</td>\n",
       "      <td>208.419998</td>\n",
       "      <td>208.419998</td>\n",
       "    </tr>\n",
       "    <tr>\n",
       "      <th>3</th>\n",
       "      <td>2020-10-02 12:30:00</td>\n",
       "      <td>4</td>\n",
       "      <td>207.649994</td>\n",
       "      <td>207.649994</td>\n",
       "      <td>207.649994</td>\n",
       "      <td>207.649994</td>\n",
       "      <td>207.649994</td>\n",
       "      <td>207.649994</td>\n",
       "    </tr>\n",
       "    <tr>\n",
       "      <th>4</th>\n",
       "      <td>2020-10-02 13:30:00</td>\n",
       "      <td>4</td>\n",
       "      <td>207.559998</td>\n",
       "      <td>207.559998</td>\n",
       "      <td>207.559998</td>\n",
       "      <td>207.559998</td>\n",
       "      <td>207.559998</td>\n",
       "      <td>207.559998</td>\n",
       "    </tr>\n",
       "    <tr>\n",
       "      <th>...</th>\n",
       "      <td>...</td>\n",
       "      <td>...</td>\n",
       "      <td>...</td>\n",
       "      <td>...</td>\n",
       "      <td>...</td>\n",
       "      <td>...</td>\n",
       "      <td>...</td>\n",
       "      <td>...</td>\n",
       "    </tr>\n",
       "    <tr>\n",
       "      <th>4106</th>\n",
       "      <td>2021-03-22 11:30:00</td>\n",
       "      <td>0</td>\n",
       "      <td>235.899994</td>\n",
       "      <td>235.899994</td>\n",
       "      <td>235.899994</td>\n",
       "      <td>235.899994</td>\n",
       "      <td>235.899994</td>\n",
       "      <td>235.899994</td>\n",
       "    </tr>\n",
       "    <tr>\n",
       "      <th>4107</th>\n",
       "      <td>2021-03-22 12:30:00</td>\n",
       "      <td>0</td>\n",
       "      <td>236.529999</td>\n",
       "      <td>236.529999</td>\n",
       "      <td>236.529999</td>\n",
       "      <td>236.529999</td>\n",
       "      <td>236.529999</td>\n",
       "      <td>236.529999</td>\n",
       "    </tr>\n",
       "    <tr>\n",
       "      <th>4108</th>\n",
       "      <td>2021-03-22 13:30:00</td>\n",
       "      <td>0</td>\n",
       "      <td>236.380096</td>\n",
       "      <td>236.380096</td>\n",
       "      <td>236.380096</td>\n",
       "      <td>236.380096</td>\n",
       "      <td>236.380096</td>\n",
       "      <td>236.380096</td>\n",
       "    </tr>\n",
       "    <tr>\n",
       "      <th>4109</th>\n",
       "      <td>2021-03-22 14:30:00</td>\n",
       "      <td>0</td>\n",
       "      <td>236.310104</td>\n",
       "      <td>236.310104</td>\n",
       "      <td>236.310104</td>\n",
       "      <td>236.310104</td>\n",
       "      <td>236.310104</td>\n",
       "      <td>236.310104</td>\n",
       "    </tr>\n",
       "    <tr>\n",
       "      <th>4110</th>\n",
       "      <td>2021-03-22 15:30:00</td>\n",
       "      <td>0</td>\n",
       "      <td>236.240005</td>\n",
       "      <td>236.240005</td>\n",
       "      <td>236.240005</td>\n",
       "      <td>236.240005</td>\n",
       "      <td>236.240005</td>\n",
       "      <td>236.240005</td>\n",
       "    </tr>\n",
       "  </tbody>\n",
       "</table>\n",
       "<p>4111 rows × 8 columns</p>\n",
       "</div>"
      ],
      "text/plain": [
       "                     Time  weekday        msft         amd        ndaq  \\\n",
       "0     2020-10-02 09:30:00        4  208.000000  208.000000  208.000000   \n",
       "1     2020-10-02 10:30:00        4  210.570007  210.570007  210.570007   \n",
       "2     2020-10-02 11:30:00        4  208.419998  208.419998  208.419998   \n",
       "3     2020-10-02 12:30:00        4  207.649994  207.649994  207.649994   \n",
       "4     2020-10-02 13:30:00        4  207.559998  207.559998  207.559998   \n",
       "...                   ...      ...         ...         ...         ...   \n",
       "4106  2021-03-22 11:30:00        0  235.899994  235.899994  235.899994   \n",
       "4107  2021-03-22 12:30:00        0  236.529999  236.529999  236.529999   \n",
       "4108  2021-03-22 13:30:00        0  236.380096  236.380096  236.380096   \n",
       "4109  2021-03-22 14:30:00        0  236.310104  236.310104  236.310104   \n",
       "4110  2021-03-22 15:30:00        0  236.240005  236.240005  236.240005   \n",
       "\n",
       "           intel    qualcomm       apple  \n",
       "0     208.000000  208.000000  208.000000  \n",
       "1     210.570007  210.570007  210.570007  \n",
       "2     208.419998  208.419998  208.419998  \n",
       "3     207.649994  207.649994  207.649994  \n",
       "4     207.559998  207.559998  207.559998  \n",
       "...          ...         ...         ...  \n",
       "4106  235.899994  235.899994  235.899994  \n",
       "4107  236.529999  236.529999  236.529999  \n",
       "4108  236.380096  236.380096  236.380096  \n",
       "4109  236.310104  236.310104  236.310104  \n",
       "4110  236.240005  236.240005  236.240005  \n",
       "\n",
       "[4111 rows x 8 columns]"
      ]
     },
     "execution_count": 4,
     "metadata": {},
     "output_type": "execute_result"
    }
   ],
   "source": [
    "stock_price"
   ]
  },
  {
   "cell_type": "code",
   "execution_count": 8,
   "metadata": {},
   "outputs": [],
   "source": [
    "df = df.merge(stock_price,on='Time',how='left').drop('weekday_y',axis=1)"
   ]
  },
  {
   "cell_type": "code",
   "execution_count": 9,
   "metadata": {},
   "outputs": [],
   "source": [
    "df.to_csv(\"data_2.0\")"
   ]
  },
  {
   "cell_type": "code",
   "execution_count": 11,
   "metadata": {},
   "outputs": [
    {
     "name": "stdout",
     "output_type": "stream",
     "text": [
      "<class 'pandas.core.frame.DataFrame'>\n",
      "Int64Index: 739 entries, 0 to 738\n",
      "Data columns (total 21 columns):\n",
      " #   Column                                     Non-Null Count  Dtype  \n",
      "---  ------                                     --------------  -----  \n",
      " 0   Time                                       739 non-null    object \n",
      " 1   viewCount                                  739 non-null    float64\n",
      " 2   likeCount                                  739 non-null    float64\n",
      " 3   dislikeCount                               739 non-null    float64\n",
      " 4   videoTitleSentimentScore_pos               739 non-null    float64\n",
      " 5   videoTitleSentimentScore_neg               739 non-null    float64\n",
      " 6   captionSentimentScore_pos                  739 non-null    float64\n",
      " 7   captionSentimentScore_neg                  739 non-null    float64\n",
      " 8   captionSentimentScore_com                  739 non-null    float64\n",
      " 9   videoTitleSentimentScore_com               739 non-null    float64\n",
      " 10  num_days_since_pub                         739 non-null    float64\n",
      " 11  viewcounts_weighted                        739 non-null    float64\n",
      " 12  like_count_weighted                        739 non-null    float64\n",
      " 13  dislike_count_weighted                     739 non-null    float64\n",
      " 14  like_dislike_ratio                         739 non-null    float64\n",
      " 15  weighted_like_dislike_ratio                739 non-null    float64\n",
      " 16  like_dislike_ratio_by_viewcounts_weighted  739 non-null    float64\n",
      " 17  weekday                                    739 non-null    int64  \n",
      " 18  price                                      739 non-null    float64\n",
      " 19  future_price                               739 non-null    float64\n",
      " 20  percent_change                             739 non-null    float64\n",
      "dtypes: float64(19), int64(1), object(1)\n",
      "memory usage: 127.0+ KB\n"
     ]
    }
   ],
   "source": [
    "df.info()"
   ]
  },
  {
   "cell_type": "code",
   "execution_count": 7,
   "metadata": {},
   "outputs": [],
   "source": [
    "import seaborn as sns\n",
    "import matplotlib.pyplot as plt"
   ]
  },
  {
   "cell_type": "code",
   "execution_count": 8,
   "metadata": {},
   "outputs": [
    {
     "data": {
      "text/plain": [
       "<AxesSubplot:ylabel='price'>"
      ]
     },
     "execution_count": 8,
     "metadata": {},
     "output_type": "execute_result"
    },
    {
     "data": {
      "image/png": "[encoded data removed]",
      "text/plain": [
       "<Figure size 432x288 with 1 Axes>"
      ]
     },
     "metadata": {
      "needs_background": "light"
     },
     "output_type": "display_data"
    }
   ],
   "source": [
    "sns.lineplot(data=df,x=df.index,y='price')"
   ]
  },
  {
   "cell_type": "code",
   "execution_count": null,
   "metadata": {},
   "outputs": [],
   "source": []
  }
 ],
 "metadata": {
  "kernelspec": {
   "display_name": "Python 3",
   "language": "python",
   "name": "python3"
  },
  "language_info": {
   "codemirror_mode": {
    "name": "ipython",
    "version": 3
   },
   "file_extension": ".py",
   "mimetype": "text/x-python",
   "name": "python",
   "nbconvert_exporter": "python",
   "pygments_lexer": "ipython3",
   "version": "3.7.3"
  }
 },
 "nbformat": 4,
 "nbformat_minor": 2
}
