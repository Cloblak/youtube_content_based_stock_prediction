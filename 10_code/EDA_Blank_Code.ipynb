{
 "cells": [
  {
   "cell_type": "code",
   "execution_count": 2,
   "metadata": {},
   "outputs": [],
   "source": [
    "import pandas as pd"
   ]
  },
  {
   "cell_type": "code",
   "execution_count": 3,
   "metadata": {},
   "outputs": [],
   "source": [
    "nvidia_df = pd.read_csv(\"../00_data/Sentiment_Only_Data_22MAR.gz\", compression=\"gzip\")"
   ]
  },
  {
   "cell_type": "code",
   "execution_count": 4,
   "metadata": {},
   "outputs": [
    {
     "data": {
      "text/plain": [
       "Index(['Unnamed: 0', 'Unnamed: 0.1', 'Index', 'videoID', 'datePub',\n",
       "       'searchedDate', 'VideoTitle', 'channelTitle', 'viewCount', 'likeCount',\n",
       "       'dislikeCount', 'captionString', 'videoTitleSentimentScore_pos',\n",
       "       'videoTitleSentimentScore_neg', 'captionSentimentScore_pos',\n",
       "       'captionSentimentScore_neg', 'captionSentimentScore_com',\n",
       "       'videoTitleSentimentScore_com', 'num_days_since_pub',\n",
       "       'viewcounts_weighted', 'like_count_weighted', 'dislike_count_weighted',\n",
       "       'like_dislike_ratio', 'weighted_like_dislike_ratio',\n",
       "       'like_dislike_ratio_by_viewcounts_weighted', 'Date'],\n",
       "      dtype='object')"
      ]
     },
     "execution_count": 4,
     "metadata": {},
     "output_type": "execute_result"
    }
   ],
   "source": [
    "nvidia_df.columns"
   ]
  },
  {
   "cell_type": "code",
   "execution_count": 8,
   "metadata": {},
   "outputs": [
    {
     "name": "stdout",
     "output_type": "stream",
     "text": [
      "Collecting yfinance\n",
      "  Downloading yfinance-0.1.55.tar.gz (23 kB)\n",
      "Requirement already satisfied: pandas>=0.24 in /Users/dapoadegbile/opt/anaconda3/lib/python3.8/site-packages (from yfinance) (1.1.1)\n",
      "Requirement already satisfied: numpy>=1.15 in /Users/dapoadegbile/opt/anaconda3/lib/python3.8/site-packages (from yfinance) (1.18.5)\n",
      "Requirement already satisfied: requests>=2.20 in /Users/dapoadegbile/opt/anaconda3/lib/python3.8/site-packages (from yfinance) (2.24.0)\n",
      "Collecting multitasking>=0.0.7\n",
      "  Downloading multitasking-0.0.9.tar.gz (8.1 kB)\n",
      "Requirement already satisfied: lxml>=4.5.1 in /Users/dapoadegbile/opt/anaconda3/lib/python3.8/site-packages (from yfinance) (4.5.2)\n",
      "Requirement already satisfied: pytz>=2017.2 in /Users/dapoadegbile/opt/anaconda3/lib/python3.8/site-packages (from pandas>=0.24->yfinance) (2020.1)\n",
      "Requirement already satisfied: python-dateutil>=2.7.3 in /Users/dapoadegbile/opt/anaconda3/lib/python3.8/site-packages (from pandas>=0.24->yfinance) (2.8.1)\n",
      "Requirement already satisfied: urllib3!=1.25.0,!=1.25.1,<1.26,>=1.21.1 in /Users/dapoadegbile/opt/anaconda3/lib/python3.8/site-packages (from requests>=2.20->yfinance) (1.25.9)\n",
      "Requirement already satisfied: idna<3,>=2.5 in /Users/dapoadegbile/opt/anaconda3/lib/python3.8/site-packages (from requests>=2.20->yfinance) (2.10)\n",
      "Requirement already satisfied: chardet<4,>=3.0.2 in /Users/dapoadegbile/opt/anaconda3/lib/python3.8/site-packages (from requests>=2.20->yfinance) (3.0.4)\n",
      "Requirement already satisfied: certifi>=2017.4.17 in /Users/dapoadegbile/opt/anaconda3/lib/python3.8/site-packages (from requests>=2.20->yfinance) (2020.6.20)\n",
      "Requirement already satisfied: six>=1.5 in /Users/dapoadegbile/opt/anaconda3/lib/python3.8/site-packages (from python-dateutil>=2.7.3->pandas>=0.24->yfinance) (1.15.0)\n",
      "Building wheels for collected packages: yfinance, multitasking\n",
      "  Building wheel for yfinance (setup.py) ... \u001b[?25ldone\n",
      "\u001b[?25h  Created wheel for yfinance: filename=yfinance-0.1.55-py2.py3-none-any.whl size=22616 sha256=a6fe57b1192f6092b55c7c2f1de2f586b62a3cef652813f413aae72baf3a1191\n",
      "  Stored in directory: /Users/dapoadegbile/Library/Caches/pip/wheels/b4/c3/39/9c01ae2b4726f37024bba5592bec868b47a2fab5a786e8979a\n",
      "  Building wheel for multitasking (setup.py) ... \u001b[?25ldone\n",
      "\u001b[?25h  Created wheel for multitasking: filename=multitasking-0.0.9-py3-none-any.whl size=8366 sha256=143e910ee54b1f27080e06d0bdecf2045e8f4d1fe611b12ff537f59c7ac1da66\n",
      "  Stored in directory: /Users/dapoadegbile/Library/Caches/pip/wheels/57/6d/a3/a39b839cc75274d2acfb1c58bfead2f726c6577fe8c4723f13\n",
      "Successfully built yfinance multitasking\n",
      "Installing collected packages: multitasking, yfinance\n",
      "Successfully installed multitasking-0.0.9 yfinance-0.1.55\n"
     ]
    }
   ],
   "source": [
    "!pip install yfinance\n"
   ]
  },
  {
   "cell_type": "code",
   "execution_count": 9,
   "metadata": {},
   "outputs": [],
   "source": [
    "# This is a function to generate response variable dataframe\n",
    "# Decision rule:\n",
    "# If the change in \"High\" in 5 days is greater than 3%, we give it label \"buy\"\n",
    "# If the change in \"High\" in 5 days is smaller than -3%, we give it label \"sell\"\n",
    "# Otherwise, we give it label \"hold\n",
    "def create_response(start_date, end_date, stock_name):\n",
    "    import pandas as pd\n",
    "    import numpy as np\n",
    "    import yfinance as yf\n",
    "\n",
    "    # get stock info\n",
    "    data = (\n",
    "        yf.download(stock_name, start=start_date, end=end_date)\n",
    "        .asfreq(\"D\")\n",
    "        .fillna(method=\"ffill\")\n",
    "    )\n",
    "    # create percentage dict\n",
    "    percent_dict = {}\n",
    "    for i in range(len(data) - 5):\n",
    "        cur_high = data.iloc[i, :][\"High\"]\n",
    "        future_high = data.iloc[i + 5, :][\"High\"]\n",
    "        percent_dict[data.index[i]] = (future_high - cur_high) / cur_high\n",
    "    response_df = pd.DataFrame.from_dict(\n",
    "        percent_dict, orient=\"index\", columns=[\"percent_change\"]\n",
    "    )\n",
    "    # Decsion rule\n",
    "    bins = [-(np.inf), -0.03, 0.03, np.inf]\n",
    "    names = [\"sell\", \"hold\", \"buy\"]\n",
    "    response_df[\"action\"] = pd.cut(response_df[\"percent_change\"], bins, labels=names)\n",
    "    response_df = response_df.reset_index()\n",
    "    return response_df"
   ]
  },
  {
   "cell_type": "code",
   "execution_count": 10,
   "metadata": {},
   "outputs": [
    {
     "name": "stdout",
     "output_type": "stream",
     "text": [
      "[*********************100%***********************]  1 of 1 completed\n"
     ]
    }
   ],
   "source": [
    "responce_df = create_response(\"2020-10-02\", \"2021-03-28\", \"NVDA\")"
   ]
  },
  {
   "cell_type": "markdown",
   "metadata": {},
   "source": [
    "### BY VIDEO DATA SET"
   ]
  },
  {
   "cell_type": "code",
   "execution_count": 11,
   "metadata": {},
   "outputs": [],
   "source": [
    "X_feautures_pre_merge = nvidia_df.copy()"
   ]
  },
  {
   "cell_type": "code",
   "execution_count": 12,
   "metadata": {},
   "outputs": [],
   "source": [
    "X_feautures_pre_merge[\"Date\"] = pd.to_datetime(\n",
    "    X_feautures_pre_merge[\"Date\"], format=\"%Y-%m-%d\", utc=True\n",
    ").dt.date\n",
    "\n",
    "responce_df[\"index\"] = pd.to_datetime(\n",
    "    responce_df[\"index\"], format=\"%Y-%m-%d\", utc=True\n",
    ").dt.date"
   ]
  },
  {
   "cell_type": "code",
   "execution_count": 13,
   "metadata": {},
   "outputs": [],
   "source": [
    "X_feautures_pre_merge[\"Date\"] = pd.to_datetime(\n",
    "    X_feautures_pre_merge[\"Date\"], format=\"%Y-%m-%d\", utc=True\n",
    ").dt.date\n",
    "\n",
    "responce_df[\"index\"] = pd.to_datetime(\n",
    "    responce_df[\"index\"], format=\"%Y-%m-%d\", utc=True\n",
    ").dt.date\n",
    "\n",
    "X_full_feautures_final = X_feautures_pre_merge.merge(\n",
    "    responce_df, left_on=\"Date\", right_on=\"index\", how=\"left\", indicator=True\n",
    ")"
   ]
  },
  {
   "cell_type": "code",
   "execution_count": 14,
   "metadata": {},
   "outputs": [
    {
     "data": {
      "text/html": [
       "<div>\n",
       "<style scoped>\n",
       "    .dataframe tbody tr th:only-of-type {\n",
       "        vertical-align: middle;\n",
       "    }\n",
       "\n",
       "    .dataframe tbody tr th {\n",
       "        vertical-align: top;\n",
       "    }\n",
       "\n",
       "    .dataframe thead th {\n",
       "        text-align: right;\n",
       "    }\n",
       "</style>\n",
       "<table border=\"1\" class=\"dataframe\">\n",
       "  <thead>\n",
       "    <tr style=\"text-align: right;\">\n",
       "      <th></th>\n",
       "      <th>Unnamed: 0</th>\n",
       "      <th>Unnamed: 0.1</th>\n",
       "      <th>Index</th>\n",
       "      <th>videoID</th>\n",
       "      <th>datePub</th>\n",
       "      <th>searchedDate</th>\n",
       "      <th>VideoTitle</th>\n",
       "      <th>channelTitle</th>\n",
       "      <th>viewCount</th>\n",
       "      <th>likeCount</th>\n",
       "      <th>...</th>\n",
       "      <th>like_count_weighted</th>\n",
       "      <th>dislike_count_weighted</th>\n",
       "      <th>like_dislike_ratio</th>\n",
       "      <th>weighted_like_dislike_ratio</th>\n",
       "      <th>like_dislike_ratio_by_viewcounts_weighted</th>\n",
       "      <th>Date</th>\n",
       "      <th>index</th>\n",
       "      <th>percent_change</th>\n",
       "      <th>action</th>\n",
       "      <th>_merge</th>\n",
       "    </tr>\n",
       "  </thead>\n",
       "  <tbody>\n",
       "    <tr>\n",
       "      <th>20788</th>\n",
       "      <td>20788</td>\n",
       "      <td>20788</td>\n",
       "      <td>20</td>\n",
       "      <td>AG_ZHi3tuyk</td>\n",
       "      <td>2020-09-16 12:59:59+00:00</td>\n",
       "      <td>2021-03-19 18:03:20.670031+00:00</td>\n",
       "      <td>Nvidia, you PROMISED! - RTX 3080 Review</td>\n",
       "      <td>Linus Tech Tips</td>\n",
       "      <td>3741789</td>\n",
       "      <td>148430</td>\n",
       "      <td>...</td>\n",
       "      <td>802.324324</td>\n",
       "      <td>22.789189</td>\n",
       "      <td>0.972381</td>\n",
       "      <td>0.972381</td>\n",
       "      <td>19667.258436</td>\n",
       "      <td>2021-03-19</td>\n",
       "      <td>NaN</td>\n",
       "      <td>NaN</td>\n",
       "      <td>NaN</td>\n",
       "      <td>left_only</td>\n",
       "    </tr>\n",
       "    <tr>\n",
       "      <th>20789</th>\n",
       "      <td>20789</td>\n",
       "      <td>20789</td>\n",
       "      <td>21</td>\n",
       "      <td>3dJhDqLjPN0</td>\n",
       "      <td>2021-02-24 21:59:34+00:00</td>\n",
       "      <td>2021-03-19 18:03:21.320922+00:00</td>\n",
       "      <td>NVIDIA (NVDA) Stock Analysis - Q4 Earnings + I...</td>\n",
       "      <td>The Investor Channel</td>\n",
       "      <td>7773</td>\n",
       "      <td>269</td>\n",
       "      <td>...</td>\n",
       "      <td>11.695652</td>\n",
       "      <td>0.043478</td>\n",
       "      <td>0.996296</td>\n",
       "      <td>0.996296</td>\n",
       "      <td>336.704831</td>\n",
       "      <td>2021-03-19</td>\n",
       "      <td>NaN</td>\n",
       "      <td>NaN</td>\n",
       "      <td>NaN</td>\n",
       "      <td>left_only</td>\n",
       "    </tr>\n",
       "    <tr>\n",
       "      <th>20790</th>\n",
       "      <td>20790</td>\n",
       "      <td>20790</td>\n",
       "      <td>22</td>\n",
       "      <td>H1DApIvOCMw</td>\n",
       "      <td>2021-02-26 17:35:37+00:00</td>\n",
       "      <td>2021-03-19 18:03:21.788746+00:00</td>\n",
       "      <td>My SALTY Review of the NVIDIA RTX 3060...</td>\n",
       "      <td>JayzTwoCents</td>\n",
       "      <td>1013948</td>\n",
       "      <td>51773</td>\n",
       "      <td>...</td>\n",
       "      <td>2353.318182</td>\n",
       "      <td>31.909091</td>\n",
       "      <td>0.986622</td>\n",
       "      <td>0.986622</td>\n",
       "      <td>45471.982159</td>\n",
       "      <td>2021-03-19</td>\n",
       "      <td>NaN</td>\n",
       "      <td>NaN</td>\n",
       "      <td>NaN</td>\n",
       "      <td>left_only</td>\n",
       "    </tr>\n",
       "    <tr>\n",
       "      <th>20791</th>\n",
       "      <td>20791</td>\n",
       "      <td>20791</td>\n",
       "      <td>23</td>\n",
       "      <td>Y5J2bgXiK9g</td>\n",
       "      <td>2021-03-09 17:00:10+00:00</td>\n",
       "      <td>2021-03-19 18:03:22.387116+00:00</td>\n",
       "      <td>Should Nvidia Stop Selling 3060s?</td>\n",
       "      <td>LMG Clips</td>\n",
       "      <td>53940</td>\n",
       "      <td>2238</td>\n",
       "      <td>...</td>\n",
       "      <td>203.454545</td>\n",
       "      <td>3.000000</td>\n",
       "      <td>0.985469</td>\n",
       "      <td>0.985469</td>\n",
       "      <td>4832.381410</td>\n",
       "      <td>2021-03-19</td>\n",
       "      <td>NaN</td>\n",
       "      <td>NaN</td>\n",
       "      <td>NaN</td>\n",
       "      <td>left_only</td>\n",
       "    </tr>\n",
       "    <tr>\n",
       "      <th>20792</th>\n",
       "      <td>20792</td>\n",
       "      <td>20792</td>\n",
       "      <td>24</td>\n",
       "      <td>HZigkcTxRo0</td>\n",
       "      <td>2021-02-25 03:01:00+00:00</td>\n",
       "      <td>2021-03-19 18:03:22.919039+00:00</td>\n",
       "      <td>Nvidia’s plan ISN’T WORKING</td>\n",
       "      <td>TechLinked</td>\n",
       "      <td>1394144</td>\n",
       "      <td>145393</td>\n",
       "      <td>...</td>\n",
       "      <td>6321.434783</td>\n",
       "      <td>176.217391</td>\n",
       "      <td>0.972880</td>\n",
       "      <td>0.972880</td>\n",
       "      <td>58971.068972</td>\n",
       "      <td>2021-03-19</td>\n",
       "      <td>NaN</td>\n",
       "      <td>NaN</td>\n",
       "      <td>NaN</td>\n",
       "      <td>left_only</td>\n",
       "    </tr>\n",
       "  </tbody>\n",
       "</table>\n",
       "<p>5 rows × 30 columns</p>\n",
       "</div>"
      ],
      "text/plain": [
       "       Unnamed: 0  Unnamed: 0.1  Index      videoID  \\\n",
       "20788       20788         20788     20  AG_ZHi3tuyk   \n",
       "20789       20789         20789     21  3dJhDqLjPN0   \n",
       "20790       20790         20790     22  H1DApIvOCMw   \n",
       "20791       20791         20791     23  Y5J2bgXiK9g   \n",
       "20792       20792         20792     24  HZigkcTxRo0   \n",
       "\n",
       "                         datePub                      searchedDate  \\\n",
       "20788  2020-09-16 12:59:59+00:00  2021-03-19 18:03:20.670031+00:00   \n",
       "20789  2021-02-24 21:59:34+00:00  2021-03-19 18:03:21.320922+00:00   \n",
       "20790  2021-02-26 17:35:37+00:00  2021-03-19 18:03:21.788746+00:00   \n",
       "20791  2021-03-09 17:00:10+00:00  2021-03-19 18:03:22.387116+00:00   \n",
       "20792  2021-02-25 03:01:00+00:00  2021-03-19 18:03:22.919039+00:00   \n",
       "\n",
       "                                              VideoTitle  \\\n",
       "20788            Nvidia, you PROMISED! - RTX 3080 Review   \n",
       "20789  NVIDIA (NVDA) Stock Analysis - Q4 Earnings + I...   \n",
       "20790          My SALTY Review of the NVIDIA RTX 3060...   \n",
       "20791                  Should Nvidia Stop Selling 3060s?   \n",
       "20792                        Nvidia’s plan ISN’T WORKING   \n",
       "\n",
       "               channelTitle  viewCount  likeCount  ...  like_count_weighted  \\\n",
       "20788       Linus Tech Tips    3741789     148430  ...           802.324324   \n",
       "20789  The Investor Channel       7773        269  ...            11.695652   \n",
       "20790          JayzTwoCents    1013948      51773  ...          2353.318182   \n",
       "20791             LMG Clips      53940       2238  ...           203.454545   \n",
       "20792            TechLinked    1394144     145393  ...          6321.434783   \n",
       "\n",
       "      dislike_count_weighted  like_dislike_ratio  weighted_like_dislike_ratio  \\\n",
       "20788              22.789189            0.972381                     0.972381   \n",
       "20789               0.043478            0.996296                     0.996296   \n",
       "20790              31.909091            0.986622                     0.986622   \n",
       "20791               3.000000            0.985469                     0.985469   \n",
       "20792             176.217391            0.972880                     0.972880   \n",
       "\n",
       "       like_dislike_ratio_by_viewcounts_weighted        Date  index  \\\n",
       "20788                               19667.258436  2021-03-19    NaN   \n",
       "20789                                 336.704831  2021-03-19    NaN   \n",
       "20790                               45471.982159  2021-03-19    NaN   \n",
       "20791                                4832.381410  2021-03-19    NaN   \n",
       "20792                               58971.068972  2021-03-19    NaN   \n",
       "\n",
       "       percent_change  action     _merge  \n",
       "20788             NaN     NaN  left_only  \n",
       "20789             NaN     NaN  left_only  \n",
       "20790             NaN     NaN  left_only  \n",
       "20791             NaN     NaN  left_only  \n",
       "20792             NaN     NaN  left_only  \n",
       "\n",
       "[5 rows x 30 columns]"
      ]
     },
     "execution_count": 14,
     "metadata": {},
     "output_type": "execute_result"
    }
   ],
   "source": [
    "X_full_feautures_final.tail()"
   ]
  },
  {
   "cell_type": "code",
   "execution_count": null,
   "metadata": {},
   "outputs": [],
   "source": []
  },
  {
   "cell_type": "code",
   "execution_count": null,
   "metadata": {},
   "outputs": [],
   "source": []
  },
  {
   "cell_type": "markdown",
   "metadata": {},
   "source": [
    "### BY DAY"
   ]
  },
  {
   "cell_type": "code",
   "execution_count": 15,
   "metadata": {},
   "outputs": [],
   "source": [
    "X_features = nvidia_df.filter(\n",
    "    [\n",
    "        \"videoTitleSentimentScore_pos\",\n",
    "        \"videoTitleSentimentScore_neg\",\n",
    "        \"videoTitleSentimentScore_com\",\n",
    "        \"captionSentimentScore_pos\",\n",
    "        \"captionSentimentScore_neg\",\n",
    "        \"captionSentimentScore_com\",\n",
    "        \"num_days_since_pub\",\n",
    "        \"viewcounts_weighted\",\n",
    "        \"like_count_weighted\",\n",
    "        \"like_dislike_ratio\",\n",
    "        \"weighted_like_dislike_ratio\",\n",
    "        \"like_dislike_ratio_by_viewcounts_weighted\",\n",
    "        \"Date\",\n",
    "    ],\n",
    "    axis=1,\n",
    ")\n",
    "\n",
    "X_feautures_pre_merge = X_features.groupby([\"Date\"]).mean().reset_index()"
   ]
  },
  {
   "cell_type": "code",
   "execution_count": 16,
   "metadata": {},
   "outputs": [],
   "source": [
    "X_feautures_pre_merge[\"Date\"] = pd.to_datetime(\n",
    "    X_feautures_pre_merge[\"Date\"], format=\"%Y-%m-%d\", utc=True\n",
    ").dt.date\n",
    "\n",
    "responce_df[\"index\"] = pd.to_datetime(\n",
    "    responce_df[\"index\"], format=\"%Y-%m-%d\", utc=True\n",
    ").dt.date\n",
    "\n",
    "X_feautures_pre_merge[\"Date\"] = pd.to_datetime(\n",
    "    X_feautures_pre_merge[\"Date\"], format=\"%Y-%m-%d\", utc=True\n",
    ").dt.date\n",
    "\n",
    "responce_df[\"index\"] = pd.to_datetime(\n",
    "    responce_df[\"index\"], format=\"%Y-%m-%d\", utc=True\n",
    ").dt.date\n",
    "\n",
    "X_agg_by_day_feautures_final = X_feautures_pre_merge.merge(\n",
    "    responce_df, left_on=\"Date\", right_on=\"index\", how=\"left\", indicator=True\n",
    ")"
   ]
  },
  {
   "cell_type": "code",
   "execution_count": 17,
   "metadata": {},
   "outputs": [
    {
     "data": {
      "text/html": [
       "<div>\n",
       "<style scoped>\n",
       "    .dataframe tbody tr th:only-of-type {\n",
       "        vertical-align: middle;\n",
       "    }\n",
       "\n",
       "    .dataframe tbody tr th {\n",
       "        vertical-align: top;\n",
       "    }\n",
       "\n",
       "    .dataframe thead th {\n",
       "        text-align: right;\n",
       "    }\n",
       "</style>\n",
       "<table border=\"1\" class=\"dataframe\">\n",
       "  <thead>\n",
       "    <tr style=\"text-align: right;\">\n",
       "      <th></th>\n",
       "      <th>Date</th>\n",
       "      <th>videoTitleSentimentScore_pos</th>\n",
       "      <th>videoTitleSentimentScore_neg</th>\n",
       "      <th>videoTitleSentimentScore_com</th>\n",
       "      <th>captionSentimentScore_pos</th>\n",
       "      <th>captionSentimentScore_neg</th>\n",
       "      <th>captionSentimentScore_com</th>\n",
       "      <th>num_days_since_pub</th>\n",
       "      <th>viewcounts_weighted</th>\n",
       "      <th>like_count_weighted</th>\n",
       "      <th>like_dislike_ratio</th>\n",
       "      <th>weighted_like_dislike_ratio</th>\n",
       "      <th>like_dislike_ratio_by_viewcounts_weighted</th>\n",
       "      <th>index</th>\n",
       "      <th>percent_change</th>\n",
       "      <th>action</th>\n",
       "      <th>_merge</th>\n",
       "    </tr>\n",
       "  </thead>\n",
       "  <tbody>\n",
       "    <tr>\n",
       "      <th>113</th>\n",
       "      <td>2021-03-15</td>\n",
       "      <td>0.037338</td>\n",
       "      <td>0.033960</td>\n",
       "      <td>0.011886</td>\n",
       "      <td>0.087764</td>\n",
       "      <td>0.030724</td>\n",
       "      <td>0.687723</td>\n",
       "      <td>109.768889</td>\n",
       "      <td>15241.801392</td>\n",
       "      <td>1049.344298</td>\n",
       "      <td>0.955442</td>\n",
       "      <td>0.955442</td>\n",
       "      <td>14861.456219</td>\n",
       "      <td>2021-03-15</td>\n",
       "      <td>-0.021599</td>\n",
       "      <td>hold</td>\n",
       "      <td>both</td>\n",
       "    </tr>\n",
       "    <tr>\n",
       "      <th>114</th>\n",
       "      <td>2021-03-16</td>\n",
       "      <td>0.037245</td>\n",
       "      <td>0.064280</td>\n",
       "      <td>-0.023965</td>\n",
       "      <td>0.105100</td>\n",
       "      <td>0.034100</td>\n",
       "      <td>0.809068</td>\n",
       "      <td>108.970000</td>\n",
       "      <td>14870.723784</td>\n",
       "      <td>1032.050839</td>\n",
       "      <td>0.954523</td>\n",
       "      <td>0.954523</td>\n",
       "      <td>14469.862263</td>\n",
       "      <td>2021-03-16</td>\n",
       "      <td>-0.043737</td>\n",
       "      <td>sell</td>\n",
       "      <td>both</td>\n",
       "    </tr>\n",
       "    <tr>\n",
       "      <th>115</th>\n",
       "      <td>2021-03-17</td>\n",
       "      <td>0.038080</td>\n",
       "      <td>0.066406</td>\n",
       "      <td>-0.012098</td>\n",
       "      <td>0.102891</td>\n",
       "      <td>0.033063</td>\n",
       "      <td>0.799257</td>\n",
       "      <td>111.137143</td>\n",
       "      <td>14748.626569</td>\n",
       "      <td>939.470945</td>\n",
       "      <td>0.956001</td>\n",
       "      <td>0.956001</td>\n",
       "      <td>14378.400682</td>\n",
       "      <td>2021-03-17</td>\n",
       "      <td>-0.004367</td>\n",
       "      <td>hold</td>\n",
       "      <td>both</td>\n",
       "    </tr>\n",
       "    <tr>\n",
       "      <th>116</th>\n",
       "      <td>2021-03-18</td>\n",
       "      <td>0.051550</td>\n",
       "      <td>0.061970</td>\n",
       "      <td>0.012939</td>\n",
       "      <td>0.099855</td>\n",
       "      <td>0.031660</td>\n",
       "      <td>0.764304</td>\n",
       "      <td>107.740000</td>\n",
       "      <td>15558.251680</td>\n",
       "      <td>1049.395704</td>\n",
       "      <td>0.956913</td>\n",
       "      <td>0.956913</td>\n",
       "      <td>15162.712790</td>\n",
       "      <td>2021-03-18</td>\n",
       "      <td>0.012174</td>\n",
       "      <td>hold</td>\n",
       "      <td>both</td>\n",
       "    </tr>\n",
       "    <tr>\n",
       "      <th>117</th>\n",
       "      <td>2021-03-19</td>\n",
       "      <td>0.042326</td>\n",
       "      <td>0.062851</td>\n",
       "      <td>0.002587</td>\n",
       "      <td>0.109966</td>\n",
       "      <td>0.036794</td>\n",
       "      <td>0.835340</td>\n",
       "      <td>110.005714</td>\n",
       "      <td>15417.660309</td>\n",
       "      <td>1121.427479</td>\n",
       "      <td>0.957292</td>\n",
       "      <td>0.957292</td>\n",
       "      <td>15049.514412</td>\n",
       "      <td>NaN</td>\n",
       "      <td>NaN</td>\n",
       "      <td>NaN</td>\n",
       "      <td>left_only</td>\n",
       "    </tr>\n",
       "  </tbody>\n",
       "</table>\n",
       "</div>"
      ],
      "text/plain": [
       "           Date  videoTitleSentimentScore_pos  videoTitleSentimentScore_neg  \\\n",
       "113  2021-03-15                      0.037338                      0.033960   \n",
       "114  2021-03-16                      0.037245                      0.064280   \n",
       "115  2021-03-17                      0.038080                      0.066406   \n",
       "116  2021-03-18                      0.051550                      0.061970   \n",
       "117  2021-03-19                      0.042326                      0.062851   \n",
       "\n",
       "     videoTitleSentimentScore_com  captionSentimentScore_pos  \\\n",
       "113                      0.011886                   0.087764   \n",
       "114                     -0.023965                   0.105100   \n",
       "115                     -0.012098                   0.102891   \n",
       "116                      0.012939                   0.099855   \n",
       "117                      0.002587                   0.109966   \n",
       "\n",
       "     captionSentimentScore_neg  captionSentimentScore_com  num_days_since_pub  \\\n",
       "113                   0.030724                   0.687723          109.768889   \n",
       "114                   0.034100                   0.809068          108.970000   \n",
       "115                   0.033063                   0.799257          111.137143   \n",
       "116                   0.031660                   0.764304          107.740000   \n",
       "117                   0.036794                   0.835340          110.005714   \n",
       "\n",
       "     viewcounts_weighted  like_count_weighted  like_dislike_ratio  \\\n",
       "113         15241.801392          1049.344298            0.955442   \n",
       "114         14870.723784          1032.050839            0.954523   \n",
       "115         14748.626569           939.470945            0.956001   \n",
       "116         15558.251680          1049.395704            0.956913   \n",
       "117         15417.660309          1121.427479            0.957292   \n",
       "\n",
       "     weighted_like_dislike_ratio  like_dislike_ratio_by_viewcounts_weighted  \\\n",
       "113                     0.955442                               14861.456219   \n",
       "114                     0.954523                               14469.862263   \n",
       "115                     0.956001                               14378.400682   \n",
       "116                     0.956913                               15162.712790   \n",
       "117                     0.957292                               15049.514412   \n",
       "\n",
       "          index  percent_change action     _merge  \n",
       "113  2021-03-15       -0.021599   hold       both  \n",
       "114  2021-03-16       -0.043737   sell       both  \n",
       "115  2021-03-17       -0.004367   hold       both  \n",
       "116  2021-03-18        0.012174   hold       both  \n",
       "117         NaN             NaN    NaN  left_only  "
      ]
     },
     "execution_count": 17,
     "metadata": {},
     "output_type": "execute_result"
    }
   ],
   "source": [
    "X_agg_by_day_feautures_final.tail()"
   ]
  },
  {
   "cell_type": "code",
   "execution_count": 18,
   "metadata": {},
   "outputs": [
    {
     "data": {
      "text/plain": [
       "(118, 17)"
      ]
     },
     "execution_count": 18,
     "metadata": {},
     "output_type": "execute_result"
    }
   ],
   "source": [
    "X_agg_by_day_feautures_final.shape"
   ]
  },
  {
   "cell_type": "code",
   "execution_count": 22,
   "metadata": {},
   "outputs": [],
   "source": [
    "from plotnine import *"
   ]
  },
  {
   "cell_type": "code",
   "execution_count": 89,
   "metadata": {},
   "outputs": [
    {
     "name": "stderr",
     "output_type": "stream",
     "text": [
      "/Users/dapoadegbile/opt/anaconda3/lib/python3.8/site-packages/plotnine/stats/stat_smooth.py:197: PlotnineWarning: Smoothing requires 2 or more points. Got 1. Not enough points for smoothing. If this message a surprise, make sure the column mapped to the x aesthetic has the right dtype.\n",
      "/Users/dapoadegbile/opt/anaconda3/lib/python3.8/site-packages/plotnine/layer.py:467: PlotnineWarning: geom_point : Removed 1 rows containing missing values.\n"
     ]
    },
    {
     "data": {
      "image/png": "[encoded data removed]",
      "text/plain": [
       "<Figure size 640x480 with 1 Axes>"
      ]
     },
     "metadata": {},
     "output_type": "display_data"
    },
    {
     "data": {
      "text/plain": [
       "<ggplot: (8764753214983)>"
      ]
     },
     "execution_count": 89,
     "metadata": {},
     "output_type": "execute_result"
    }
   ],
   "source": [
    "ggplot(X_agg_by_day_feautures_final, aes(x='index', y='percent_change')) + geom_point() + geom_smooth(method = 'lowess')"
   ]
  },
  {
   "cell_type": "code",
   "execution_count": 95,
   "metadata": {},
   "outputs": [
    {
     "name": "stderr",
     "output_type": "stream",
     "text": [
      "/Users/dapoadegbile/opt/anaconda3/lib/python3.8/site-packages/plotnine/layer.py:372: PlotnineWarning: stat_boxplot : Removed 1 rows containing non-finite values.\n"
     ]
    },
    {
     "data": {
      "image/png": "[encoded data removed]",
      "text/plain": [
       "<Figure size 640x480 with 1 Axes>"
      ]
     },
     "metadata": {},
     "output_type": "display_data"
    },
    {
     "data": {
      "text/plain": [
       "<ggplot: (8764759321640)>"
      ]
     },
     "execution_count": 95,
     "metadata": {},
     "output_type": "execute_result"
    }
   ],
   "source": [
    "ggplot(X_agg_by_day_feautures_final, aes(x='action' , y = 'percent_change')) + geom_boxplot()"
   ]
  },
  {
   "cell_type": "code",
   "execution_count": 72,
   "metadata": {},
   "outputs": [],
   "source": [
    "import seaborn as sns \n",
    "import matplotlibas plt"
   ]
  },
  {
   "cell_type": "code",
   "execution_count": 83,
   "metadata": {},
   "outputs": [
    {
     "data": {
      "text/plain": [
       "'videoTitleSentimentScore_com'"
      ]
     },
     "execution_count": 83,
     "metadata": {},
     "output_type": "execute_result"
    }
   ],
   "source": [
    "X_agg_by_day_feautures_final.columns[3]"
   ]
  },
  {
   "cell_type": "code",
   "execution_count": 85,
   "metadata": {},
   "outputs": [
    {
     "name": "stdout",
     "output_type": "stream",
     "text": [
      "videoTitleSentimentScore_neg\n"
     ]
    },
    {
     "data": {
      "image/png": "[encoded data removed]",
      "text/plain": [
       "<Figure size 432x288 with 1 Axes>"
      ]
     },
     "metadata": {
      "needs_background": "light"
     },
     "output_type": "display_data"
    },
    {
     "name": "stdout",
     "output_type": "stream",
     "text": [
      "videoTitleSentimentScore_com\n"
     ]
    },
    {
     "data": {
      "image/png": "[encoded data removed]",
      "text/plain": [
       "<Figure size 432x288 with 1 Axes>"
      ]
     },
     "metadata": {
      "needs_background": "light"
     },
     "output_type": "display_data"
    },
    {
     "name": "stdout",
     "output_type": "stream",
     "text": [
      "captionSentimentScore_pos\n"
     ]
    },
    {
     "data": {
      "image/png": "[encoded data removed]",
      "text/plain": [
       "<Figure size 432x288 with 1 Axes>"
      ]
     },
     "metadata": {
      "needs_background": "light"
     },
     "output_type": "display_data"
    },
    {
     "name": "stdout",
     "output_type": "stream",
     "text": [
      "captionSentimentScore_neg\n"
     ]
    },
    {
     "data": {
      "image/png": "[encoded data removed]",
      "text/plain": [
       "<Figure size 432x288 with 1 Axes>"
      ]
     },
     "metadata": {
      "needs_background": "light"
     },
     "output_type": "display_data"
    },
    {
     "name": "stdout",
     "output_type": "stream",
     "text": [
      "captionSentimentScore_com\n"
     ]
    },
    {
     "data": {
      "image/png": "[encoded data removed]",
      "text/plain": [
       "<Figure size 432x288 with 1 Axes>"
      ]
     },
     "metadata": {
      "needs_background": "light"
     },
     "output_type": "display_data"
    },
    {
     "name": "stdout",
     "output_type": "stream",
     "text": [
      "num_days_since_pub\n"
     ]
    },
    {
     "data": {
      "image/png": "[encoded data removed]",
      "text/plain": [
       "<Figure size 432x288 with 1 Axes>"
      ]
     },
     "metadata": {
      "needs_background": "light"
     },
     "output_type": "display_data"
    },
    {
     "name": "stdout",
     "output_type": "stream",
     "text": [
      "viewcounts_weighted\n"
     ]
    },
    {
     "data": {
      "image/png": "[encoded data removed]",
      "text/plain": [
       "<Figure size 432x288 with 1 Axes>"
      ]
     },
     "metadata": {
      "needs_background": "light"
     },
     "output_type": "display_data"
    },
    {
     "name": "stdout",
     "output_type": "stream",
     "text": [
      "like_count_weighted\n"
     ]
    },
    {
     "data": {
      "image/png": "[encoded data removed]",
      "text/plain": [
       "<Figure size 432x288 with 1 Axes>"
      ]
     },
     "metadata": {
      "needs_background": "light"
     },
     "output_type": "display_data"
    },
    {
     "name": "stdout",
     "output_type": "stream",
     "text": [
      "like_dislike_ratio\n"
     ]
    },
    {
     "data": {
      "image/png": "[encoded data removed]",
      "text/plain": [
       "<Figure size 432x288 with 1 Axes>"
      ]
     },
     "metadata": {
      "needs_background": "light"
     },
     "output_type": "display_data"
    },
    {
     "name": "stdout",
     "output_type": "stream",
     "text": [
      "weighted_like_dislike_ratio\n"
     ]
    },
    {
     "data": {
      "image/png": "[encoded data removed]",
      "text/plain": [
       "<Figure size 432x288 with 1 Axes>"
      ]
     },
     "metadata": {
      "needs_background": "light"
     },
     "output_type": "display_data"
    },
    {
     "name": "stdout",
     "output_type": "stream",
     "text": [
      "like_dislike_ratio_by_viewcounts_weighted\n"
     ]
    },
    {
     "data": {
      "image/png": "[encoded data removed]",
      "text/plain": [
       "<Figure size 432x288 with 1 Axes>"
      ]
     },
     "metadata": {
      "needs_background": "light"
     },
     "output_type": "display_data"
    }
   ],
   "source": [
    "for i in range(2, 13):\n",
    "#     plt.subplot(3, 4, i)\n",
    "    plt.hist(X_agg_by_day_feautures_final.iloc[:, i])\n",
    "    plt.xlabel = print(X_agg_by_day_feautures_final.columns[i])\n",
    "    plt.show()\n",
    "    "
   ]
  },
  {
   "cell_type": "code",
   "execution_count": null,
   "metadata": {},
   "outputs": [],
   "source": []
  }
 ],
 "metadata": {
  "kernelspec": {
   "display_name": "Python 3",
   "language": "python",
   "name": "python3"
  },
  "language_info": {
   "codemirror_mode": {
    "name": "ipython",
    "version": 3
   },
   "file_extension": ".py",
   "mimetype": "text/x-python",
   "name": "python",
   "nbconvert_exporter": "python",
   "pygments_lexer": "ipython3",
   "version": "3.8.3"
  }
 },
 "nbformat": 4,
 "nbformat_minor": 4
}
