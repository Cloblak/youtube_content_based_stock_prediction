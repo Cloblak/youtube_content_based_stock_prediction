{
 "cells": [
  {
   "cell_type": "code",
   "execution_count": 1,
   "id": "foster-violence",
   "metadata": {},
   "outputs": [],
   "source": [
    "%load_ext lab_black"
   ]
  },
  {
   "cell_type": "code",
   "execution_count": 2,
   "id": "operational-magnitude",
   "metadata": {},
   "outputs": [
    {
     "name": "stdout",
     "output_type": "stream",
     "text": [
      "2021-04-08 07:57:22,193 loading file C:\\Users\\Chris\\.flair\\models\\sentiment-en-mix-distillbert_4.pt\n"
     ]
    }
   ],
   "source": [
    "import pandas as pd\n",
    "import numpy as np\n",
    "from nltk import tokenize\n",
    "from datetime import datetime\n",
    "import re\n",
    "import nltk\n",
    "from nltk.sentiment.vader import SentimentIntensityAnalyzer\n",
    "from nltk.corpus import stopwords\n",
    "from numba import jit, prange\n",
    "from nltk.sentiment.vader import SentimentIntensityAnalyzer\n",
    "from flair.models import TextClassifier\n",
    "from flair.models import SequenceTagger\n",
    "from flair.data import Sentence\n",
    "from segtok.segmenter import split_single\n",
    "from statistics import mean\n",
    "\n",
    "sid = SentimentIntensityAnalyzer()\n",
    "classifier = TextClassifier.load(\"en-sentiment\")"
   ]
  },
  {
   "cell_type": "code",
   "execution_count": 3,
   "id": "enormous-office",
   "metadata": {},
   "outputs": [],
   "source": [
    "# input data\n",
    "nvidia_df = pd.read_csv(\"../00_data/nvidia_caption_data_06APR.gz\")"
   ]
  },
  {
   "cell_type": "code",
   "execution_count": 4,
   "id": "dirty-gamma",
   "metadata": {},
   "outputs": [],
   "source": [
    "# Cleaning step1: fix the issue were the data was appended incorrectly\n",
    "correct_df = nvidia_df.iloc[0:16268].copy()\n",
    "incorrect_df = nvidia_df.iloc[16268:].copy()\n",
    "\n",
    "# relable incoorect columns to be appended back correctly\n",
    "incorrect_df.rename(\n",
    "    columns={\n",
    "        \"captionString\": \"drop\",\n",
    "        \"Unnamed: 0\": \"Index\",\n",
    "        \"Unnamed: 0.1\": \"videoID\",\n",
    "        \"videoID\": \"datePub\",\n",
    "        \"datePub\": \"searchedDate\",\n",
    "        \"searchedDate\": \"VideoTitle\",\n",
    "        \"VideoTitle\": \"channelTitle\",\n",
    "        \"channelTitle\": \"viewCount\",\n",
    "        \"viewCount\": \"likeCount\",\n",
    "        \"likeCount\": \"dislikeCount\",\n",
    "        \"dislikeCount\": \"captionString\",\n",
    "    },\n",
    "    inplace=True,\n",
    ")\n",
    "\n",
    "# drop the exccess column created by AWS appending\n",
    "incorrect_df = incorrect_df.drop(columns=[\"drop\"])\n",
    "\n",
    "# relable columns to match the corrected df\n",
    "correct_df.rename(columns={\"Unnamed: 0.1\": \"Index\"}, inplace=True)\n",
    "correct_df = correct_df.drop(columns=[\"Unnamed: 0\"])\n",
    "\n",
    "# create new nvida data frame to begin cleaning and working with\n",
    "nvidia_df_1 = correct_df.append(incorrect_df, sort=False)\n",
    "\n",
    "# initialize correct types of data for each column\n",
    "nvidia_df_1[\"VideoTitle\"] = nvidia_df_1[\"VideoTitle\"].astype(\"str\")\n",
    "nvidia_df_1[\"datePub\"] = pd.to_datetime(\n",
    "    nvidia_df_1[\"datePub\"], format=\"%Y-%m-%d %H:%M:%S\", utc=True\n",
    ")\n",
    "nvidia_df_1[\"searchedDate\"] = pd.to_datetime(\n",
    "    nvidia_df_1[\"searchedDate\"], format=\"%Y-%m-%d %H:%M:%S\", utc=True\n",
    ")\n",
    "nvidia_df_1[\"channelTitle\"] = nvidia_df_1[\"channelTitle\"].astype(\"str\")\n",
    "nvidia_df_1[\"viewCount\"] = nvidia_df_1[\"viewCount\"].astype(\"int\")\n",
    "nvidia_df_1[\"likeCount\"] = nvidia_df_1[\"likeCount\"].astype(\"int\")\n",
    "nvidia_df_1[\"dislikeCount\"] = nvidia_df_1[\"dislikeCount\"].astype(\"int\")\n",
    "nvidia_df_1[\"captionString\"] = nvidia_df_1[\"captionString\"].astype(\"str\")\n",
    "\n",
    "# define a cleaning function to clean and standardize caption strings\n",
    "def clean(raw):\n",
    "    \"\"\" Remove hyperlinks and markup \"\"\"\n",
    "    result = re.sub(\"\\\\[[^][]*]\", \"\", raw)\n",
    "    result = re.sub(\"<[a][^>]*>(.+?)</[a]>\", \"Link.\", result)\n",
    "    result = re.sub(\"&gt;\", \"\", result)\n",
    "    result = re.sub(\"&#x27;\", \"'\", result)\n",
    "    result = re.sub(\"&quot;\", '\"', result)\n",
    "    result = re.sub(\"&#x2F;\", \" \", result)\n",
    "    result = re.sub(\"<p>\", \" \", result)\n",
    "    result = re.sub(\"</i>\", \"\", result)\n",
    "    result = re.sub(\"&#62;\", \"\", result)\n",
    "    result = re.sub(\"<i>\", \" \", result)\n",
    "    result = re.sub(\"\\n\", \"\", result)\n",
    "    result = re.sub(\"     \", \"\", result)\n",
    "    return result\n",
    "\n",
    "\n",
    "nvidia_df_1[\"captionString\"] = nvidia_df_1[\"captionString\"].apply(clean)\n",
    "nvidia_df_1[\"VideoTitle\"] = nvidia_df_1[\"VideoTitle\"].apply(clean)\n",
    "\n",
    "# for i in range(len(nvidia_df_1[\"captionString\"])):\n",
    "#    nvidia_df_1[\"captionString\"][i] = clean(nvidia_df_1[\"captionString\"][i])"
   ]
  },
  {
   "cell_type": "code",
   "execution_count": 5,
   "id": "mature-aaron",
   "metadata": {},
   "outputs": [
    {
     "data": {
      "text/plain": [
       "Index                         object\n",
       "videoID                       object\n",
       "datePub          datetime64[ns, UTC]\n",
       "searchedDate     datetime64[ns, UTC]\n",
       "VideoTitle                    object\n",
       "channelTitle                  object\n",
       "viewCount                      int32\n",
       "likeCount                      int32\n",
       "dislikeCount                   int32\n",
       "captionString                 object\n",
       "dtype: object"
      ]
     },
     "execution_count": 5,
     "metadata": {},
     "output_type": "execute_result"
    }
   ],
   "source": [
    "nvidia_df_1.dtypes"
   ]
  },
  {
   "cell_type": "code",
   "execution_count": null,
   "id": "suffering-agriculture",
   "metadata": {},
   "outputs": [],
   "source": [
    "sid = SentimentIntensityAnalyzer()\n",
    "\n",
    "# nvidia_df_1[\"videoTitleSentimentScore_vader_pos\"] = [\n",
    "#     sid.polarity_scores(x)[\"pos\"] for x in nvidia_df_1[\"VideoTitle\"]\n",
    "# ]\n",
    "\n",
    "# nvidia_df_1[\"videoTitleSentimentScore_vader_neg\"] = [\n",
    "#     sid.polarity_scores(x)[\"neg\"] for x in nvidia_df_1[\"VideoTitle\"]\n",
    "# ]\n",
    "\n",
    "# nvidia_df_1[\"captionSentimentScore_vader_pos\"] = [\n",
    "#     sid.polarity_scores(x)[\"pos\"] for x in nvidia_df_1[\"captionString\"]\n",
    "# ]\n",
    "\n",
    "# nvidia_df_1[\"captionSentimentScore_vader_neg\"] = [\n",
    "#     sid.polarity_scores(x)[\"neg\"] for x in nvidia_df_1[\"captionString\"]\n",
    "# ]\n",
    "\n",
    "# nvidia_df_1[\"captionSentimentScore_vader_com\"] = [\n",
    "#     sid.polarity_scores(x)[\"compound\"] for x in nvidia_df_1[\"captionString\"]\n",
    "# ]\n",
    "\n",
    "# nvidia_df_1[\"videoTitleSentimentScore_vader_com\"] = [\n",
    "#     sid.polarity_scores(x)[\"compound\"] for x in nvidia_df_1[\"VideoTitle\"]\n",
    "# ]\n",
    "\n",
    "\n",
    "#####\n",
    "# Create one socre a cycle through to pullout late to aave on speed\n",
    "#####\n",
    "\n",
    "nvidia_df_1[\"videoTitleSentimentScore_vader_scores\"] = [\n",
    "    sid.polarity_scores(x) for x in nvidia_df_1[\"VideoTitle\"]\n",
    "]\n",
    "\n",
    "nvidia_df_1[\"videoTitleSentimentScore_caption_scores\"] = [\n",
    "    sid.polarity_scores(x) for x in nvidia_df_1[\"captionString\"]\n",
    "]"
   ]
  },
  {
   "cell_type": "code",
   "execution_count": 7,
   "id": "forbidden-twenty",
   "metadata": {},
   "outputs": [
    {
     "name": "stdout",
     "output_type": "stream",
     "text": [
      "2021-04-08 07:59:20,248 loading file C:\\Users\\Chris\\.flair\\models\\sentiment-en-mix-distillbert_4.pt\n"
     ]
    }
   ],
   "source": [
    "classifier = TextClassifier.load(\"en-sentiment\")\n",
    "\n",
    "# utilize regular expressions to split large stings into sentences that are centered around the key words\n",
    "\n",
    "\n",
    "def search(target, text, context=6):\n",
    "    # It's easier to use re.findall to split the string,\n",
    "    # as we get rid of the punctuation\n",
    "    words = re.findall(r\"\\w+\", text)\n",
    "\n",
    "    matches = (i for (i, w) in enumerate(words) if w.lower() == target)\n",
    "    for index in matches:\n",
    "        if index < context // 2:\n",
    "            yield words[0 : context + 1]\n",
    "        elif index > len(words) - context // 2 - 1:\n",
    "            yield words[-(context + 1) :]\n",
    "        else:\n",
    "            yield words[index - context // 2 : index + context // 2 + 1]\n",
    "\n",
    "\n",
    "def flair_predict(sentence):\n",
    "    \"\"\" Predict the sentiment of a sentence \"\"\"\n",
    "    if sentence == \"\":\n",
    "        return 0\n",
    "    text = Sentence(sentence)\n",
    "    # stacked_embeddings.embed(text)\n",
    "    classifier.predict(text)\n",
    "    value = text.labels[0].to_dict()[\"value\"]\n",
    "    if value == \"POSITIVE\":\n",
    "        result = text.to_dict()[\"labels\"][0][\"confidence\"]\n",
    "    else:\n",
    "        result = -(text.to_dict()[\"labels\"][0][\"confidence\"])\n",
    "    return round(result, 3)\n",
    "\n",
    "\n",
    "def vader_predict(sentence):\n",
    "    \"\"\" Predict the sentiment of a sentence \"\"\"\n",
    "    if sentence == \"\":\n",
    "        return 0\n",
    "    # stacked_embeddings.embed(text)\n",
    "    else:\n",
    "        score = sid.polarity_scores(\" \".join(sentence))\n",
    "        result = score[\"pos\"]\n",
    "        return round(result, 3)\n",
    "\n",
    "\n",
    "def get_scores(sentences, flairPredict=True):\n",
    "    \"\"\" Call predict on every sentence of a text \"\"\"\n",
    "    results = []\n",
    "\n",
    "    if flairPredict == True:\n",
    "        for i in range(0, len(sentences)):\n",
    "            results.append(flair_predict(sentences[i]))\n",
    "        return results\n",
    "    else:\n",
    "        for i in range(0, len(sentences)):\n",
    "            results.append(vader_predict(sentences[i]))\n",
    "        return results\n",
    "\n",
    "\n",
    "def get_scores_single_cap(sentences, flairPredict=True):\n",
    "    \"\"\" Call predict on single caption string \"\"\"\n",
    "    if flairPredict == True:\n",
    "        results = []\n",
    "        results.append(flair_predict(sentences))\n",
    "        return results\n",
    "    else:\n",
    "        results = []\n",
    "        results.append(vader_predict(sentences))\n",
    "        return results\n",
    "\n",
    "\n",
    "def get_sum(scores):\n",
    "    result = round(sum(scores), 3)\n",
    "    return result\n",
    "\n",
    "\n",
    "def get_avg(scores):\n",
    "    if len(scores) == 0:\n",
    "        return 0\n",
    "    else:\n",
    "        result = round((sum(scores) / len(scores)), 3)\n",
    "        return result"
   ]
  },
  {
   "cell_type": "code",
   "execution_count": 8,
   "id": "artistic-inspector",
   "metadata": {},
   "outputs": [],
   "source": [
    "nvidia_df_1[\"caption_list_split_by_nvidia_10words\"] = [\n",
    "    list(search(\"nvidia\", x, 10)) for x in nvidia_df_1[\"captionString\"]\n",
    "]\n",
    "\n",
    "nvidia_df_1[\"caption_list_split_by_nvidia_20words\"] = [\n",
    "    list(search(\"nvidia\", x, 20)) for x in nvidia_df_1[\"captionString\"]\n",
    "]\n",
    "\n",
    "nvidia_df_1[\"caption_list_split_by_nvidia_35words\"] = [\n",
    "    list(search(\"nvidia\", x, 35)) for x in nvidia_df_1[\"captionString\"]\n",
    "]"
   ]
  },
  {
   "cell_type": "code",
   "execution_count": null,
   "id": "taken-colleague",
   "metadata": {},
   "outputs": [],
   "source": [
    "nvidia_df_1"
   ]
  },
  {
   "cell_type": "code",
   "execution_count": 10,
   "id": "amino-terminal",
   "metadata": {},
   "outputs": [
    {
     "ename": "KeyboardInterrupt",
     "evalue": "",
     "output_type": "error",
     "traceback": [
      "\u001b[1;31m---------------------------------------------------------------------------\u001b[0m",
      "\u001b[1;31mKeyboardInterrupt\u001b[0m                         Traceback (most recent call last)",
      "\u001b[1;32m<ipython-input-10-5a3ef4e55286>\u001b[0m in \u001b[0;36m<module>\u001b[1;34m\u001b[0m\n\u001b[0;32m      3\u001b[0m ]\n\u001b[0;32m      4\u001b[0m \u001b[1;33m\u001b[0m\u001b[0m\n\u001b[1;32m----> 5\u001b[1;33m nvidia_df_1[\"caption_list_split_by_nvidia_20words_flairscores\"] = [\n\u001b[0m\u001b[0;32m      6\u001b[0m     \u001b[0mget_avg\u001b[0m\u001b[1;33m(\u001b[0m\u001b[0mget_scores\u001b[0m\u001b[1;33m(\u001b[0m\u001b[0mx\u001b[0m\u001b[1;33m,\u001b[0m \u001b[0mflairPredict\u001b[0m \u001b[1;33m=\u001b[0m \u001b[1;32mTrue\u001b[0m\u001b[1;33m)\u001b[0m\u001b[1;33m)\u001b[0m \u001b[1;32mfor\u001b[0m \u001b[0mx\u001b[0m \u001b[1;32min\u001b[0m \u001b[0mnvidia_df_1\u001b[0m\u001b[1;33m[\u001b[0m\u001b[1;34m\"caption_list_split_by_nvidia_20words\"\u001b[0m\u001b[1;33m]\u001b[0m\u001b[1;33m\u001b[0m\u001b[1;33m\u001b[0m\u001b[0m\n\u001b[0;32m      7\u001b[0m ]\n",
      "\u001b[1;32m<ipython-input-10-5a3ef4e55286>\u001b[0m in \u001b[0;36m<listcomp>\u001b[1;34m(.0)\u001b[0m\n\u001b[0;32m      4\u001b[0m \u001b[1;33m\u001b[0m\u001b[0m\n\u001b[0;32m      5\u001b[0m nvidia_df_1[\"caption_list_split_by_nvidia_20words_flairscores\"] = [\n\u001b[1;32m----> 6\u001b[1;33m     \u001b[0mget_avg\u001b[0m\u001b[1;33m(\u001b[0m\u001b[0mget_scores\u001b[0m\u001b[1;33m(\u001b[0m\u001b[0mx\u001b[0m\u001b[1;33m,\u001b[0m \u001b[0mflairPredict\u001b[0m \u001b[1;33m=\u001b[0m \u001b[1;32mTrue\u001b[0m\u001b[1;33m)\u001b[0m\u001b[1;33m)\u001b[0m \u001b[1;32mfor\u001b[0m \u001b[0mx\u001b[0m \u001b[1;32min\u001b[0m \u001b[0mnvidia_df_1\u001b[0m\u001b[1;33m[\u001b[0m\u001b[1;34m\"caption_list_split_by_nvidia_20words\"\u001b[0m\u001b[1;33m]\u001b[0m\u001b[1;33m\u001b[0m\u001b[1;33m\u001b[0m\u001b[0m\n\u001b[0m\u001b[0;32m      7\u001b[0m ]\n\u001b[0;32m      8\u001b[0m \u001b[1;33m\u001b[0m\u001b[0m\n",
      "\u001b[1;32m<ipython-input-7-3f49adf9110a>\u001b[0m in \u001b[0;36mget_scores\u001b[1;34m(sentences, flairPredict)\u001b[0m\n\u001b[0;32m     51\u001b[0m     \u001b[1;32mif\u001b[0m \u001b[0mflairPredict\u001b[0m \u001b[1;33m==\u001b[0m \u001b[1;32mTrue\u001b[0m\u001b[1;33m:\u001b[0m\u001b[1;33m\u001b[0m\u001b[1;33m\u001b[0m\u001b[0m\n\u001b[0;32m     52\u001b[0m         \u001b[1;32mfor\u001b[0m \u001b[0mi\u001b[0m \u001b[1;32min\u001b[0m \u001b[0mrange\u001b[0m\u001b[1;33m(\u001b[0m\u001b[1;36m0\u001b[0m\u001b[1;33m,\u001b[0m \u001b[0mlen\u001b[0m\u001b[1;33m(\u001b[0m\u001b[0msentences\u001b[0m\u001b[1;33m)\u001b[0m\u001b[1;33m)\u001b[0m\u001b[1;33m:\u001b[0m\u001b[1;33m\u001b[0m\u001b[1;33m\u001b[0m\u001b[0m\n\u001b[1;32m---> 53\u001b[1;33m             \u001b[0mresults\u001b[0m\u001b[1;33m.\u001b[0m\u001b[0mappend\u001b[0m\u001b[1;33m(\u001b[0m\u001b[0mflair_predict\u001b[0m\u001b[1;33m(\u001b[0m\u001b[0msentences\u001b[0m\u001b[1;33m[\u001b[0m\u001b[0mi\u001b[0m\u001b[1;33m]\u001b[0m\u001b[1;33m)\u001b[0m\u001b[1;33m)\u001b[0m\u001b[1;33m\u001b[0m\u001b[1;33m\u001b[0m\u001b[0m\n\u001b[0m\u001b[0;32m     54\u001b[0m         \u001b[1;32mreturn\u001b[0m \u001b[0mresults\u001b[0m\u001b[1;33m\u001b[0m\u001b[1;33m\u001b[0m\u001b[0m\n\u001b[0;32m     55\u001b[0m     \u001b[1;32melse\u001b[0m\u001b[1;33m:\u001b[0m\u001b[1;33m\u001b[0m\u001b[1;33m\u001b[0m\u001b[0m\n",
      "\u001b[1;32m<ipython-input-7-3f49adf9110a>\u001b[0m in \u001b[0;36mflair_predict\u001b[1;34m(sentence)\u001b[0m\n\u001b[0;32m     25\u001b[0m     \u001b[0mtext\u001b[0m \u001b[1;33m=\u001b[0m \u001b[0mSentence\u001b[0m\u001b[1;33m(\u001b[0m\u001b[0msentence\u001b[0m\u001b[1;33m)\u001b[0m\u001b[1;33m\u001b[0m\u001b[1;33m\u001b[0m\u001b[0m\n\u001b[0;32m     26\u001b[0m     \u001b[1;31m# stacked_embeddings.embed(text)\u001b[0m\u001b[1;33m\u001b[0m\u001b[1;33m\u001b[0m\u001b[1;33m\u001b[0m\u001b[0m\n\u001b[1;32m---> 27\u001b[1;33m     \u001b[0mclassifier\u001b[0m\u001b[1;33m.\u001b[0m\u001b[0mpredict\u001b[0m\u001b[1;33m(\u001b[0m\u001b[0mtext\u001b[0m\u001b[1;33m)\u001b[0m\u001b[1;33m\u001b[0m\u001b[1;33m\u001b[0m\u001b[0m\n\u001b[0m\u001b[0;32m     28\u001b[0m     \u001b[0mvalue\u001b[0m \u001b[1;33m=\u001b[0m \u001b[0mtext\u001b[0m\u001b[1;33m.\u001b[0m\u001b[0mlabels\u001b[0m\u001b[1;33m[\u001b[0m\u001b[1;36m0\u001b[0m\u001b[1;33m]\u001b[0m\u001b[1;33m.\u001b[0m\u001b[0mto_dict\u001b[0m\u001b[1;33m(\u001b[0m\u001b[1;33m)\u001b[0m\u001b[1;33m[\u001b[0m\u001b[1;34m\"value\"\u001b[0m\u001b[1;33m]\u001b[0m\u001b[1;33m\u001b[0m\u001b[1;33m\u001b[0m\u001b[0m\n\u001b[0;32m     29\u001b[0m     \u001b[1;32mif\u001b[0m \u001b[0mvalue\u001b[0m \u001b[1;33m==\u001b[0m \u001b[1;34m\"POSITIVE\"\u001b[0m\u001b[1;33m:\u001b[0m\u001b[1;33m\u001b[0m\u001b[1;33m\u001b[0m\u001b[0m\n",
      "\u001b[1;32m~\\anaconda3\\lib\\site-packages\\flair\\models\\text_classification_model.py\u001b[0m in \u001b[0;36mpredict\u001b[1;34m(self, sentences, mini_batch_size, multi_class_prob, verbose, label_name, return_loss, embedding_storage_mode)\u001b[0m\n\u001b[0;32m    229\u001b[0m                     \u001b[1;32mcontinue\u001b[0m\u001b[1;33m\u001b[0m\u001b[1;33m\u001b[0m\u001b[0m\n\u001b[0;32m    230\u001b[0m \u001b[1;33m\u001b[0m\u001b[0m\n\u001b[1;32m--> 231\u001b[1;33m                 \u001b[0mscores\u001b[0m\u001b[1;33m,\u001b[0m \u001b[0mloss\u001b[0m \u001b[1;33m=\u001b[0m \u001b[0mself\u001b[0m\u001b[1;33m.\u001b[0m\u001b[0m_forward_scores_and_loss\u001b[0m\u001b[1;33m(\u001b[0m\u001b[0mbatch\u001b[0m\u001b[1;33m,\u001b[0m \u001b[0mreturn_loss\u001b[0m\u001b[1;33m)\u001b[0m\u001b[1;33m\u001b[0m\u001b[1;33m\u001b[0m\u001b[0m\n\u001b[0m\u001b[0;32m    232\u001b[0m \u001b[1;33m\u001b[0m\u001b[0m\n\u001b[0;32m    233\u001b[0m                 \u001b[1;32mif\u001b[0m \u001b[0mreturn_loss\u001b[0m\u001b[1;33m:\u001b[0m\u001b[1;33m\u001b[0m\u001b[1;33m\u001b[0m\u001b[0m\n",
      "\u001b[1;32m~\\anaconda3\\lib\\site-packages\\flair\\models\\text_classification_model.py\u001b[0m in \u001b[0;36m_forward_scores_and_loss\u001b[1;34m(self, data_points, return_loss)\u001b[0m\n\u001b[0;32m    155\u001b[0m     def _forward_scores_and_loss(\n\u001b[0;32m    156\u001b[0m             self, data_points: Union[List[Sentence], Sentence], return_loss=False):\n\u001b[1;32m--> 157\u001b[1;33m         \u001b[0mscores\u001b[0m \u001b[1;33m=\u001b[0m \u001b[0mself\u001b[0m\u001b[1;33m.\u001b[0m\u001b[0mforward\u001b[0m\u001b[1;33m(\u001b[0m\u001b[0mdata_points\u001b[0m\u001b[1;33m)\u001b[0m\u001b[1;33m\u001b[0m\u001b[1;33m\u001b[0m\u001b[0m\n\u001b[0m\u001b[0;32m    158\u001b[0m \u001b[1;33m\u001b[0m\u001b[0m\n\u001b[0;32m    159\u001b[0m         \u001b[0mloss\u001b[0m \u001b[1;33m=\u001b[0m \u001b[1;32mNone\u001b[0m\u001b[1;33m\u001b[0m\u001b[1;33m\u001b[0m\u001b[0m\n",
      "\u001b[1;32m~\\anaconda3\\lib\\site-packages\\flair\\models\\text_classification_model.py\u001b[0m in \u001b[0;36mforward\u001b[1;34m(self, sentences)\u001b[0m\n\u001b[0;32m     95\u001b[0m     \u001b[1;32mdef\u001b[0m \u001b[0mforward\u001b[0m\u001b[1;33m(\u001b[0m\u001b[0mself\u001b[0m\u001b[1;33m,\u001b[0m \u001b[0msentences\u001b[0m\u001b[1;33m)\u001b[0m\u001b[1;33m:\u001b[0m\u001b[1;33m\u001b[0m\u001b[1;33m\u001b[0m\u001b[0m\n\u001b[0;32m     96\u001b[0m \u001b[1;33m\u001b[0m\u001b[0m\n\u001b[1;32m---> 97\u001b[1;33m         \u001b[0mself\u001b[0m\u001b[1;33m.\u001b[0m\u001b[0mdocument_embeddings\u001b[0m\u001b[1;33m.\u001b[0m\u001b[0membed\u001b[0m\u001b[1;33m(\u001b[0m\u001b[0msentences\u001b[0m\u001b[1;33m)\u001b[0m\u001b[1;33m\u001b[0m\u001b[1;33m\u001b[0m\u001b[0m\n\u001b[0m\u001b[0;32m     98\u001b[0m \u001b[1;33m\u001b[0m\u001b[0m\n\u001b[0;32m     99\u001b[0m         \u001b[0membedding_names\u001b[0m \u001b[1;33m=\u001b[0m \u001b[0mself\u001b[0m\u001b[1;33m.\u001b[0m\u001b[0mdocument_embeddings\u001b[0m\u001b[1;33m.\u001b[0m\u001b[0mget_names\u001b[0m\u001b[1;33m(\u001b[0m\u001b[1;33m)\u001b[0m\u001b[1;33m\u001b[0m\u001b[1;33m\u001b[0m\u001b[0m\n",
      "\u001b[1;32m~\\anaconda3\\lib\\site-packages\\flair\\embeddings\\base.py\u001b[0m in \u001b[0;36membed\u001b[1;34m(self, sentences)\u001b[0m\n\u001b[0;32m     58\u001b[0m \u001b[1;33m\u001b[0m\u001b[0m\n\u001b[0;32m     59\u001b[0m         \u001b[1;32mif\u001b[0m \u001b[1;32mnot\u001b[0m \u001b[0meverything_embedded\u001b[0m \u001b[1;32mor\u001b[0m \u001b[1;32mnot\u001b[0m \u001b[0mself\u001b[0m\u001b[1;33m.\u001b[0m\u001b[0mstatic_embeddings\u001b[0m\u001b[1;33m:\u001b[0m\u001b[1;33m\u001b[0m\u001b[1;33m\u001b[0m\u001b[0m\n\u001b[1;32m---> 60\u001b[1;33m             \u001b[0mself\u001b[0m\u001b[1;33m.\u001b[0m\u001b[0m_add_embeddings_internal\u001b[0m\u001b[1;33m(\u001b[0m\u001b[0msentences\u001b[0m\u001b[1;33m)\u001b[0m\u001b[1;33m\u001b[0m\u001b[1;33m\u001b[0m\u001b[0m\n\u001b[0m\u001b[0;32m     61\u001b[0m \u001b[1;33m\u001b[0m\u001b[0m\n\u001b[0;32m     62\u001b[0m         \u001b[1;32mreturn\u001b[0m \u001b[0msentences\u001b[0m\u001b[1;33m\u001b[0m\u001b[1;33m\u001b[0m\u001b[0m\n",
      "\u001b[1;32m~\\anaconda3\\lib\\site-packages\\flair\\embeddings\\document.py\u001b[0m in \u001b[0;36m_add_embeddings_internal\u001b[1;34m(self, sentences)\u001b[0m\n\u001b[0;32m    107\u001b[0m \u001b[1;33m\u001b[0m\u001b[0m\n\u001b[0;32m    108\u001b[0m         \u001b[1;32mfor\u001b[0m \u001b[0mbatch\u001b[0m \u001b[1;32min\u001b[0m \u001b[0msentence_batches\u001b[0m\u001b[1;33m:\u001b[0m\u001b[1;33m\u001b[0m\u001b[1;33m\u001b[0m\u001b[0m\n\u001b[1;32m--> 109\u001b[1;33m             \u001b[0mself\u001b[0m\u001b[1;33m.\u001b[0m\u001b[0m_add_embeddings_to_sentences\u001b[0m\u001b[1;33m(\u001b[0m\u001b[0mbatch\u001b[0m\u001b[1;33m)\u001b[0m\u001b[1;33m\u001b[0m\u001b[1;33m\u001b[0m\u001b[0m\n\u001b[0m\u001b[0;32m    110\u001b[0m \u001b[1;33m\u001b[0m\u001b[0m\n\u001b[0;32m    111\u001b[0m         \u001b[1;32mreturn\u001b[0m \u001b[0msentences\u001b[0m\u001b[1;33m\u001b[0m\u001b[1;33m\u001b[0m\u001b[0m\n",
      "\u001b[1;32m~\\anaconda3\\lib\\site-packages\\flair\\embeddings\\document.py\u001b[0m in \u001b[0;36m_add_embeddings_to_sentences\u001b[1;34m(self, sentences)\u001b[0m\n\u001b[0;32m    125\u001b[0m             \u001b[1;32mfor\u001b[0m \u001b[0msentence\u001b[0m \u001b[1;32min\u001b[0m \u001b[0msentences\u001b[0m\u001b[1;33m:\u001b[0m\u001b[1;33m\u001b[0m\u001b[1;33m\u001b[0m\u001b[0m\n\u001b[0;32m    126\u001b[0m                 \u001b[1;31m# tokenize and truncate to max subtokens (TODO: check better truncation strategies)\u001b[0m\u001b[1;33m\u001b[0m\u001b[1;33m\u001b[0m\u001b[1;33m\u001b[0m\u001b[0m\n\u001b[1;32m--> 127\u001b[1;33m                 subtokenized_sentence = self.tokenizer.encode(sentence.to_tokenized_string(),\n\u001b[0m\u001b[0;32m    128\u001b[0m                                                               \u001b[0madd_special_tokens\u001b[0m\u001b[1;33m=\u001b[0m\u001b[1;32mTrue\u001b[0m\u001b[1;33m,\u001b[0m\u001b[1;33m\u001b[0m\u001b[1;33m\u001b[0m\u001b[0m\n\u001b[0;32m    129\u001b[0m                                                               \u001b[0mmax_length\u001b[0m\u001b[1;33m=\u001b[0m\u001b[0mself\u001b[0m\u001b[1;33m.\u001b[0m\u001b[0mtokenizer\u001b[0m\u001b[1;33m.\u001b[0m\u001b[0mmodel_max_length\u001b[0m\u001b[1;33m,\u001b[0m\u001b[1;33m\u001b[0m\u001b[1;33m\u001b[0m\u001b[0m\n",
      "\u001b[1;32m~\\anaconda3\\lib\\site-packages\\transformers\\tokenization_utils_base.py\u001b[0m in \u001b[0;36mencode\u001b[1;34m(self, text, text_pair, add_special_tokens, padding, truncation, max_length, stride, return_tensors, **kwargs)\u001b[0m\n\u001b[0;32m   2021\u001b[0m                 ``convert_tokens_to_ids`` method).\n\u001b[0;32m   2022\u001b[0m         \"\"\"\n\u001b[1;32m-> 2023\u001b[1;33m         encoded_inputs = self.encode_plus(\n\u001b[0m\u001b[0;32m   2024\u001b[0m             \u001b[0mtext\u001b[0m\u001b[1;33m,\u001b[0m\u001b[1;33m\u001b[0m\u001b[1;33m\u001b[0m\u001b[0m\n\u001b[0;32m   2025\u001b[0m             \u001b[0mtext_pair\u001b[0m\u001b[1;33m=\u001b[0m\u001b[0mtext_pair\u001b[0m\u001b[1;33m,\u001b[0m\u001b[1;33m\u001b[0m\u001b[1;33m\u001b[0m\u001b[0m\n",
      "\u001b[1;32m~\\anaconda3\\lib\\site-packages\\transformers\\tokenization_utils_base.py\u001b[0m in \u001b[0;36mencode_plus\u001b[1;34m(self, text, text_pair, add_special_tokens, padding, truncation, max_length, stride, is_split_into_words, pad_to_multiple_of, return_tensors, return_token_type_ids, return_attention_mask, return_overflowing_tokens, return_special_tokens_mask, return_offsets_mapping, return_length, verbose, **kwargs)\u001b[0m\n\u001b[0;32m   2337\u001b[0m         )\n\u001b[0;32m   2338\u001b[0m \u001b[1;33m\u001b[0m\u001b[0m\n\u001b[1;32m-> 2339\u001b[1;33m         return self._encode_plus(\n\u001b[0m\u001b[0;32m   2340\u001b[0m             \u001b[0mtext\u001b[0m\u001b[1;33m=\u001b[0m\u001b[0mtext\u001b[0m\u001b[1;33m,\u001b[0m\u001b[1;33m\u001b[0m\u001b[1;33m\u001b[0m\u001b[0m\n\u001b[0;32m   2341\u001b[0m             \u001b[0mtext_pair\u001b[0m\u001b[1;33m=\u001b[0m\u001b[0mtext_pair\u001b[0m\u001b[1;33m,\u001b[0m\u001b[1;33m\u001b[0m\u001b[1;33m\u001b[0m\u001b[0m\n",
      "\u001b[1;32m~\\anaconda3\\lib\\site-packages\\transformers\\tokenization_utils_fast.py\u001b[0m in \u001b[0;36m_encode_plus\u001b[1;34m(self, text, text_pair, add_special_tokens, padding_strategy, truncation_strategy, max_length, stride, is_split_into_words, pad_to_multiple_of, return_tensors, return_token_type_ids, return_attention_mask, return_overflowing_tokens, return_special_tokens_mask, return_offsets_mapping, return_length, verbose, **kwargs)\u001b[0m\n\u001b[0;32m    449\u001b[0m \u001b[1;33m\u001b[0m\u001b[0m\n\u001b[0;32m    450\u001b[0m         \u001b[0mbatched_input\u001b[0m \u001b[1;33m=\u001b[0m \u001b[1;33m[\u001b[0m\u001b[1;33m(\u001b[0m\u001b[0mtext\u001b[0m\u001b[1;33m,\u001b[0m \u001b[0mtext_pair\u001b[0m\u001b[1;33m)\u001b[0m\u001b[1;33m]\u001b[0m \u001b[1;32mif\u001b[0m \u001b[0mtext_pair\u001b[0m \u001b[1;32melse\u001b[0m \u001b[1;33m[\u001b[0m\u001b[0mtext\u001b[0m\u001b[1;33m]\u001b[0m\u001b[1;33m\u001b[0m\u001b[1;33m\u001b[0m\u001b[0m\n\u001b[1;32m--> 451\u001b[1;33m         batched_output = self._batch_encode_plus(\n\u001b[0m\u001b[0;32m    452\u001b[0m             \u001b[0mbatched_input\u001b[0m\u001b[1;33m,\u001b[0m\u001b[1;33m\u001b[0m\u001b[1;33m\u001b[0m\u001b[0m\n\u001b[0;32m    453\u001b[0m             \u001b[0mis_split_into_words\u001b[0m\u001b[1;33m=\u001b[0m\u001b[0mis_split_into_words\u001b[0m\u001b[1;33m,\u001b[0m\u001b[1;33m\u001b[0m\u001b[1;33m\u001b[0m\u001b[0m\n",
      "\u001b[1;32m~\\anaconda3\\lib\\site-packages\\transformers\\tokenization_utils_fast.py\u001b[0m in \u001b[0;36m_batch_encode_plus\u001b[1;34m(self, batch_text_or_text_pairs, add_special_tokens, padding_strategy, truncation_strategy, max_length, stride, is_split_into_words, pad_to_multiple_of, return_tensors, return_token_type_ids, return_attention_mask, return_overflowing_tokens, return_special_tokens_mask, return_offsets_mapping, return_length, verbose)\u001b[0m\n\u001b[0;32m    376\u001b[0m         )\n\u001b[0;32m    377\u001b[0m \u001b[1;33m\u001b[0m\u001b[0m\n\u001b[1;32m--> 378\u001b[1;33m         encodings = self._tokenizer.encode_batch(\n\u001b[0m\u001b[0;32m    379\u001b[0m             \u001b[0mbatch_text_or_text_pairs\u001b[0m\u001b[1;33m,\u001b[0m\u001b[1;33m\u001b[0m\u001b[1;33m\u001b[0m\u001b[0m\n\u001b[0;32m    380\u001b[0m             \u001b[0madd_special_tokens\u001b[0m\u001b[1;33m=\u001b[0m\u001b[0madd_special_tokens\u001b[0m\u001b[1;33m,\u001b[0m\u001b[1;33m\u001b[0m\u001b[1;33m\u001b[0m\u001b[0m\n",
      "\u001b[1;31mKeyboardInterrupt\u001b[0m: "
     ]
    }
   ],
   "source": [
    "nvidia_df_1[\"caption_list_split_by_nvidia_10words_flairscores\"] = [\n",
    "    get_scores(x, flairPredict = True) for x in nvidia_df_1[\"caption_list_split_by_nvidia_10words\"]\n",
    "]\n",
    "\n",
    "nvidia_df_1[\"caption_list_split_by_nvidia_20words_flairscores\"] = [\n",
    "    get_avg(get_scores(x, flairPredict = True)) for x in nvidia_df_1[\"caption_list_split_by_nvidia_20words\"]\n",
    "]\n",
    "\n",
    "nvidia_df_1[\"caption_list_split_by_nvidia_35words_flairscores\"] = [\n",
    "    get_avg(get_scores(x, flairPredict = True)) for x in nvidia_df_1[\"caption_list_split_by_nvidia_35words\"]\n",
    "]"
   ]
  },
  {
   "cell_type": "code",
   "execution_count": null,
   "id": "awful-office",
   "metadata": {},
   "outputs": [],
   "source": [
    "#### Not needed anymore\n",
    "\n",
    "# nvidia_df_1[\"caption_list_split_by_nvidia_10words_flairAvgScore\"] = [\n",
    "#     get_avg(x) for x in nvidia_df_1[\"caption_list_split_by_nvidia_10words_flairscores\"]\n",
    "# ]\n",
    "\n",
    "# nvidia_df_1[\"caption_list_split_by_nvidia_20words_flairAvgScore\"] = [\n",
    "#     get_avg(x) for x in nvidia_df_1[\"caption_list_split_by_nvidia_20words_flairscores\"]\n",
    "# ]\n",
    "    \n",
    "# nvidia_df_1[\"caption_list_split_by_nvidia_35words_flairAvgScore\"] = [\n",
    "#     get_avg(x) for x in nvidia_df_1[\"caption_list_split_by_nvidia_35words_flairscores\"]\n",
    "# ]"
   ]
  },
  {
   "cell_type": "code",
   "execution_count": null,
   "id": "material-jamaica",
   "metadata": {},
   "outputs": [],
   "source": [
    "nvidia_df_1[\"caption_list_split_by_nvidia_10words_vaderscores\"] = [\n",
    "    get_avg(get_scores(x, vaderPredict = False)) for x in nvidia_df_1[\"caption_list_split_by_nvidia_10words\"]\n",
    "]\n",
    "\n",
    "# nvidia_df_1[\"caption_list_split_by_nvidia_10words_vaderAvgScore\"] = \n",
    "# [\n",
    "#     get_avg(x) for x in nvidia_df_1[\"caption_list_split_by_nvidia_10words_vaderscores\"]\n",
    "# ]\n",
    "\n",
    "nvidia_df_1[\"caption_list_split_by_nvidia_20words_vaderscores\"] = [\n",
    "    get_avg(get_scores(x, vaderPredict = False)) for x in nvidia_df_1[\"caption_list_split_by_nvidia_20words\"]\n",
    "]\n",
    "\n",
    "# nvidia_df_1[\"caption_list_split_by_nvidia_20words_vaderAvgScore\"] = \n",
    "# [\n",
    "#     get_avg(x) for x in nvidia_df_1[\"caption_list_split_by_nvidia_20words_vaderscores\"]\n",
    "# ]\n",
    "\n",
    "nvidia_df_1[\"caption_list_split_by_nvidia_35words_vaderscores\"] = [\n",
    "    get_avg(get_scores(x, vaderPredict = False)) for x in nvidia_df_1[\"caption_list_split_by_nvidia_35words\"]\n",
    "]\n",
    "\n",
    "# nvidia_df_1[\"caption_list_split_by_nvidia_35words_vaderAvgScore\"] = \n",
    "# [\n",
    "#     get_avg(x) for x in nvidia_df_1[\"caption_list_split_by_nvidia_35words_vaderscores\"]\n",
    "# ]"
   ]
  },
  {
   "cell_type": "code",
   "execution_count": null,
   "id": "looking-springfield",
   "metadata": {},
   "outputs": [],
   "source": [
    "nvidia_df_1[\"num_days_since_pub\"] = np.ceil(\n",
    "    (nvidia_df_1[\"searchedDate\"] - nvidia_df_1[\"datePub\"]) / np.timedelta64(1, \"D\")\n",
    ")\n",
    "nvidia_df_1[\"viewcounts_weighted\"] = (\n",
    "    nvidia_df_1[\"viewCount\"] / nvidia_df_1[\"num_days_since_pub\"]\n",
    ")\n",
    "nvidia_df_1[\"like_count_weighted\"] = (\n",
    "    nvidia_df_1[\"likeCount\"] / nvidia_df_1[\"num_days_since_pub\"]\n",
    ")\n",
    "nvidia_df_1[\"dislike_count_weighted\"] = (\n",
    "    nvidia_df_1[\"dislikeCount\"] / nvidia_df_1[\"num_days_since_pub\"]\n",
    ")\n",
    "nvidia_df_1[\"like_dislike_ratio\"] = nvidia_df_1[\"likeCount\"] / (\n",
    "    nvidia_df_1[\"likeCount\"] + nvidia_df_1[\"dislikeCount\"]\n",
    ")\n",
    "nvidia_df_1[\"weighted_like_dislike_ratio\"] = nvidia_df_1[\"like_count_weighted\"] / (\n",
    "    nvidia_df_1[\"like_count_weighted\"] + nvidia_df_1[\"dislike_count_weighted\"]\n",
    ")\n",
    "nvidia_df_1[\"like_dislike_ratio_by_viewcounts_weighted\"] = (\n",
    "    nvidia_df_1[\"like_dislike_ratio\"] * nvidia_df_1[\"viewcounts_weighted\"]\n",
    ")\n",
    "nvidia_df_1[\"Date\"] = pd.to_datetime(\n",
    "    nvidia_df_1[\"searchedDate\"], format=\"%Y-%m-%d\", utc=True\n",
    ").dt.date"
   ]
  },
  {
   "cell_type": "markdown",
   "id": "parental-algeria",
   "metadata": {},
   "source": [
    "### X_feautures_pre_merge"
   ]
  },
  {
   "cell_type": "code",
   "execution_count": null,
   "id": "theoretical-calgary",
   "metadata": {},
   "outputs": [],
   "source": [
    "X_feautures_pre_merge = nvidia_df_1.copy()\n",
    "\n",
    "# X_feautures_pre_merge[\"Date\"] = pd.to_datetime(\n",
    "#     X_feautures_pre_merge[\"Date\"], format=\"%Y-%m-%d\", utc=True\n",
    "# ).dt.date\n",
    "\n",
    "pre_nan_drop_X_feautures_pre_merge = X_feautures_pre_merge_1.groupby(pd.Grouper(key=\"searchedDate\", freq='H', offset = \"30min\")).mean()\n",
    "\n",
    "post_nan_drop_X_feautures_post_merge = pre_nan_drop_X_feautures_pre_merge [pre_nan_drop_X_feautures_pre_merge ['viewCount'].notna()]"
   ]
  },
  {
   "cell_type": "code",
   "execution_count": null,
   "id": "naval-messaging",
   "metadata": {},
   "outputs": [],
   "source": [
    "post_nan_drop_X_feautures_post_merge"
   ]
  },
  {
   "cell_type": "code",
   "execution_count": null,
   "id": "sublime-colonial",
   "metadata": {},
   "outputs": [],
   "source": [
    "post_nan_drop_X_feautures_post_merge.to_csv(\"../00_data/By_hour_feature_aggrigated_flairvader_06APR.gz\", compression = \"gzip\")"
   ]
  },
  {
   "cell_type": "markdown",
   "id": "polished-stream",
   "metadata": {},
   "source": [
    "### Plot number of vidoes per day"
   ]
  },
  {
   "cell_type": "code",
   "execution_count": null,
   "id": "fossil-hurricane",
   "metadata": {},
   "outputs": [],
   "source": [
    "nvidia_df_2 = nvidia_df_1.copy()\n",
    "nvidia_df_2[\"VideoTitle\"] = nvidia_df_2[\"VideoTitle\"].apply(clean)"
   ]
  },
  {
   "cell_type": "code",
   "execution_count": 8,
   "id": "administrative-beatles",
   "metadata": {},
   "outputs": [],
   "source": [
    "data_df = pd.to_datetime(\n",
    "    nvidia_df_2[\"searchedDate\"], format=\"%Y-%m-%d\", utc=True\n",
    ").dt.date"
   ]
  },
  {
   "cell_type": "code",
   "execution_count": 9,
   "id": "adjacent-carter",
   "metadata": {},
   "outputs": [
    {
     "data": {
      "text/plain": [
       "2020-10-26    335\n",
       "2020-11-20    325\n",
       "2020-10-29    309\n",
       "2020-10-07    300\n",
       "2021-02-19    300\n",
       "             ... \n",
       "2021-01-07     25\n",
       "2020-12-15     25\n",
       "2020-12-12     25\n",
       "2020-12-21     25\n",
       "2021-01-04     25\n",
       "Name: searchedDate, Length: 136, dtype: int64"
      ]
     },
     "execution_count": 9,
     "metadata": {},
     "output_type": "execute_result"
    }
   ],
   "source": [
    "data_df.value_counts()"
   ]
  },
  {
   "cell_type": "code",
   "execution_count": 10,
   "id": "apart-brief",
   "metadata": {},
   "outputs": [
    {
     "data": {
      "text/plain": [
       "str"
      ]
     },
     "execution_count": 10,
     "metadata": {},
     "output_type": "execute_result"
    }
   ],
   "source": [
    "type(nvidia_df[\"searchedDate\"][0])"
   ]
  },
  {
   "cell_type": "code",
   "execution_count": 11,
   "id": "organized-monroe",
   "metadata": {},
   "outputs": [
    {
     "data": {
      "image/png": "[encoded data removed]",
      "text/plain": [
       "<Figure size 1440x432 with 1 Axes>"
      ]
     },
     "metadata": {
      "needs_background": "light"
     },
     "output_type": "display_data"
    }
   ],
   "source": [
    "import matplotlib.pyplot as plt\n",
    "\n",
    "plt.figure(figsize=(20, 6))\n",
    "plt.hist(\n",
    "    (pd.to_datetime(nvidia_df_2[\"searchedDate\"], format=\"%Y-%m-%d\", utc=True).dt.date),\n",
    "    bins=118,\n",
    ")\n",
    "\n",
    "plt.show()"
   ]
  },
  {
   "cell_type": "code",
   "execution_count": null,
   "id": "infectious-combat",
   "metadata": {},
   "outputs": [],
   "source": []
  }
 ],
 "metadata": {
  "kernelspec": {
   "display_name": "Python 3",
   "language": "python",
   "name": "python3"
  },
  "language_info": {
   "codemirror_mode": {
    "name": "ipython",
    "version": 3
   },
   "file_extension": ".py",
   "mimetype": "text/x-python",
   "name": "python",
   "nbconvert_exporter": "python",
   "pygments_lexer": "ipython3",
   "version": "3.8.5"
  }
 },
 "nbformat": 4,
 "nbformat_minor": 5
}
