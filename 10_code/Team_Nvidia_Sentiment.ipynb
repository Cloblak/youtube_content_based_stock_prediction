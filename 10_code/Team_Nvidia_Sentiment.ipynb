{
 "cells": [
  {
   "cell_type": "code",
   "execution_count": 1,
   "metadata": {},
   "outputs": [],
   "source": [
    "%load_ext lab_black"
   ]
  },
  {
   "cell_type": "code",
   "execution_count": 1,
   "metadata": {},
   "outputs": [],
   "source": [
    "import pandas as pd\n",
    "from nltk import tokenize\n",
    "import boto3\n",
    "import botocore\n",
    "from datetime import datetime\n",
    "import matplotlib.pylab as plt\n",
    "import yfinance as yf\n",
    "import re\n",
    "import nltk\n",
    "from nltk.sentiment.vader import SentimentIntensityAnalyzer\n",
    "from nltk.corpus import stopwords\n",
    "from numba import jit, prange"
   ]
  },
  {
   "cell_type": "code",
   "execution_count": 2,
   "metadata": {},
   "outputs": [
    {
     "ename": "ModuleNotFoundError",
     "evalue": "No module named 'flair'",
     "output_type": "error",
     "traceback": [
      "\u001b[0;31m---------------------------------------------------------------------------\u001b[0m",
      "\u001b[0;31mModuleNotFoundError\u001b[0m                       Traceback (most recent call last)",
      "\u001b[0;32m<ipython-input-2-b6c85c9a6039>\u001b[0m in \u001b[0;36m<module>\u001b[0;34m\u001b[0m\n\u001b[1;32m      1\u001b[0m \u001b[0;31m# Load appropriate packages for sentiment analysis\u001b[0m\u001b[0;34m\u001b[0m\u001b[0;34m\u001b[0m\u001b[0;34m\u001b[0m\u001b[0m\n\u001b[0;32m----> 2\u001b[0;31m \u001b[0;32mfrom\u001b[0m \u001b[0mflair\u001b[0m\u001b[0;34m.\u001b[0m\u001b[0mmodels\u001b[0m \u001b[0;32mimport\u001b[0m \u001b[0mTextClassifier\u001b[0m\u001b[0;34m\u001b[0m\u001b[0;34m\u001b[0m\u001b[0m\n\u001b[0m\u001b[1;32m      3\u001b[0m \u001b[0;32mfrom\u001b[0m \u001b[0mflair\u001b[0m\u001b[0;34m.\u001b[0m\u001b[0mmodels\u001b[0m \u001b[0;32mimport\u001b[0m \u001b[0mSequenceTagger\u001b[0m\u001b[0;34m\u001b[0m\u001b[0;34m\u001b[0m\u001b[0m\n\u001b[1;32m      4\u001b[0m \u001b[0;32mfrom\u001b[0m \u001b[0mflair\u001b[0m\u001b[0;34m.\u001b[0m\u001b[0mdata\u001b[0m \u001b[0;32mimport\u001b[0m \u001b[0mSentence\u001b[0m\u001b[0;34m\u001b[0m\u001b[0;34m\u001b[0m\u001b[0m\n\u001b[1;32m      5\u001b[0m \u001b[0;32mfrom\u001b[0m \u001b[0msegtok\u001b[0m\u001b[0;34m.\u001b[0m\u001b[0msegmenter\u001b[0m \u001b[0;32mimport\u001b[0m \u001b[0msplit_single\u001b[0m\u001b[0;34m\u001b[0m\u001b[0;34m\u001b[0m\u001b[0m\n",
      "\u001b[0;31mModuleNotFoundError\u001b[0m: No module named 'flair'"
     ]
    }
   ],
   "source": [
    "# Load appropriate packages for sentiment analysis\n",
    "from flair.models import TextClassifier\n",
    "from flair.models import SequenceTagger\n",
    "from flair.data import Sentence\n",
    "from segtok.segmenter import split_single\n",
    "import pandas as pd\n",
    "import re\n",
    "\n",
    "\n",
    "classifier = TextClassifier.load(\"en-sentiment\")"
   ]
  },
  {
   "cell_type": "code",
   "execution_count": 2,
   "metadata": {},
   "outputs": [],
   "source": [
    "nvidia_cleaned_df = pd.read_csv(\"sentiment_test.gz\", compression=\"gzip\")"
   ]
  },
  {
   "cell_type": "code",
   "execution_count": 7,
   "metadata": {},
   "outputs": [
    {
     "data": {
      "text/plain": [
       "'2020-10-02 01:45:21.553469+00:00'"
      ]
     },
     "execution_count": 7,
     "metadata": {},
     "output_type": "execute_result"
    }
   ],
   "source": [
    "nvidia_cleaned_df.searchedDate.min()"
   ]
  },
  {
   "cell_type": "code",
   "execution_count": 8,
   "metadata": {},
   "outputs": [
    {
     "data": {
      "text/plain": [
       "'2021-02-20 21:30:42.127197+00:00'"
      ]
     },
     "execution_count": 8,
     "metadata": {},
     "output_type": "execute_result"
    }
   ],
   "source": [
    "nvidia_cleaned_df.searchedDate.max()"
   ]
  },
  {
   "cell_type": "code",
   "execution_count": 9,
   "metadata": {},
   "outputs": [
    {
     "data": {
      "text/plain": [
       "\"so this setup that you're seeing is what we had to do to get 3090s and sli functional this early in the game 3090 is an sli turns out not so simple to set up right now there's a number of various issues we ran into like the sli fingers on the cards not lining up it's not standardized so they're in slightly different places on different boards and not just vertically this time either but also horizontally on the board and also the limitations for sli these days are more strict than ever as nvidia has officially dropped sli support going forward and so now only things with explicit multi gpu support or mgpu support will actually run two cars and we had trouble running some of these games that don't technically require a bridge without a bridge we had the sli bridge in there in order to get it all working but it's there and we'll have some 30 90 sli benchmarks today for the highest performing possible gaming setup but one which is also not at all worth the money but we'll talk about that before that this video is brought to you by the team t-force cardea ceramic c440 m.2 ssd available in one terabyte and two terabyte capacities with pcie gen4 support for high transfer speeds team claims that its ssd can do sequential speeds up to 5 gigabytes per second read and 4.4 gigabytes per second right or 750 000 iops for random reads and writes team rates its ssd for 3 600 total terabytes written and the ceramic heat spreader directly conducts from the controller to help manage ssd temperatures under high loads learn more at the link in the description below so first of all if you're not aware the 3080s do not have sli support nvidia has continually generation after generation moved multi-gpu support at least via a bridge higher and higher up in its chain and now it's at the very top and what nvidia has itself called a titan-class card and not available in the flagship gaming cart nvidia also has publicly announced that it's moving away from sli support and supporting sli profiles as a first party and is putting all of that requirement onto the game developers if they want to support it which basically condemns it to death at this point if you like multi-gpu unfortunately but there's still functionality in vulkan and directx 12 games that have mgpu we'll read that list now it's pretty short so official support as stated by nvidia includes shadow of the tomb raider civ 6 sniper elite 4 gears of war 4 ashes strange brigade rise of the tomb raider zombie army hitman 1 deus ex battlefield 1 and halo wars 2. and then for vulcan it's red dead 2 quake 2 rtx ashes again strange brigade again and zombie army again now of course some of these games we've even heard of and so it's worth giving a shot at testing sli with these today we're going to be talking about the power consumption for the total system we'll talk about the two cards and the power consumption for that this is something that realistically you shouldn't be doing for gaming maybe it makes sense to get multiple 30 90s for some type of professional workload or for tile-based rendering but a lot of those instances you don't need a bridge like if you're doing tile-based rendering in blender a bridge doesn't help you they both render their own tile discreetly there's no interaction between the gpus that's worth speaking of there's no afr or anything like that so typically with with sli you'd be dealing with afr and you don't necessarily want to send stuff through the pcie bus but over time nvidia and amd both have moved more towards trying to leverage mgpu explicit multi-gpu communication through pcie it's just been really slow to pick up and over time it's actually enough decaying in adoption rather than increasing uh all right so we need to walk through the setup because it's absolutely insane and then we'll go through gaming numbers and through some power discussion as well so the ridiculous setup that we did for this is right here basically i have to get two test benches together next to each other because the sli fingers on the founder's edition card and the evga card are actually in different spots so if we move my memory fan here you'll see that on the board this is positioned much further towards the slot on the evga card than it is on the fe which means that it is not possible without risers to put these to an sli so at least on like these two cards you'll need like for like i think asus and msi might move them around a little bit too so really frustrating that that's not standardized but my solution was to run pcie risers so there's a riser in each slot they're running to this test bench and then they're mounted in this test bench's vertical supports for the evga card this one though since i couldn't align it like that i shoved a piece of cardboard under it to support it and then just positioned it horizontally how i needed to and i've got a couple of things like these clamps in place to support the cards for memory cooling because there's memory on remember the back of the card as well that's a major problem for this i put this i think i don't know if it's a 2000 or 3000 rpm for this 3000 rpm knock to a server fan on top of the cards blowing down so that's feeding air into the 30 90 ftw 3 for the gpu so that's fine this gpu is plenty cool because it's got a hideously configured water cooling setup on it remove these fans to show you and then the fans are cooling the vrm and the memory and it's it's at this point basically below what stock would be so the card despite looking like this is performing better than stock which means that in a the purest sense of uh like for like comparisons this obviously is not one because we're boosting the gpu a little higher by having this water block on it but they're ultimately going to be restricted to the slowest of the two cards anyway and you're talking a couple percent differences so it doesn't matter so this water block i secured we'll show this in a separate probably rip j video or something but i secured it by taking a nut and bolt and running it through a heat killer water block except the problem is there's no official mounting for this and i didn't have anything to actually brace against the block so i took some pcie slot covers and i cut them with metal snips and then i drilled a hole into the slot holes to make a bigger space for the nut and bolt to go through and then this one down here is actually an nzxt manta pci or rear i o whatever cover so that's how it's secured to the gpu and then like i said three fans for cooling memory and the vrm so those are completely fine this is hideous and terrible and everything but it works perfectly so that's an upside and then for water cooling i just hooked it up to a 240 rad we have this kind of floating in the office now it's a complete loop and it can just be hooked into any device on a whim so uh it's got two id cooling reject pastel pink fans on it i think these are a couple thousand rpm so they're they're actually pretty good for this and then we have a small pump and res uh alpha coil radiator it's one of the thicker radiators so it's not complete overkill but the the reason this is set up the way it is is because i was having even more difficulty lining these two cards up with the fe cooler on the 30 90 fe and so in order to get them line up really well uh it was just easier to take the whole thing apart and do this instead believe it or not that was actually in fact easier to do so then we kind of position this one in here like that that blows air in between the two cards gets the back side of the memory gets the vrm on the right side and then we're good for cooling in terms of the rest of the configuration so test bench is on this bench platform risers run to this bench platform and they're butted against each other so it takes a lot of space just for this and then for the fans i've got them plugged into this fan controller because they were some of the the stuff over here was too far away to reach that bench and we turn it all on it's very loud and very annoying and that's the system running and everything works and the sli bridge this fan is so dangerous the slide bridge is right there so uh you can see again that the the link's not aligned and so i had to do all this stuff just to align it now this is pcie gen 3 but that didn't really matter in our testing previously however it is a riser between those two things i'd expect maybe one to three percent offset for performance versus if it were slotted so we're going to see bigger differences though offset by having a water cooler on it end of the day we're within a couple percentage points of what it would be in a real world to set up if you could even do such a setup okay and then if we open gpu z on the system we do have two different gpus so down here you can see there are two and i've got one showing on each feed so like for example this one is reading 30 degrees celsius or so this one's reading about 24 i think that's the water cooled one this does not show memory or vrm temperatures but those are both fine we checked it externally and they're not even close to tj maxx so everything's working and then uh if you go into control panel for nvidia so this over here the control panel and configure sli has the maximize sli performance option it does not have this without the bridge and then it's got both cards detected and then for mgpu games we actually had issues getting them to work without a bridge because it just it wouldn't run both cards i don't know if that's an nvidia thing or what but it works now with the bridge connected so before we get into the game benchmarking i'm gonna run port royal port oil definitely works with this this is the application jay is doing the rip gn series with so we're going to respond with a rip j this content is not meant to respond to him it's an sli benchmark but i figure we'll just go ahead and get one of these benchmarks in while we have it all set up and give jay uh give give jay something to do so that's the end of the port royal run uh 26 0257 i think jay's current score is like i don't know 14 500 or something so jay off to you i guess i'll probably respond with a single card anyway and do some more extreme overclocking with it but for now this is this is not even overclocked i've not touched precision haven't done anything we just plugged the cards in and ran them so this is like as i was about to say zero after overclock but you saw the bench so maybe not quite zero but i haven't done any actual uh effort on it so it's a pretty good starting point all right that's enough of that let's get into the gaming benchmarks we'll start with the one with the most exciting of the games but the least exciting as a game strange brigade is one of the better optimized games out there and also supports explicit multi gpu and it's also extremely popular with an average of 33 players at any point in all of august there are nearly as many players in strange brigade as linus has employees so we know that this game is well loved by gamers in the community starting with 4k and vulcan the rtx 3090 sli configuration ran 363 fps average with lows also scaling well we didn't have any micro stutter issues and measured 243 and 233 fps for the lows that's an improvement of 93 percent over the 30 90 fe stock card bearing in mind that we've also improved the cooling of the 30 90 fe and so we'll gain maybe one to three percent performance from those changes either way though north of 90 is good scaling and that's what has made sli so appealing for enthusiasts in the past but this game is an exception not the norm and nvidia's abandonment of sli profiles going forward only further reduces the chance of this being worthwhile ever at 1440p the chart scale had to be adjusted yet again sorry that these are even less legible than normally but having one item at 472 fps average blows out the scale this is versus a single rtx 3090 where the improvement is about 70 percent we started to become bound by other factors towards the top end of that scale but it's still better scaling than we've seen in a lot of games previously lows aren't improving proportionately to the average but we also aren't seeing micro stuttering or game breaking issues at 1080p it's clear that we're bottlenecked by the cpu we already mostly were but now it's evident in the very least this proves to us that this particular application has a lot more room for a single card bench marking we'll quickly look at dx12 for strange brigade as well at 4k we ran 319 fps average here so the frame rate is lower than with vulkan but the scaling is technically better with dx12 performance climbed by 98 over the single 30-90 fe stock car at 1440p frame rate was 390 fps average so that's a 41 uplift we're bouncing off the cpu limit again which we saw in 1080p testing but it's not worth showing another bottleneck strange brigade chart so let's move on to a game people have actually played red dead redemption 2 is next starting with vulcan for this one the rtx 3090 sli configuration had about 50 uplift at 155 fps average versus 104 fps average for a single card configuration we did not observe any micro stutter or other afr issues during our test passes the uplift isn't anywhere near what strange brigade was offering with its 98 uplift but it's something it's there is something there fifty percent for an extra fifteen hundred dollars though is hard to really care about especially considering nvidia is putting future sli support on game developers so it's basically doomed anyway at 1440p the 3090 sli configuration maxes out at 175 fps average just a 17 uplift over the single card we're becoming bound here we won't bother with 1080p for the same reasons as before because they were equal due to the bottlenecking and just as a notice sli for these cards does not work in red dead with directx 12. in this chart that's clear the cards are even and the sli config technically dropped a few frames occasionally from other potential issues in the test setup but we can't imagine what those might possibly be considering how sound the setup was hitman is apparently supported but hitman 2 does not seem to be supported the sli and non-sli performance was about the same so there's no scaling to speak of and we'll have to move along from this one and express our great disappointment in lengthy pros at another time that we can't play hitman 2 with sli for shadow of the tomb raider testing positioned the sli rtx 3090 is at 167 fps average with lows also getting uplifted from the second card improvement versus a single card was about 60 percent here and for future reference we've observed a cpu limitation of this game as becoming imposed around the 180 fps marker so there's still some room to scale on the cpu sli improvement is just limited overall for this title although it gets credit for at least being present it certainly isn't worth 1500 for a second card though at 1440p the scaling dies and performance stops increasing maybe this is the scenario where nvidia's fabled single card 8k gaming could actually be a reality except for the part where it takes two cards but this is starting to look like almost everything except 4k and higher would be limited by an sli 3090 setup to really no one's surprise it's just again the limited list of games and the lack of future official support from nvidia on sli makes it tough to justify for things outside of workstation applications quake 2 rtx is last this is on vulcan and is fully path traced making it an interesting title for determining performance scaling from the new rt cores but we talked about that in the review previously at 4k the frame rate ran 67 fps average an improvement of 70.5 percent over the rtx 3090 single card but with no improvement in the 0.1 lows this isn't as much scaling as we've seen elsewhere but it's still better than tomb raider and red dead we didn't visually see any severe micro stuttering but the lows are also not anywhere near where we'd like to see them for this title 1440p had the sli configuration at 137 fps average with 0.1 lows dipping below the single cart that's a 62 percent improvement over one card at 1440p finally at 1080p we saw a 216 fps average with lows below the single card level once again 216 has the sli configuration about 53 percent over the single card if you want to revive a competitive quake career but with rtx enabled this would help do it so for power consumption we didn't make new charts for this but we'll pop up one of the firmware charts from our 30 90 review and you can see single card power consumption here multi-card is just gonna scale linearly because this is only one card this number does not show total system power draw so you can just increase this uh exactly linearly multiply it for how many cards you have assuming all are under the same workload it will scale so if you have a 500 watt draw or a 400 watt drive it'll be a thousand or 800 watts for just the cards for total system power consumption just for fun we tested that system that now needs two test benches to run and total system was 360 watts idle and uh and uh it was 941 watts total system under a port royal load so that bench is not our competitive overclocking bench it's only uh only in air quotes here 10 700 k it's at 5.1 gigahertz that's fine for gpu reviews the reason we use a 107 is because we don't need it for other things but for competitive overclocking we use a 109kf or something like that so your power consumption may go up in a scenario like that but uh just shy of a thousand watts is quite a high power consumption and most of that's gpu because that was in a port royal workload so that's it for the test and obviously this was done because we could because it's interesting it's fun interesting to see how the stuff scales unfortunately multi gpu is all but dead at this point and there's a lot of appeal to it even nvidia and amd can see appeal because they sell more cards to the same people even if you're able to beat the higher end card with two lower end ones but uh the the support is just lacking and supporting games and drivers has been questionable at best a lot of times the best support has come through community-made profiles and then i mean it's not not a great system to have to rely on community for stuff like that so it was an interesting test but this is not a configuration we'd recommend obviously for gaming so you're limited to that list of games we read earlier and that's about it nvidia has the official list on its website if you're curious again a lot of these games if not all of them a good amount of them should work through the pcie slot we were having trouble getting that working for some reason not really sure why but with the bridge it did work and we were able to enable sli and run it in the games as expected so strange brigade 100 scaling is pretty pretty neat 98 with dx12 93 or so with vulcan but that's about the best we saw so that's it for this one thanks for watching subscribe for more you can get a store.camerasaccess.net or patreon.com gamersnexus help us out directly and we'll see you all next time \""
      ]
     },
     "execution_count": 9,
     "metadata": {},
     "output_type": "execute_result"
    }
   ],
   "source": [
    "nvidia_cleaned_df.loc[0,'captionString']"
   ]
  },
  {
   "cell_type": "code",
   "execution_count": 13,
   "metadata": {},
   "outputs": [
    {
     "name": "stdout",
     "output_type": "stream",
     "text": [
      "['so', 'this', 'setup', 'that', 'you', 'seeing', 'is', 'what', 'we', 'had', 'to', 'do', 'to', 'get', 'and', 'sli', 'functional', 'this', 'early', 'in', 'the', 'game', 'is', 'an', 'sli', 'turns', 'out', 'not', 'so', 'simple', 'to', 'set', 'up', 'right', 'now', 'there', 'a', 'number', 'of', 'various', 'issues', 'we', 'ran', 'into', 'like', 'the', 'sli', 'fingers', 'on', 'the', 'cards', 'not', 'lining', 'up', 'it', 'not', 'standardized', 'so', 'they', 'in', 'slightly', 'different', 'places', 'on', 'different', 'boards', 'and', 'not', 'just', 'vertically', 'this', 'time', 'either', 'but', 'also', 'horizontally', 'on', 'the', 'board', 'and', 'also', 'the', 'limitations', 'for', 'sli', 'these', 'days', 'are', 'more', 'strict', 'than', 'ever', 'as', 'nvidia', 'has', 'officially', 'dropped', 'sli', 'support', 'going']\n"
     ]
    }
   ],
   "source": [
    "# split into words\n",
    "from nltk.tokenize import word_tokenize\n",
    "tokens = word_tokenize(nvidia_cleaned_df.loc[0,'captionString'])\n",
    "# remove all tokens that are not alphabetic\n",
    "words = [word for word in tokens if word.isalpha()]\n",
    "print(words[:100])"
   ]
  },
  {
   "cell_type": "code",
   "execution_count": 14,
   "metadata": {},
   "outputs": [
    {
     "name": "stdout",
     "output_type": "stream",
     "text": [
      "['setup', 'seeing', 'get', 'sli', 'functional', 'early', 'game', 'sli', 'turns', 'simple', 'set', 'right', 'number', 'various', 'issues', 'ran', 'like', 'sli', 'fingers', 'cards', 'lining', 'standardized', 'slightly', 'different', 'places', 'different', 'boards', 'vertically', 'time', 'either', 'also', 'horizontally', 'board', 'also', 'limitations', 'sli', 'days', 'strict', 'ever', 'nvidia', 'officially', 'dropped', 'sli', 'support', 'going', 'forward', 'things', 'explicit', 'multi', 'gpu', 'support', 'mgpu', 'support', 'actually', 'run', 'two', 'cars', 'trouble', 'running', 'games', 'nt', 'technically', 'require', 'bridge', 'without', 'bridge', 'sli', 'bridge', 'order', 'get', 'working', 'sli', 'benchmarks', 'today', 'highest', 'performing', 'possible', 'gaming', 'setup', 'one', 'also', 'worth', 'money', 'talk', 'video', 'brought', 'team', 'tforce', 'cardea', 'ceramic', 'ssd', 'available', 'one', 'terabyte', 'two', 'terabyte', 'capacities', 'pcie', 'support', 'high']\n"
     ]
    }
   ],
   "source": [
    "# remove punctuation from each word\n",
    "import string\n",
    "table = str.maketrans('', '', string.punctuation)\n",
    "stripped = [w.translate(table) for w in tokens]\n",
    "# remove remaining tokens that are not alphabetic\n",
    "words = [word for word in stripped if word.isalpha()]\n",
    "# filter out stop words\n",
    "from nltk.corpus import stopwords\n",
    "stop_words = set(stopwords.words('english'))\n",
    "words = [w for w in words if not w in stop_words]\n",
    "print(words[:100])"
   ]
  },
  {
   "cell_type": "code",
   "execution_count": 19,
   "metadata": {},
   "outputs": [
    {
     "name": "stdout",
     "output_type": "stream",
     "text": [
      "['setup', 'see', 'get', 'sli', 'function', 'earli', 'game', 'sli', 'turn', 'simpl', 'set', 'right', 'number', 'variou', 'issu', 'ran', 'like', 'sli', 'finger', 'card', 'line', 'standard', 'slightli', 'differ', 'place', 'differ', 'board', 'vertic', 'time', 'either', 'also', 'horizont', 'board', 'also', 'limit', 'sli', 'day', 'strict', 'ever', 'nvidia', 'offici', 'drop', 'sli', 'support', 'go', 'forward', 'thing', 'explicit', 'multi', 'gpu', 'support', 'mgpu', 'support', 'actual', 'run', 'two', 'car', 'troubl', 'run', 'game', 'nt', 'technic', 'requir', 'bridg', 'without', 'bridg', 'sli', 'bridg', 'order', 'get', 'work', 'sli', 'benchmark', 'today', 'highest', 'perform', 'possibl', 'game', 'setup', 'one', 'also', 'worth', 'money', 'talk', 'video', 'brought', 'team', 'tforc', 'cardea', 'ceram', 'ssd', 'avail', 'one', 'terabyt', 'two', 'terabyt', 'capac', 'pcie', 'support', 'high', 'transfer', 'speed', 'team', 'claim', 'ssd', 'sequenti', 'speed', 'gigabyt', 'per', 'second', 'read', 'gigabyt', 'per', 'second', 'right', 'iop', 'random', 'read', 'write', 'team', 'rate', 'ssd', 'total', 'terabyt', 'written', 'ceram', 'heat', 'spreader', 'directli', 'conduct', 'control', 'help', 'manag', 'ssd', 'temperatur', 'high', 'load', 'learn', 'link', 'descript', 'first', 'awar', 'sli', 'support', 'nvidia', 'continu', 'gener', 'gener', 'move', 'multigpu', 'support', 'least', 'via', 'bridg', 'higher', 'higher', 'chain', 'top', 'nvidia', 'call', 'titanclass', 'card', 'avail', 'flagship', 'game', 'cart', 'nvidia', 'also', 'publicli', 'announc', 'move', 'away', 'sli', 'support', 'support', 'sli', 'profil', 'first', 'parti', 'put', 'requir', 'onto', 'game', 'develop', 'want', 'support', 'basic', 'condemn', 'death', 'point', 'like', 'multigpu', 'unfortun', 'still', 'function', 'vulkan', 'directx', 'game', 'mgpu', 'read']\n"
     ]
    }
   ],
   "source": [
    "from nltk.stem.porter import PorterStemmer\n",
    "porter = PorterStemmer()\n",
    "stemmed = [porter.stem(word) for word in words]\n",
    "print(stemmed[:200])"
   ]
  },
  {
   "cell_type": "markdown",
   "metadata": {},
   "source": [
    "Vader Sentiment"
   ]
  },
  {
   "cell_type": "code",
   "execution_count": 6,
   "metadata": {},
   "outputs": [],
   "source": [
    "# load vader sentiment for comparing the uncleaned strings to the modified ones\n",
    "from nltk.sentiment.vader import SentimentIntensityAnalyzer\n",
    "\n",
    "sid = SentimentIntensityAnalyzer()"
   ]
  },
  {
   "cell_type": "code",
   "execution_count": 29,
   "metadata": {},
   "outputs": [
    {
     "data": {
      "text/plain": [
       "Index(['Unnamed: 0', 'Index', 'videoID', 'datePub', 'searchedDate',\n",
       "       'VideoTitle', 'channelTitle', 'viewCount', 'likeCount', 'dislikeCount',\n",
       "       'captionString'],\n",
       "      dtype='object')"
      ]
     },
     "execution_count": 29,
     "metadata": {},
     "output_type": "execute_result"
    }
   ],
   "source": [
    "nvidia_cleaned_df.columns"
   ]
  },
  {
   "cell_type": "code",
   "execution_count": 33,
   "metadata": {},
   "outputs": [
    {
     "name": "stdout",
     "output_type": "stream",
     "text": [
      "Title to score = (clapboard sounds) - Did you guys just seethe same thing I did? RTX 3070 is gonna outperform a 2080Ti at less than half the price, 499. Is Nvidia insane. I mean, even with all of the leaks indicating that Ampere wasgonna be super powerful, I was in no way ready for this, so okay. (sighs) Deep breath, there's alot to get through here, so let's get started. After an F in the chat forany recent 2080Ti buyers. (giggles) Ouch, like dang. Oh and also our sponsor. Ridge Wallet wants to redefine the wallet with its compact frameand RFID blocking plates. Check out how they can helpkeep your wallet bulge down and use our offer code Linus to save 10% and getfree worldwide shipping. (upbeat music) Now, obviously I'm notready to hand Nvidia their crown until we seethe new cards for ourselves. But based on what they've shown, we are in for one heck of a ride. They announced well a lot andwe're gonna get to all of it, but the big one is, Ampere is real and Ampere is an absolute monster. As it turns out, the recentleaks were accurate in many if not most ways. Where Turing based RTX 2000GPUs were manufactured on TSMC's 12 nanometer FinFET process, which was actually derived fromtheir 16 nanometer process, Nvidia instead partnered with Samsung on a custom eight nanometerprocess for the RTX 3000 series. And the difference hereis much bigger than we got moving from Pascal to Turing. Here's the thing, forover three years now, G-Force GPUs have had in the neighborhood of 20 to 25 million transistorsper square millimeter, Ampere around 60 millionper square millimeter, that's over double, and breaking with what'sbecome their habit lately, they didn't just usethis increase in density to lower their own costs and keep selling a similar performance with some new features tacked on. The RTX 3080 boasts over 28 billion that's with a B transistors. What does that get us? Well for starters, PCI Express Gen 4, upgraded Tensor cores and Oh, and casually more thandouble the CUDA cores across the board. And here's the kicker, that'snot compared to the cards that each of the 3000 series GPU replaces, that's compared to theprevious generations step up. I'm not kidding, onpaper every Ampere card that was announced, even the3070 is faster than a 2080Ti. To find the last time that this happened, a third rundown GPU being faster than the previous flagship, I had to dig pretty deepthrough the archives. Here's a review fromAnandTech showing the 6600 GT beating the FX 5950. That was in 2004. And according to Nvidiathings are even better than they seem. They claim we are getting a1.9 times performance per watt improvement, 2.7 timesthe Shader performance, 1.7 times the Ray Tracing performance and 2.7 times the Tensor core performance, which in the real world translates to, sorry, you'll have togive me a second here. One metric, but ton. Nvidia showed another Marbless, fully Ray Traced graphics demo, but while Turing rendered at 720p (disgust) Ampere managed to get 1440pwith more sim complexity, that's huge and while to be fair, they had a little help from DLSS and from a new learningalgorithm that derives missing color data froman incomplete image to improve performance, optimizations as a concept are nothing new and the results here speak for themselves. Nvidia also got a newmemory signaling technique, which carries fourpossible values per cycle compared to only two, effectively doubling theamount of memory bandwidth while also increasing thefrequency significantly. So with the RTX 3080, you're gonna get 10 gigsand it's gonna run 320 Watts of rated power with theRTX 3070 getting 8 gigs of a more traditionalGDDR6 at a mere 220 Watts. Put that in context, a2080Ti was only 250 Watts. (exclaims) And Nvidia claims that that RTX 3070, even though it consumesless power is faster than the $1,200 2080Tiwith the new RTX 3080 doubling the performance of the 2080, and this is that 499 and 699 respectively. There's nothing else I can say. I'm absolutely mind blown. They even light up. But the question is, why? Why after all these yearsof driving GPU prices up has Nvidia decided to bestow upon us these benevolent prices. We've got a couple of theories. One is that RTX 2080 and 2070 sales were something of a disappointment. I mean, it's not thatthey were terrible cards, they just weren't avery compelling upgrade for anyone who already owneda high end 1000 series. So looking back then inwhatever the past version of a crystal ball is, it seems like Nvidia priced Turing high due to uncertain yields with TSMC, and then hoped that RTX Ray Tracing would be enough to carryit to the new price point. So then now, because Samsunghas worked with Nvidia to make this customeight nanometer process, presumably it's more reliable, which means that despitethe cost per wafer, almost certainly beinghigher as they tend to be as we keep shrinking the process lower, they're getting moreusable chips out of them working out to a much lower cost, which is great for consumers. I think it's fair to saythat this is shaping up to be an absolute unicorn of a GPU release. Make sure you guys aresubscribed by the way, so you don't miss our review. And there's also anotherangle to the pricing. With launch date set for theend of Q3 and beginning of Q4, it's pretty clear who Nvidiasees as the real competition for 3000 series. And it's not AMD, or atleast not directly anyway. It's Sony and Microsoftwith the Xbox Series X and PlayStation 5. And by getting outahead of those launches, Nvidia seems to be trying tosteal some of the thunder, hopefully preventing gamersfrom being lured away from PC, where Nvidia dominates overto consoles where they will, I don't know, I guessthere's Nintendo Switch. One big hand here, isthat just like the PS5, the RTX 3000 GPUs have theability to decompress data directly from an SSDattached to the system using direct storage. This means load times can be much shorter and the CPU doesn't need toget bogged down decompressing the gigantic assets thatmake up today's game worlds. Just like on the PlayStation 5 then, developers who leverage this technology can achieve more seamless loading and Asset Streaming thanwas previously possible. It also means that NVMEand even PCI Express Gen 4 might actually become useful for gamers where load times are notoriously CPU bound in spite of the storagespeed of modern systems. Nvidia is also hyper-focusedon content creation here, looking to lure streamersand Machinima enthusiasts with Nvidia Broadcast andNvidia Omniverse Machinima. Nvidia Broadcast includesa number of tools to apply effects to the microphone input, camera and speakers using Tensor cores in what looks like a continuationof what RTX boy started. So in addition to the noiseremoval that was possible before we can now without a green screen, automatically remove backgroundsand apply a blur effect or backdrop and more with whatlooks like very convincing effect compared to current solutions. Nvidia OmniverseMachinima or NOM, I guess, wash it down with a drinkwith our water bottle from lttstore.com. Okay. NOM, lets you importgame libraries and tools, apply materials, physics simulations, poses captured from webcams, automatic facial animationsfrom recorded audio and more to create a wholly unique scene for doing your own Machinima. It's kind of like Ansel, except that you get fullcontrol over the scene instead of just the camera. They provided a prettygreat looking example of a short clip of a siege to give us an idea ofwhat can be accomplished and quite frankly, I wouldn't be surprised ifdevelopers or even animators end up drafting scenesthis way, it's pretty cool. So then RTX 3000 muchless of a middle finger directly to Radeon Technologies Group and much more of a middlefinger to the consoles. Which isn't to say though, that Nvidia hasn't donesome extra credit work against RTG as well. Do you remember Radeon Anti-Lag and how Nvidia originally claimed that it was just a tweak that users could already do to their drivers, and then realized, oops,it's actually something more and then they releasedNvidia Ultra-Low Latency. Well now, they'reputting the cherry on top with what they're calling Nvidia Reflex, a driver path optimization technique that should be available toall GTX 1000 and newer users to reduce total systemlatency by up to roughly half. Now the exact mechanisms thatthey're exploiting to do this are currently unknown, but presumably there's acost of some sort somewhere and you'll probably lose abit of driver level control in the process. Finally, there's the one more thing. RTX 3090 is the formal nameof this generation's Titan. But Jensen lovingly referredto it as the BF GPU. It sucks back a rated 350 Watts, hence the fancy new 12pin power connector, has over 10,000 CUDA coresand 24 gigs of GDDR6X memory and comes in at 1499. Meaning it's certainlypriced like a Titan, but unlike the last coupleof generations of Titans, it also appears to be specked like a Titan and it might even be worththat obscene price tag. They rolled out an LG8K OLED TV to game on and demonstrated 8K 60 FPSgameplay using DLSS and RTX. Not only did the beefed up Tensor cores appear to handle 8K upscalingwithout breaking a sweat, the RTX 3090 can apparentlyeven record 8K HDR gameplay with Shadowplay. In fact, there's bits andpieces in the whole presentation that allude to upgrades across the board. AV1 codex support fordecode is now available and NVENC is presumably no different on the rest of the NPR cards,making 4K HDR Shadowplay a thing now. To go with it, it looks likewe're finally getting HDMI 2.1 and probably more, but we can figure all ofthat out in our review, for now all that's left to say is, \"Boy is it ever good to see the effects of more competition in thegaming hardware space?\" Even if it came from a bitof an unexpected direction. Unlike my sponsor Segways you guys always expect those, this time for FreshBooks. FreshBooks is the small businesscloud accounting solution that's built for owners. With FreshBooks you can work anywhere thanks to their mobile app, allowing you to createprofessional looking invoices in seconds on the go, snappictures of your receipts so you don't lose themand this is new on iOS, even automatically track your mileage so you can be organized and ready to maximize yourdeductions when tax time comes. With FreshBooks, you'llnever miss an update when a client has viewed your invoice or even when it becomesoverdue, it'll let you know, and you can get 50% offyour first three months of FreshBooks when yousign up for a paid plan at freshbooks.com/techtips. If you guys enjoyed this video and you'd like a bit of a refresher on what a bad GPU launch looks like, maybe go check out ourreview of the RTX 2080. It seems like Nvidia has learneda thing or two since then. (upbeat electric music) Or maybe check out our 8K gaming video. That was terrible. That's gonna be way better now. \n",
      "{'neg': 0.037, 'neu': 0.846, 'pos': 0.117, 'compound': 0.9994}\n"
     ]
    }
   ],
   "source": [
    "print(f'Title to score = {nvidia_cleaned_df[\"captionString\"][5]}')\n",
    "score = sid.polarity_scores(str(nvidia_cleaned_df[\"captionString\"][5]))\n",
    "print(score)"
   ]
  },
  {
   "cell_type": "code",
   "execution_count": 52,
   "metadata": {},
   "outputs": [
    {
     "name": "stdout",
     "output_type": "stream",
     "text": [
      "[['I', 'm', 'notready', 'to', 'hand', 'Nvidia', 'their', 'crown', 'until', 'we', 'seethe']]\n"
     ]
    }
   ],
   "source": [
    "# utilize regular expressions to split large stings into sentences that are centered around the key words\n",
    "import re\n",
    "\n",
    "text = \" allet wants to redefine the wallet with its compact frameand RFID blocking plates. Check out how they can helpkeep your wallet bulge down and use our offer code Linus to save 10% and getfree worldwide shipping. (upbeat music) Now, obviously I'm notready to hand Nvidia their crown until we seethe new cards for ourselves. But based on what they've shown, we are in for one heck of a ride. They announced well a lot andwe're gonna get to all of it, but the big one is, Ampere is real and Ampere is an absolute monster. As it turns out, the recentleaks were accurate in many if not most ways.\"\n",
    "\n",
    "\n",
    "def search(target, text, context=6):\n",
    "    # It's easier to use re.findall to split the string,\n",
    "    # as we get rid of the punctuation\n",
    "    words = re.findall(r\"\\w+\", text)\n",
    "\n",
    "    matches = (i for (i, w) in enumerate(words) if w.lower() == target)\n",
    "    for index in matches:\n",
    "        if index < context // 2:\n",
    "            yield words[0 : context + 1]\n",
    "        elif index > len(words) - context // 2 - 1:\n",
    "            yield words[-(context + 1) :]\n",
    "        else:\n",
    "            yield words[index - context // 2 : index + context // 2 + 1]\n",
    "\n",
    "\n",
    "print(list(search(\"nvidia\", text, 10)))"
   ]
  },
  {
   "cell_type": "code",
   "execution_count": 53,
   "metadata": {},
   "outputs": [
    {
     "data": {
      "text/plain": [
       "<generator object search at 0x00000201143A05C8>"
      ]
     },
     "execution_count": 53,
     "metadata": {},
     "output_type": "execute_result"
    }
   ],
   "source": [
    "search(\"nvidia\", text, 15)"
   ]
  },
  {
   "cell_type": "code",
   "execution_count": 59,
   "metadata": {},
   "outputs": [
    {
     "data": {
      "text/plain": [
       "[['save',\n",
       "  '10',\n",
       "  'and',\n",
       "  'getfree',\n",
       "  'worldwide',\n",
       "  'shipping',\n",
       "  'upbeat',\n",
       "  'music',\n",
       "  'Now',\n",
       "  'obviously',\n",
       "  'I',\n",
       "  'm',\n",
       "  'notready',\n",
       "  'to',\n",
       "  'hand',\n",
       "  'Nvidia',\n",
       "  'their',\n",
       "  'crown',\n",
       "  'until',\n",
       "  'we',\n",
       "  'seethe',\n",
       "  'new',\n",
       "  'cards',\n",
       "  'for',\n",
       "  'ourselves',\n",
       "  'But',\n",
       "  'based',\n",
       "  'on',\n",
       "  'what',\n",
       "  'they',\n",
       "  've']]"
      ]
     },
     "execution_count": 59,
     "metadata": {},
     "output_type": "execute_result"
    }
   ],
   "source": [
    "test_list_to_str = list(search(\"nvidia\", text, 30))\n",
    "test_list_to_str"
   ]
  },
  {
   "cell_type": "code",
   "execution_count": 60,
   "metadata": {},
   "outputs": [],
   "source": [
    "new_str = \" \".join(test_list_to_str[0])"
   ]
  },
  {
   "cell_type": "code",
   "execution_count": 61,
   "metadata": {},
   "outputs": [
    {
     "name": "stdout",
     "output_type": "stream",
     "text": [
      "{'neg': 0.0, 'neu': 0.808, 'pos': 0.192, 'compound': 0.7506}\n"
     ]
    }
   ],
   "source": [
    "score = sid.polarity_scores(new_str)\n",
    "print(score)"
   ]
  },
  {
   "cell_type": "markdown",
   "metadata": {},
   "source": [
    "### Flair Sentiment"
   ]
  },
  {
   "cell_type": "code",
   "execution_count": 64,
   "metadata": {},
   "outputs": [
    {
     "name": "stdout",
     "output_type": "stream",
     "text": [
      "2021-03-02 20:27:50,602 loading file C:\\Users\\Chris\\.flair\\models\\sentiment-en-mix-distillbert_3.1.pt\n",
      "Sentence above is:  [POSITIVE (0.8555)]\n"
     ]
    }
   ],
   "source": [
    "from flair.models import TextClassifier\n",
    "from flair.data import Sentence\n",
    "\n",
    "classifier = TextClassifier.load(\"en-sentiment\")\n",
    "sentence = Sentence(new_str)\n",
    "classifier.predict(sentence)\n",
    "# print sentence with predicted labels\n",
    "print(\"Sentence above is: \", sentence.labels)"
   ]
  },
  {
   "cell_type": "code",
   "execution_count": null,
   "metadata": {},
   "outputs": [],
   "source": []
  }
 ],
 "metadata": {
  "kernelspec": {
   "display_name": "Python 3",
   "language": "python",
   "name": "python3"
  },
  "language_info": {
   "codemirror_mode": {
    "name": "ipython",
    "version": 3
   },
   "file_extension": ".py",
   "mimetype": "text/x-python",
   "name": "python",
   "nbconvert_exporter": "python",
   "pygments_lexer": "ipython3",
   "version": "3.7.3"
  }
 },
 "nbformat": 4,
 "nbformat_minor": 4
}
