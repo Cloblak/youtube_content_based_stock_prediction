{
 "cells": [
  {
   "cell_type": "code",
   "execution_count": 1,
   "metadata": {},
   "outputs": [],
   "source": [
    "%load_ext lab_black"
   ]
  },
  {
   "cell_type": "code",
   "execution_count": 2,
   "metadata": {},
   "outputs": [],
   "source": [
    "import pandas as pd\n",
    "from nltk import tokenize\n",
    "import boto3\n",
    "import botocore\n",
    "from datetime import datetime\n",
    "import matplotlib.pylab as plt\n",
    "import yfinance as yf\n",
    "import re\n",
    "import nltk\n",
    "from nltk.sentiment.vader import SentimentIntensityAnalyzer\n",
    "from nltk.corpus import stopwords\n",
    "from numba import jit, prange"
   ]
  },
  {
   "cell_type": "code",
   "execution_count": 3,
   "metadata": {},
   "outputs": [
    {
     "name": "stdout",
     "output_type": "stream",
     "text": [
      "2021-03-02 20:11:55,065 loading file C:\\Users\\Chris\\.flair\\models\\sentiment-en-mix-distillbert_3.1.pt\n"
     ]
    }
   ],
   "source": [
    "# Load appropriate packages for sentiment analysis\n",
    "from flair.models import TextClassifier\n",
    "from flair.models import SequenceTagger\n",
    "from flair.data import Sentence\n",
    "from segtok.segmenter import split_single\n",
    "import pandas as pd\n",
    "import re\n",
    "\n",
    "\n",
    "classifier = TextClassifier.load(\"en-sentiment\")"
   ]
  },
  {
   "cell_type": "code",
   "execution_count": 5,
   "metadata": {},
   "outputs": [],
   "source": [
    "nvidia_cleaned_df = pd.read_csv(\"../00_data/sentiment_test.gz\", compression=\"gzip\")"
   ]
  },
  {
   "cell_type": "markdown",
   "metadata": {},
   "source": [
    "Vader Sentiment"
   ]
  },
  {
   "cell_type": "code",
   "execution_count": 6,
   "metadata": {},
   "outputs": [],
   "source": [
    "# load vader sentiment for comparing the uncleaned strings to the modified ones\n",
    "from nltk.sentiment.vader import SentimentIntensityAnalyzer\n",
    "\n",
    "sid = SentimentIntensityAnalyzer()"
   ]
  },
  {
   "cell_type": "code",
   "execution_count": 29,
   "metadata": {},
   "outputs": [
    {
     "data": {
      "text/plain": [
       "Index(['Unnamed: 0', 'Index', 'videoID', 'datePub', 'searchedDate',\n",
       "       'VideoTitle', 'channelTitle', 'viewCount', 'likeCount', 'dislikeCount',\n",
       "       'captionString'],\n",
       "      dtype='object')"
      ]
     },
     "execution_count": 29,
     "metadata": {},
     "output_type": "execute_result"
    }
   ],
   "source": [
    "nvidia_cleaned_df.columns"
   ]
  },
  {
   "cell_type": "code",
   "execution_count": 33,
   "metadata": {},
   "outputs": [
    {
     "name": "stdout",
     "output_type": "stream",
     "text": [
      "Title to score = (clapboard sounds) - Did you guys just seethe same thing I did? RTX 3070 is gonna outperform a 2080Ti at less than half the price, 499. Is Nvidia insane. I mean, even with all of the leaks indicating that Ampere wasgonna be super powerful, I was in no way ready for this, so okay. (sighs) Deep breath, there's alot to get through here, so let's get started. After an F in the chat forany recent 2080Ti buyers. (giggles) Ouch, like dang. Oh and also our sponsor. Ridge Wallet wants to redefine the wallet with its compact frameand RFID blocking plates. Check out how they can helpkeep your wallet bulge down and use our offer code Linus to save 10% and getfree worldwide shipping. (upbeat music) Now, obviously I'm notready to hand Nvidia their crown until we seethe new cards for ourselves. But based on what they've shown, we are in for one heck of a ride. They announced well a lot andwe're gonna get to all of it, but the big one is, Ampere is real and Ampere is an absolute monster. As it turns out, the recentleaks were accurate in many if not most ways. Where Turing based RTX 2000GPUs were manufactured on TSMC's 12 nanometer FinFET process, which was actually derived fromtheir 16 nanometer process, Nvidia instead partnered with Samsung on a custom eight nanometerprocess for the RTX 3000 series. And the difference hereis much bigger than we got moving from Pascal to Turing. Here's the thing, forover three years now, G-Force GPUs have had in the neighborhood of 20 to 25 million transistorsper square millimeter, Ampere around 60 millionper square millimeter, that's over double, and breaking with what'sbecome their habit lately, they didn't just usethis increase in density to lower their own costs and keep selling a similar performance with some new features tacked on. The RTX 3080 boasts over 28 billion that's with a B transistors. What does that get us? Well for starters, PCI Express Gen 4, upgraded Tensor cores and Oh, and casually more thandouble the CUDA cores across the board. And here's the kicker, that'snot compared to the cards that each of the 3000 series GPU replaces, that's compared to theprevious generations step up. I'm not kidding, onpaper every Ampere card that was announced, even the3070 is faster than a 2080Ti. To find the last time that this happened, a third rundown GPU being faster than the previous flagship, I had to dig pretty deepthrough the archives. Here's a review fromAnandTech showing the 6600 GT beating the FX 5950. That was in 2004. And according to Nvidiathings are even better than they seem. They claim we are getting a1.9 times performance per watt improvement, 2.7 timesthe Shader performance, 1.7 times the Ray Tracing performance and 2.7 times the Tensor core performance, which in the real world translates to, sorry, you'll have togive me a second here. One metric, but ton. Nvidia showed another Marbless, fully Ray Traced graphics demo, but while Turing rendered at 720p (disgust) Ampere managed to get 1440pwith more sim complexity, that's huge and while to be fair, they had a little help from DLSS and from a new learningalgorithm that derives missing color data froman incomplete image to improve performance, optimizations as a concept are nothing new and the results here speak for themselves. Nvidia also got a newmemory signaling technique, which carries fourpossible values per cycle compared to only two, effectively doubling theamount of memory bandwidth while also increasing thefrequency significantly. So with the RTX 3080, you're gonna get 10 gigsand it's gonna run 320 Watts of rated power with theRTX 3070 getting 8 gigs of a more traditionalGDDR6 at a mere 220 Watts. Put that in context, a2080Ti was only 250 Watts. (exclaims) And Nvidia claims that that RTX 3070, even though it consumesless power is faster than the $1,200 2080Tiwith the new RTX 3080 doubling the performance of the 2080, and this is that 499 and 699 respectively. There's nothing else I can say. I'm absolutely mind blown. They even light up. But the question is, why? Why after all these yearsof driving GPU prices up has Nvidia decided to bestow upon us these benevolent prices. We've got a couple of theories. One is that RTX 2080 and 2070 sales were something of a disappointment. I mean, it's not thatthey were terrible cards, they just weren't avery compelling upgrade for anyone who already owneda high end 1000 series. So looking back then inwhatever the past version of a crystal ball is, it seems like Nvidia priced Turing high due to uncertain yields with TSMC, and then hoped that RTX Ray Tracing would be enough to carryit to the new price point. So then now, because Samsunghas worked with Nvidia to make this customeight nanometer process, presumably it's more reliable, which means that despitethe cost per wafer, almost certainly beinghigher as they tend to be as we keep shrinking the process lower, they're getting moreusable chips out of them working out to a much lower cost, which is great for consumers. I think it's fair to saythat this is shaping up to be an absolute unicorn of a GPU release. Make sure you guys aresubscribed by the way, so you don't miss our review. And there's also anotherangle to the pricing. With launch date set for theend of Q3 and beginning of Q4, it's pretty clear who Nvidiasees as the real competition for 3000 series. And it's not AMD, or atleast not directly anyway. It's Sony and Microsoftwith the Xbox Series X and PlayStation 5. And by getting outahead of those launches, Nvidia seems to be trying tosteal some of the thunder, hopefully preventing gamersfrom being lured away from PC, where Nvidia dominates overto consoles where they will, I don't know, I guessthere's Nintendo Switch. One big hand here, isthat just like the PS5, the RTX 3000 GPUs have theability to decompress data directly from an SSDattached to the system using direct storage. This means load times can be much shorter and the CPU doesn't need toget bogged down decompressing the gigantic assets thatmake up today's game worlds. Just like on the PlayStation 5 then, developers who leverage this technology can achieve more seamless loading and Asset Streaming thanwas previously possible. It also means that NVMEand even PCI Express Gen 4 might actually become useful for gamers where load times are notoriously CPU bound in spite of the storagespeed of modern systems. Nvidia is also hyper-focusedon content creation here, looking to lure streamersand Machinima enthusiasts with Nvidia Broadcast andNvidia Omniverse Machinima. Nvidia Broadcast includesa number of tools to apply effects to the microphone input, camera and speakers using Tensor cores in what looks like a continuationof what RTX boy started. So in addition to the noiseremoval that was possible before we can now without a green screen, automatically remove backgroundsand apply a blur effect or backdrop and more with whatlooks like very convincing effect compared to current solutions. Nvidia OmniverseMachinima or NOM, I guess, wash it down with a drinkwith our water bottle from lttstore.com. Okay. NOM, lets you importgame libraries and tools, apply materials, physics simulations, poses captured from webcams, automatic facial animationsfrom recorded audio and more to create a wholly unique scene for doing your own Machinima. It's kind of like Ansel, except that you get fullcontrol over the scene instead of just the camera. They provided a prettygreat looking example of a short clip of a siege to give us an idea ofwhat can be accomplished and quite frankly, I wouldn't be surprised ifdevelopers or even animators end up drafting scenesthis way, it's pretty cool. So then RTX 3000 muchless of a middle finger directly to Radeon Technologies Group and much more of a middlefinger to the consoles. Which isn't to say though, that Nvidia hasn't donesome extra credit work against RTG as well. Do you remember Radeon Anti-Lag and how Nvidia originally claimed that it was just a tweak that users could already do to their drivers, and then realized, oops,it's actually something more and then they releasedNvidia Ultra-Low Latency. Well now, they'reputting the cherry on top with what they're calling Nvidia Reflex, a driver path optimization technique that should be available toall GTX 1000 and newer users to reduce total systemlatency by up to roughly half. Now the exact mechanisms thatthey're exploiting to do this are currently unknown, but presumably there's acost of some sort somewhere and you'll probably lose abit of driver level control in the process. Finally, there's the one more thing. RTX 3090 is the formal nameof this generation's Titan. But Jensen lovingly referredto it as the BF GPU. It sucks back a rated 350 Watts, hence the fancy new 12pin power connector, has over 10,000 CUDA coresand 24 gigs of GDDR6X memory and comes in at 1499. Meaning it's certainlypriced like a Titan, but unlike the last coupleof generations of Titans, it also appears to be specked like a Titan and it might even be worththat obscene price tag. They rolled out an LG8K OLED TV to game on and demonstrated 8K 60 FPSgameplay using DLSS and RTX. Not only did the beefed up Tensor cores appear to handle 8K upscalingwithout breaking a sweat, the RTX 3090 can apparentlyeven record 8K HDR gameplay with Shadowplay. In fact, there's bits andpieces in the whole presentation that allude to upgrades across the board. AV1 codex support fordecode is now available and NVENC is presumably no different on the rest of the NPR cards,making 4K HDR Shadowplay a thing now. To go with it, it looks likewe're finally getting HDMI 2.1 and probably more, but we can figure all ofthat out in our review, for now all that's left to say is, \"Boy is it ever good to see the effects of more competition in thegaming hardware space?\" Even if it came from a bitof an unexpected direction. Unlike my sponsor Segways you guys always expect those, this time for FreshBooks. FreshBooks is the small businesscloud accounting solution that's built for owners. With FreshBooks you can work anywhere thanks to their mobile app, allowing you to createprofessional looking invoices in seconds on the go, snappictures of your receipts so you don't lose themand this is new on iOS, even automatically track your mileage so you can be organized and ready to maximize yourdeductions when tax time comes. With FreshBooks, you'llnever miss an update when a client has viewed your invoice or even when it becomesoverdue, it'll let you know, and you can get 50% offyour first three months of FreshBooks when yousign up for a paid plan at freshbooks.com/techtips. If you guys enjoyed this video and you'd like a bit of a refresher on what a bad GPU launch looks like, maybe go check out ourreview of the RTX 2080. It seems like Nvidia has learneda thing or two since then. (upbeat electric music) Or maybe check out our 8K gaming video. That was terrible. That's gonna be way better now. \n",
      "{'neg': 0.037, 'neu': 0.846, 'pos': 0.117, 'compound': 0.9994}\n"
     ]
    }
   ],
   "source": [
    "print(f'Title to score = {nvidia_cleaned_df[\"captionString\"][5]}')\n",
    "score = sid.polarity_scores(str(nvidia_cleaned_df[\"captionString\"][5]))\n",
    "print(score)"
   ]
  },
  {
   "cell_type": "code",
   "execution_count": 52,
   "metadata": {},
   "outputs": [
    {
     "name": "stdout",
     "output_type": "stream",
     "text": [
      "[['I', 'm', 'notready', 'to', 'hand', 'Nvidia', 'their', 'crown', 'until', 'we', 'seethe']]\n"
     ]
    }
   ],
   "source": [
    "# utilize regular expressions to split large stings into sentences that are centered around the key words\n",
    "import re\n",
    "\n",
    "text = \" allet wants to redefine the wallet with its compact frameand RFID blocking plates. Check out how they can helpkeep your wallet bulge down and use our offer code Linus to save 10% and getfree worldwide shipping. (upbeat music) Now, obviously I'm notready to hand Nvidia their crown until we seethe new cards for ourselves. But based on what they've shown, we are in for one heck of a ride. They announced well a lot andwe're gonna get to all of it, but the big one is, Ampere is real and Ampere is an absolute monster. As it turns out, the recentleaks were accurate in many if not most ways.\"\n",
    "\n",
    "\n",
    "def search(target, text, context=6):\n",
    "    # It's easier to use re.findall to split the string,\n",
    "    # as we get rid of the punctuation\n",
    "    words = re.findall(r\"\\w+\", text)\n",
    "\n",
    "    matches = (i for (i, w) in enumerate(words) if w.lower() == target)\n",
    "    for index in matches:\n",
    "        if index < context // 2:\n",
    "            yield words[0 : context + 1]\n",
    "        elif index > len(words) - context // 2 - 1:\n",
    "            yield words[-(context + 1) :]\n",
    "        else:\n",
    "            yield words[index - context // 2 : index + context // 2 + 1]\n",
    "\n",
    "\n",
    "print(list(search(\"nvidia\", text, 10)))"
   ]
  },
  {
   "cell_type": "code",
   "execution_count": 53,
   "metadata": {},
   "outputs": [
    {
     "data": {
      "text/plain": [
       "<generator object search at 0x00000201143A05C8>"
      ]
     },
     "execution_count": 53,
     "metadata": {},
     "output_type": "execute_result"
    }
   ],
   "source": [
    "search(\"nvidia\", text, 15)"
   ]
  },
  {
   "cell_type": "code",
   "execution_count": 59,
   "metadata": {},
   "outputs": [
    {
     "data": {
      "text/plain": [
       "[['save',\n",
       "  '10',\n",
       "  'and',\n",
       "  'getfree',\n",
       "  'worldwide',\n",
       "  'shipping',\n",
       "  'upbeat',\n",
       "  'music',\n",
       "  'Now',\n",
       "  'obviously',\n",
       "  'I',\n",
       "  'm',\n",
       "  'notready',\n",
       "  'to',\n",
       "  'hand',\n",
       "  'Nvidia',\n",
       "  'their',\n",
       "  'crown',\n",
       "  'until',\n",
       "  'we',\n",
       "  'seethe',\n",
       "  'new',\n",
       "  'cards',\n",
       "  'for',\n",
       "  'ourselves',\n",
       "  'But',\n",
       "  'based',\n",
       "  'on',\n",
       "  'what',\n",
       "  'they',\n",
       "  've']]"
      ]
     },
     "execution_count": 59,
     "metadata": {},
     "output_type": "execute_result"
    }
   ],
   "source": [
    "test_list_to_str = list(search(\"nvidia\", text, 30))\n",
    "test_list_to_str"
   ]
  },
  {
   "cell_type": "code",
   "execution_count": 60,
   "metadata": {},
   "outputs": [],
   "source": [
    "new_str = \" \".join(test_list_to_str[0])"
   ]
  },
  {
   "cell_type": "code",
   "execution_count": 61,
   "metadata": {},
   "outputs": [
    {
     "name": "stdout",
     "output_type": "stream",
     "text": [
      "{'neg': 0.0, 'neu': 0.808, 'pos': 0.192, 'compound': 0.7506}\n"
     ]
    }
   ],
   "source": [
    "score = sid.polarity_scores(new_str)\n",
    "print(score)"
   ]
  },
  {
   "cell_type": "markdown",
   "metadata": {},
   "source": [
    "### Flair Sentiment"
   ]
  },
  {
   "cell_type": "code",
   "execution_count": 64,
   "metadata": {},
   "outputs": [
    {
     "name": "stdout",
     "output_type": "stream",
     "text": [
      "2021-03-02 20:27:50,602 loading file C:\\Users\\Chris\\.flair\\models\\sentiment-en-mix-distillbert_3.1.pt\n",
      "Sentence above is:  [POSITIVE (0.8555)]\n"
     ]
    }
   ],
   "source": [
    "from flair.models import TextClassifier\n",
    "from flair.data import Sentence\n",
    "\n",
    "classifier = TextClassifier.load(\"en-sentiment\")\n",
    "sentence = Sentence(new_str)\n",
    "classifier.predict(sentence)\n",
    "# print sentence with predicted labels\n",
    "print(\"Sentence above is: \", sentence.labels)"
   ]
  },
  {
   "cell_type": "code",
   "execution_count": null,
   "metadata": {},
   "outputs": [],
   "source": []
  }
 ],
 "metadata": {
  "kernelspec": {
   "display_name": "Python 3",
   "language": "python",
   "name": "python3"
  },
  "language_info": {
   "codemirror_mode": {
    "name": "ipython",
    "version": 3
   },
   "file_extension": ".py",
   "mimetype": "text/x-python",
   "name": "python",
   "nbconvert_exporter": "python",
   "pygments_lexer": "ipython3",
   "version": "3.7.6"
  }
 },
 "nbformat": 4,
 "nbformat_minor": 4
}
