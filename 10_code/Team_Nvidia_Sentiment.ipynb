{
 "cells": [
  {
   "cell_type": "code",
   "execution_count": 1,
   "metadata": {},
   "outputs": [],
   "source": [
    "%load_ext lab_black"
   ]
  },
  {
   "cell_type": "code",
   "execution_count": 1,
   "metadata": {},
   "outputs": [],
   "source": [
    "import pandas as pd\n",
    "from nltk import tokenize\n",
    "import boto3\n",
    "import botocore\n",
    "from datetime import datetime\n",
    "import matplotlib.pylab as plt\n",
    "import yfinance as yf\n",
    "import re\n",
    "import nltk\n",
    "from nltk.sentiment.vader import SentimentIntensityAnalyzer\n",
    "from nltk.corpus import stopwords\n",
    "from numba import jit, prange"
   ]
  },
  {
   "cell_type": "code",
   "execution_count": 2,
   "metadata": {},
   "outputs": [
    {

     "name": "stdout",
     "output_type": "stream",
     "text": [
      "2021-03-10 10:31:53,031 loading file C:\\Users\\Chris\\.flair\\models\\sentiment-en-mix-distillbert_3.1.pt\n"
     ]
    }
   ],
   "source": [
    "# Load appropriate packages for sentiment analysis\n",
    "from flair.models import TextClassifier\n",
    "from flair.models import SequenceTagger\n",
    "from flair.data import Sentence\n",
    "from segtok.segmenter import split_single\n",
    "import pandas as pd\n",
    "import re\n",
    "\n",
    "\n",
    "classifier = TextClassifier.load(\"en-sentiment\")"
   ]
  },
  {
   "cell_type": "code",

   "execution_count": 6,
   "metadata": {},
   "outputs": [],
   "source": [
    "nvidia_cleaned_df = pd.read_csv(\"../00_data/Cleaned_Data_10MAR.gz\", compression=\"gzip\")"

   ]
  },
  {
   "cell_type": "code",
   "execution_count": 7,
   "metadata": {},
   "outputs": [],
   "source": [
    "nvidia_cleaned_df[\"VideoTitle\"] = nvidia_cleaned_df[\"VideoTitle\"].astype(\"str\")\n",
    "nvidia_cleaned_df[\"datePub\"] = pd.to_datetime(\n",
    "    nvidia_cleaned_df[\"datePub\"], format=\"%Y-%m-%d %H:%M:%S\", utc=True\n",
    ")\n",
    "nvidia_cleaned_df[\"searchedDate\"] = pd.to_datetime(\n",
    "    nvidia_cleaned_df[\"searchedDate\"], format=\"%Y-%m-%d %H:%M:%S\", utc=True\n",
    ")\n",
    "nvidia_cleaned_df[\"channelTitle\"] = nvidia_cleaned_df[\"channelTitle\"].astype(\"str\")\n",
    "nvidia_cleaned_df[\"viewCount\"] = nvidia_cleaned_df[\"viewCount\"].astype(\"int\")\n",
    "nvidia_cleaned_df[\"likeCount\"] = nvidia_cleaned_df[\"likeCount\"].astype(\"int\")\n",
    "nvidia_cleaned_df[\"dislikeCount\"] = nvidia_cleaned_df[\"dislikeCount\"].astype(\"int\")\n",
    "nvidia_cleaned_df[\"captionString\"] = nvidia_cleaned_df[\"captionString\"].astype(\"str\")"
   ]
  },
  {
   "cell_type": "code",
   "execution_count": 11,
   "metadata": {},
   "outputs": [
    {
     "data": {
      "text/plain": [
       "Unnamed: 0                     int64\n",
       "Index                          int64\n",
       "videoID                       object\n",
       "datePub          datetime64[ns, UTC]\n",
       "searchedDate     datetime64[ns, UTC]\n",
       "VideoTitle                    object\n",
       "channelTitle                  object\n",
       "viewCount                      int32\n",
       "likeCount                      int32\n",
       "dislikeCount                   int32\n",
       "captionString                 object\n",
       "Date             datetime64[ns, UTC]\n",
       "dtype: object"
      ]
     },
     "execution_count": 11,
     "metadata": {},
     "output_type": "execute_result"
    }
   ],
   "source": [
    "nvidia_cleaned_df.dtypes"
   ]
  },
  {
   "cell_type": "code",
   "execution_count": 16,
   "metadata": {},
   "outputs": [
    {
     "data": {
      "text/html": [
       "<div>\n",
       "<style scoped>\n",
       "    .dataframe tbody tr th:only-of-type {\n",
       "        vertical-align: middle;\n",
       "    }\n",
       "\n",
       "    .dataframe tbody tr th {\n",
       "        vertical-align: top;\n",
       "    }\n",
       "\n",
       "    .dataframe thead th {\n",
       "        text-align: right;\n",
       "    }\n",
       "</style>\n",
       "<table border=\"1\" class=\"dataframe\">\n",
       "  <thead>\n",
       "    <tr style=\"text-align: right;\">\n",
       "      <th></th>\n",
       "      <th>Unnamed: 0</th>\n",
       "      <th>Index</th>\n",
       "      <th>videoID</th>\n",
       "      <th>datePub</th>\n",
       "      <th>searchedDate</th>\n",
       "      <th>VideoTitle</th>\n",
       "      <th>channelTitle</th>\n",
       "      <th>viewCount</th>\n",
       "      <th>likeCount</th>\n",
       "      <th>dislikeCount</th>\n",
       "      <th>captionString</th>\n",
       "      <th>Date</th>\n",
       "    </tr>\n",
       "  </thead>\n",
       "  <tbody>\n",
       "    <tr>\n",
       "      <th>0</th>\n",
       "      <td>0</td>\n",
       "      <td>0</td>\n",
       "      <td>y4fb_R5Ogw0</td>\n",
       "      <td>2020-10-01 05:16:02+00:00</td>\n",
       "      <td>2020-10-02 01:45:21.553469+00:00</td>\n",
       "      <td>2x NVIDIA RTX 3090 SLI Benchmarks: 500FPS, 700...</td>\n",
       "      <td>Gamers Nexus</td>\n",
       "      <td>367472</td>\n",
       "      <td>15701</td>\n",
       "      <td>260</td>\n",
       "      <td>so this setup that you're seeing is what we ha...</td>\n",
       "      <td>2020-10-02</td>\n",
       "    </tr>\n",
       "    <tr>\n",
       "      <th>1</th>\n",
       "      <td>1</td>\n",
       "      <td>1</td>\n",
       "      <td>ALEXVtnNEwA</td>\n",
       "      <td>2020-09-01 17:15:57+00:00</td>\n",
       "      <td>2020-10-02 01:45:22.351801+00:00</td>\n",
       "      <td>NVIDIA GeForce Special Event Livestream</td>\n",
       "      <td>IGN</td>\n",
       "      <td>543115</td>\n",
       "      <td>16860</td>\n",
       "      <td>411</td>\n",
       "      <td>b welcome to my kitchen i hope all of you are ...</td>\n",
       "      <td>2020-10-02</td>\n",
       "    </tr>\n",
       "    <tr>\n",
       "      <th>2</th>\n",
       "      <td>2</td>\n",
       "      <td>2</td>\n",
       "      <td>E98hC9e__Xs</td>\n",
       "      <td>2020-09-01 16:42:07+00:00</td>\n",
       "      <td>2020-10-02 01:45:23.252012+00:00</td>\n",
       "      <td>NVIDIA GeForce RTX 30 Series | Official Launch...</td>\n",
       "      <td>NVIDIA GeForce</td>\n",
       "      <td>1484075</td>\n",
       "      <td>54741</td>\n",
       "      <td>1135</td>\n",
       "      <td>Welcome to my kitchen. I hope all of you are...</td>\n",
       "      <td>2020-10-02</td>\n",
       "    </tr>\n",
       "    <tr>\n",
       "      <th>3</th>\n",
       "      <td>3</td>\n",
       "      <td>3</td>\n",
       "      <td>nMns8t4OhI0</td>\n",
       "      <td>2020-09-30 23:00:06+00:00</td>\n",
       "      <td>2020-10-02 01:45:23.922084+00:00</td>\n",
       "      <td>NVIDIA Responds to RTX 3080 Crashes...</td>\n",
       "      <td>JayzTwoCents</td>\n",
       "      <td>561238</td>\n",
       "      <td>27766</td>\n",
       "      <td>885</td>\n",
       "      <td>nan</td>\n",
       "      <td>2020-10-02</td>\n",
       "    </tr>\n",
       "    <tr>\n",
       "      <th>4</th>\n",
       "      <td>4</td>\n",
       "      <td>4</td>\n",
       "      <td>AG_ZHi3tuyk</td>\n",
       "      <td>2020-09-16 12:59:59+00:00</td>\n",
       "      <td>2020-10-02 01:45:24.592244+00:00</td>\n",
       "      <td>Nvidia, you PROMISED! - RTX 3080 Review</td>\n",
       "      <td>Linus Tech Tips</td>\n",
       "      <td>3391565</td>\n",
       "      <td>141852</td>\n",
       "      <td>3961</td>\n",
       "      <td>- The RTX 3080 is the most powerful GPU we've ...</td>\n",
       "      <td>2020-10-02</td>\n",
       "    </tr>\n",
       "  </tbody>\n",
       "</table>\n",
       "</div>"
      ],
      "text/plain": [
       "   Unnamed: 0  Index      videoID                   datePub  \\\n",
       "0           0      0  y4fb_R5Ogw0 2020-10-01 05:16:02+00:00   \n",
       "1           1      1  ALEXVtnNEwA 2020-09-01 17:15:57+00:00   \n",
       "2           2      2  E98hC9e__Xs 2020-09-01 16:42:07+00:00   \n",
       "3           3      3  nMns8t4OhI0 2020-09-30 23:00:06+00:00   \n",
       "4           4      4  AG_ZHi3tuyk 2020-09-16 12:59:59+00:00   \n",
       "\n",
       "                      searchedDate  \\\n",
       "0 2020-10-02 01:45:21.553469+00:00   \n",
       "1 2020-10-02 01:45:22.351801+00:00   \n",
       "2 2020-10-02 01:45:23.252012+00:00   \n",
       "3 2020-10-02 01:45:23.922084+00:00   \n",
       "4 2020-10-02 01:45:24.592244+00:00   \n",
       "\n",
       "                                          VideoTitle     channelTitle  \\\n",
       "0  2x NVIDIA RTX 3090 SLI Benchmarks: 500FPS, 700...     Gamers Nexus   \n",
       "1            NVIDIA GeForce Special Event Livestream              IGN   \n",
       "2  NVIDIA GeForce RTX 30 Series | Official Launch...   NVIDIA GeForce   \n",
       "3             NVIDIA Responds to RTX 3080 Crashes...     JayzTwoCents   \n",
       "4            Nvidia, you PROMISED! - RTX 3080 Review  Linus Tech Tips   \n",
       "\n",
       "   viewCount  likeCount  dislikeCount  \\\n",
       "0     367472      15701           260   \n",
       "1     543115      16860           411   \n",
       "2    1484075      54741          1135   \n",
       "3     561238      27766           885   \n",
       "4    3391565     141852          3961   \n",
       "\n",
       "                                       captionString        Date  \n",
       "0  so this setup that you're seeing is what we ha...  2020-10-02  \n",
       "1  b welcome to my kitchen i hope all of you are ...  2020-10-02  \n",
       "2    Welcome to my kitchen. I hope all of you are...  2020-10-02  \n",
       "3                                                nan  2020-10-02  \n",
       "4  - The RTX 3080 is the most powerful GPU we've ...  2020-10-02  "
      ]
     },
     "execution_count": 16,
     "metadata": {},
     "output_type": "execute_result"
    }
   ],
   "source": [
    "nvidia_cleaned_df.head()"
   ]
  },
  {
   "cell_type": "code",
   "execution_count": 15,
   "metadata": {},
   "outputs": [],
   "source": [
    "nvidia_cleaned_df[\"Date\"] = pd.to_datetime(\n",
    "    nvidia_cleaned_df[\"searchedDate\"], format=\"%Y-%m-%d\", utc=True\n",
    ").dt.date"
   ]
  },
  {
   "cell_type": "code",
   "execution_count": 9,
   "metadata": {},
   "outputs": [
    {
     "ename": "AttributeError",
     "evalue": "'Series' object has no attribute 'Timestamp'",
     "output_type": "error",
     "traceback": [
      "\u001b[1;31m---------------------------------------------------------------------------\u001b[0m",
      "\u001b[1;31mAttributeError\u001b[0m                            Traceback (most recent call last)",
      "\u001b[1;32m<ipython-input-9-fcb1d11b4b6c>\u001b[0m in \u001b[0;36m<module>\u001b[1;34m\u001b[0m\n\u001b[1;32m----> 1\u001b[1;33m \u001b[0mnvidia_cleaned_df\u001b[0m\u001b[1;33m[\u001b[0m\u001b[1;34m\"Date\"\u001b[0m\u001b[1;33m]\u001b[0m \u001b[1;33m=\u001b[0m \u001b[0mnvidia_cleaned_df\u001b[0m\u001b[1;33m[\u001b[0m\u001b[1;34m\"searchedDate\"\u001b[0m\u001b[1;33m]\u001b[0m\u001b[1;33m.\u001b[0m\u001b[0mTimestamp\u001b[0m\u001b[1;33m.\u001b[0m\u001b[0mday_of_year\u001b[0m\u001b[1;33m\u001b[0m\u001b[1;33m\u001b[0m\u001b[0m\n\u001b[0m",
      "\u001b[1;32m~\\anaconda3\\lib\\site-packages\\pandas\\core\\generic.py\u001b[0m in \u001b[0;36m__getattr__\u001b[1;34m(self, name)\u001b[0m\n\u001b[0;32m   5177\u001b[0m             \u001b[1;32mif\u001b[0m \u001b[0mself\u001b[0m\u001b[1;33m.\u001b[0m\u001b[0m_info_axis\u001b[0m\u001b[1;33m.\u001b[0m\u001b[0m_can_hold_identifiers_and_holds_name\u001b[0m\u001b[1;33m(\u001b[0m\u001b[0mname\u001b[0m\u001b[1;33m)\u001b[0m\u001b[1;33m:\u001b[0m\u001b[1;33m\u001b[0m\u001b[1;33m\u001b[0m\u001b[0m\n\u001b[0;32m   5178\u001b[0m                 \u001b[1;32mreturn\u001b[0m \u001b[0mself\u001b[0m\u001b[1;33m[\u001b[0m\u001b[0mname\u001b[0m\u001b[1;33m]\u001b[0m\u001b[1;33m\u001b[0m\u001b[1;33m\u001b[0m\u001b[0m\n\u001b[1;32m-> 5179\u001b[1;33m             \u001b[1;32mreturn\u001b[0m \u001b[0mobject\u001b[0m\u001b[1;33m.\u001b[0m\u001b[0m__getattribute__\u001b[0m\u001b[1;33m(\u001b[0m\u001b[0mself\u001b[0m\u001b[1;33m,\u001b[0m \u001b[0mname\u001b[0m\u001b[1;33m)\u001b[0m\u001b[1;33m\u001b[0m\u001b[1;33m\u001b[0m\u001b[0m\n\u001b[0m\u001b[0;32m   5180\u001b[0m \u001b[1;33m\u001b[0m\u001b[0m\n\u001b[0;32m   5181\u001b[0m     \u001b[1;32mdef\u001b[0m \u001b[0m__setattr__\u001b[0m\u001b[1;33m(\u001b[0m\u001b[0mself\u001b[0m\u001b[1;33m,\u001b[0m \u001b[0mname\u001b[0m\u001b[1;33m,\u001b[0m \u001b[0mvalue\u001b[0m\u001b[1;33m)\u001b[0m\u001b[1;33m:\u001b[0m\u001b[1;33m\u001b[0m\u001b[1;33m\u001b[0m\u001b[0m\n",
      "\u001b[1;31mAttributeError\u001b[0m: 'Series' object has no attribute 'Timestamp'"
     ]
    }
   ],
   "source": [
    "nvidia_cleaned_df[\"Date\"] = nvidia_cleaned_df[\"searchedDate\"].Timestamp.day_of_year"
   ]
  },
  {
   "cell_type": "markdown",
   "metadata": {},
   "source": [
    "Vader Sentiment"
   ]
  },
  {
   "cell_type": "code",
   "execution_count": null,
   "metadata": {},
   "outputs": [],
   "source": [
    "# load vader sentiment for comparing the uncleaned strings to the modified ones\n",
    "from nltk.sentiment.vader import SentimentIntensityAnalyzer\n",
    "\n",
    "sid = SentimentIntensityAnalyzer()"
   ]
  },
  {
   "cell_type": "code",
   "execution_count": null,
   "metadata": {},
   "outputs": [],
   "source": [
    "nvidia_cleaned_df.columns"
   ]
  },
  {
   "cell_type": "code",
   "execution_count": null,
   "metadata": {},
   "outputs": [],
   "source": [
    "print(f'Title to score = {nvidia_cleaned_df[\"captionString\"][5]}')\n",
    "score = sid.polarity_scores(str(nvidia_cleaned_df[\"captionString\"][5]))\n",
    "print(score)"
   ]
  },
  {
   "cell_type": "code",
   "execution_count": null,
   "metadata": {},
   "outputs": [],
   "source": [
    "# utilize regular expressions to split large stings into sentences that are centered around the key words\n",
    "import re\n",
    "\n",
    "text = \" allet wants to redefine the wallet with its compact frameand RFID blocking plates. Check out how they can helpkeep your wallet bulge down and use our offer code Linus to save 10% and getfree worldwide shipping. (upbeat music) Now, obviously I'm notready to hand Nvidia their crown until we seethe new cards for ourselves. But based on what they've shown, we are in for one heck of a ride. They announced well a lot andwe're gonna get to all of it, but the big one is, Ampere is real and Ampere is an absolute monster. As it turns out, the recentleaks were accurate in many if not most ways.\"\n",
    "\n",
    "\n",
    "def search(target, text, context=6):\n",
    "    # It's easier to use re.findall to split the string,\n",
    "    # as we get rid of the punctuation\n",
    "    words = re.findall(r\"\\w+\", text)\n",
    "\n",
    "    matches = (i for (i, w) in enumerate(words) if w.lower() == target)\n",
    "    for index in matches:\n",
    "        if index < context // 2:\n",
    "            yield words[0 : context + 1]\n",
    "        elif index > len(words) - context // 2 - 1:\n",
    "            yield words[-(context + 1) :]\n",
    "        else:\n",
    "            yield words[index - context // 2 : index + context // 2 + 1]\n",
    "\n",
    "\n",
    "print(list(search(\"nvidia\", text, 10)))"
   ]
  },
  {
   "cell_type": "code",
   "execution_count": null,
   "metadata": {},
   "outputs": [],
   "source": [
    "search(\"nvidia\", text, 15)"
   ]
  },
  {
   "cell_type": "code",
   "execution_count": null,
   "metadata": {},
   "outputs": [],
   "source": [
    "test_list_to_str = list(search(\"nvidia\", text, 30))\n",
    "test_list_to_str"
   ]
  },
  {
   "cell_type": "code",
   "execution_count": null,
   "metadata": {},
   "outputs": [],
   "source": [
    "new_str = \" \".join(test_list_to_str[0])"
   ]
  },
  {
   "cell_type": "code",
   "execution_count": null,
   "metadata": {},
   "outputs": [],
   "source": [
    "score = sid.polarity_scores(new_str)\n",
    "print(score)"
   ]
  },
  {
   "cell_type": "markdown",
   "metadata": {},
   "source": [
    "### Flair Sentiment"
   ]
  },
  {
   "cell_type": "code",
   "execution_count": 4,
   "metadata": {},
   "outputs": [
    {
     "name": "stdout",
     "output_type": "stream",
     "text": [
      "2021-03-31 16:22:31,677 loading file C:\\Users\\Chris\\.flair\\models\\sentiment-en-mix-distillbert_4.pt\n",
      "Sentence above is:  [POSITIVE (0.998)]\n"
     ]
    }
   ],
   "source": [
    "from flair.models import TextClassifier\n",
    "from flair.data import Sentence\n",
    "\n",
    "classifier = TextClassifier.load(\"en-sentiment\")\n",
    "sentence = Sentence(\"Happy to be here\")\n",
    "classifier.predict(sentence)\n",
    "# print sentence with predicted labels\n",
    "print(\"Sentence above is: \", sentence.labels)"
   ]
  },
  {
   "cell_type": "code",
   "execution_count": 5,
   "metadata": {},
   "outputs": [
    {
     "data": {
      "text/plain": [
       "[POSITIVE (0.998)]"
      ]
     },
     "execution_count": 5,
     "metadata": {},
     "output_type": "execute_result"
    }
   ],
   "source": [
    "sentence.labels"
   ]
  },
  {
   "cell_type": "code",
   "execution_count": 6,
   "metadata": {},
   "outputs": [],
   "source": [
    "sentence = Sentence(\"Happy to be here\")\n",
    "classifier.predict(sentence)"
   ]
  },
  {
   "cell_type": "code",
   "execution_count": null,
   "metadata": {},
   "outputs": [],
   "source": []
  }
 ],
 "metadata": {
  "kernelspec": {
   "display_name": "Python 3",
   "language": "python",
   "name": "python3"
  },
  "language_info": {
   "codemirror_mode": {
    "name": "ipython",
    "version": 3
   },
   "file_extension": ".py",
   "mimetype": "text/x-python",
   "name": "python",
   "nbconvert_exporter": "python",
   "pygments_lexer": "ipython3",

   "version": "3.8.5"
  }
 },
 "nbformat": 4,
 "nbformat_minor": 4
}
